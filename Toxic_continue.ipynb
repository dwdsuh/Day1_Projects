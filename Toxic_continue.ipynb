{
  "nbformat": 4,
  "nbformat_minor": 0,
  "metadata": {
    "colab": {
      "name": "Toxic_continue.ipynb",
      "version": "0.3.2",
      "provenance": [],
      "collapsed_sections": [],
      "include_colab_link": true
    },
    "kernelspec": {
      "name": "python3",
      "display_name": "Python 3"
    },
    "accelerator": "TPU"
  },
  "cells": [
    {
      "cell_type": "markdown",
      "metadata": {
        "id": "view-in-github",
        "colab_type": "text"
      },
      "source": [
        "<a href=\"https://colab.research.google.com/github/dwdsuh/Day1_Projects/blob/master/Toxic_continue.ipynb\" target=\"_parent\"><img src=\"https://colab.research.google.com/assets/colab-badge.svg\" alt=\"Open In Colab\"/></a>"
      ]
    },
    {
      "metadata": {
        "id": "E00l8WQbdhOh",
        "colab_type": "code",
        "outputId": "589b1ad6-4549-4569-8f28-83db1d601f25",
        "colab": {
          "base_uri": "https://localhost:8080/",
          "height": 35
        }
      },
      "cell_type": "code",
      "source": [
        "from google.colab import drive\n",
        "drive.mount('/gdrive')"
      ],
      "execution_count": 0,
      "outputs": [
        {
          "output_type": "stream",
          "text": [
            "Drive already mounted at /gdrive; to attempt to forcibly remount, call drive.mount(\"/gdrive\", force_remount=True).\n"
          ],
          "name": "stdout"
        }
      ]
    },
    {
      "metadata": {
        "id": "huj4_vO-dn9x",
        "colab_type": "code",
        "colab": {}
      },
      "cell_type": "code",
      "source": [
        "import os\n",
        "os.chdir('/gdrive/My Drive/project/Toxic')\n"
      ],
      "execution_count": 0,
      "outputs": []
    },
    {
      "metadata": {
        "id": "oXjf87XKd4JY",
        "colab_type": "code",
        "colab": {}
      },
      "cell_type": "code",
      "source": [
        "import pandas as pd\n",
        "df=pd.read_csv(\"train.csv\")\n",
        "\n",
        "x=df.iloc[:,1:2]\n",
        "y=df.iloc[:,2:]"
      ],
      "execution_count": 0,
      "outputs": []
    },
    {
      "metadata": {
        "id": "QDMU9_Z5HYyh",
        "colab_type": "code",
        "outputId": "452fb794-c696-4734-ed36-f7d6a8b60c3f",
        "colab": {
          "base_uri": "https://localhost:8080/",
          "height": 97
        }
      },
      "cell_type": "code",
      "source": [
        "df.loc[df[\"toxic\"]==1].head(1)"
      ],
      "execution_count": 0,
      "outputs": [
        {
          "output_type": "execute_result",
          "data": {
            "text/html": [
              "<div>\n",
              "<style scoped>\n",
              "    .dataframe tbody tr th:only-of-type {\n",
              "        vertical-align: middle;\n",
              "    }\n",
              "\n",
              "    .dataframe tbody tr th {\n",
              "        vertical-align: top;\n",
              "    }\n",
              "\n",
              "    .dataframe thead th {\n",
              "        text-align: right;\n",
              "    }\n",
              "</style>\n",
              "<table border=\"1\" class=\"dataframe\">\n",
              "  <thead>\n",
              "    <tr style=\"text-align: right;\">\n",
              "      <th></th>\n",
              "      <th>id</th>\n",
              "      <th>comment_text</th>\n",
              "      <th>toxic</th>\n",
              "      <th>severe_toxic</th>\n",
              "      <th>obscene</th>\n",
              "      <th>threat</th>\n",
              "      <th>insult</th>\n",
              "      <th>identity_hate</th>\n",
              "    </tr>\n",
              "  </thead>\n",
              "  <tbody>\n",
              "    <tr>\n",
              "      <th>6</th>\n",
              "      <td>0002bcb3da6cb337</td>\n",
              "      <td>COCKSUCKER BEFORE YOU PISS AROUND ON MY WORK</td>\n",
              "      <td>1</td>\n",
              "      <td>1</td>\n",
              "      <td>1</td>\n",
              "      <td>0</td>\n",
              "      <td>1</td>\n",
              "      <td>0</td>\n",
              "    </tr>\n",
              "  </tbody>\n",
              "</table>\n",
              "</div>"
            ],
            "text/plain": [
              "                 id                                  comment_text  toxic  \\\n",
              "6  0002bcb3da6cb337  COCKSUCKER BEFORE YOU PISS AROUND ON MY WORK      1   \n",
              "\n",
              "   severe_toxic  obscene  threat  insult  identity_hate  \n",
              "6             1        1       0       1              0  "
            ]
          },
          "metadata": {
            "tags": []
          },
          "execution_count": 58
        }
      ]
    },
    {
      "metadata": {
        "id": "1pEmzo2NREiz",
        "colab_type": "code",
        "outputId": "1585fcb6-d62d-4527-dcb8-785d4269229b",
        "colab": {
          "base_uri": "https://localhost:8080/",
          "height": 71
        }
      },
      "cell_type": "code",
      "source": [
        "for i,j in enumerate(['>~<' in i for i in df['comment_text']]):\n",
        "  if j==True:\n",
        "    print(i)"
      ],
      "execution_count": 0,
      "outputs": [
        {
          "output_type": "stream",
          "text": [
            "31232\n",
            "152298\n",
            "156133\n"
          ],
          "name": "stdout"
        }
      ]
    },
    {
      "metadata": {
        "id": "3qnXWxzaT8Up",
        "colab_type": "code",
        "outputId": "b84e3a85-31da-4b81-ff4b-8fe0954b7fef",
        "colab": {
          "base_uri": "https://localhost:8080/",
          "height": 377
        }
      },
      "cell_type": "code",
      "source": [
        "print(df['comment_text'][152298])"
      ],
      "execution_count": 0,
      "outputs": [
        {
          "output_type": "stream",
          "text": [
            "\"\n",
            "SURPRISE!\n",
            "                    /\"\"\\\n",
            "                   |\\./|\n",
            "                   |   |\n",
            "                   |   |\n",
            "                   |>~<|\n",
            "                   |   |\n",
            "                /'\\|   |/'\\..\n",
            "            /~\\|   |   |   | \\\n",
            "           |   =[@]=   |   |  \\\n",
            "           |   |   |   |   |   \\\n",
            "           | ~   ~   ~   ~ |`   )\n",
            "           |                   /\n",
            "            \\                 /\n",
            "             \\               /\n",
            "              \\    _____    /\n",
            "               |//''`\\|\n",
            "               | (( +==)) |\n",
            "               |\\_|_//|\"\n"
          ],
          "name": "stdout"
        }
      ]
    },
    {
      "metadata": {
        "id": "u97WNIt7UMuE",
        "colab_type": "code",
        "outputId": "a2c2687a-e9b5-449a-f84a-11f90c40dfeb",
        "colab": {
          "base_uri": "https://localhost:8080/",
          "height": 179
        }
      },
      "cell_type": "code",
      "source": [
        "df.iloc[152298, :]"
      ],
      "execution_count": 0,
      "outputs": [
        {
          "output_type": "execute_result",
          "data": {
            "text/plain": [
              "id                                                8b20912530eebd56\n",
              "comment_text     \"\\nSURPRISE!\\n                    /\"\"\\\\n      ...\n",
              "toxic                                                            0\n",
              "severe_toxic                                                     0\n",
              "obscene                                                          0\n",
              "threat                                                           0\n",
              "insult                                                           0\n",
              "identity_hate                                                    0\n",
              "Name: 152298, dtype: object"
            ]
          },
          "metadata": {
            "tags": []
          },
          "execution_count": 84
        }
      ]
    },
    {
      "metadata": {
        "id": "S8fdqzs-Jdm9",
        "colab_type": "code",
        "outputId": "4737987e-4382-40c2-9f86-9012fe78526d",
        "colab": {
          "base_uri": "https://localhost:8080/",
          "height": 204
        }
      },
      "cell_type": "code",
      "source": [
        "x.head(5)"
      ],
      "execution_count": 0,
      "outputs": [
        {
          "output_type": "execute_result",
          "data": {
            "text/html": [
              "<div>\n",
              "<style scoped>\n",
              "    .dataframe tbody tr th:only-of-type {\n",
              "        vertical-align: middle;\n",
              "    }\n",
              "\n",
              "    .dataframe tbody tr th {\n",
              "        vertical-align: top;\n",
              "    }\n",
              "\n",
              "    .dataframe thead th {\n",
              "        text-align: right;\n",
              "    }\n",
              "</style>\n",
              "<table border=\"1\" class=\"dataframe\">\n",
              "  <thead>\n",
              "    <tr style=\"text-align: right;\">\n",
              "      <th></th>\n",
              "      <th>comment_text</th>\n",
              "    </tr>\n",
              "  </thead>\n",
              "  <tbody>\n",
              "    <tr>\n",
              "      <th>0</th>\n",
              "      <td>Explanation\\nWhy the edits made under my usern...</td>\n",
              "    </tr>\n",
              "    <tr>\n",
              "      <th>1</th>\n",
              "      <td>D'aww! He matches this background colour I'm s...</td>\n",
              "    </tr>\n",
              "    <tr>\n",
              "      <th>2</th>\n",
              "      <td>Hey man, I'm really not trying to edit war. It...</td>\n",
              "    </tr>\n",
              "    <tr>\n",
              "      <th>3</th>\n",
              "      <td>\"\\nMore\\nI can't make any real suggestions on ...</td>\n",
              "    </tr>\n",
              "    <tr>\n",
              "      <th>4</th>\n",
              "      <td>You, sir, are my hero. Any chance you remember...</td>\n",
              "    </tr>\n",
              "  </tbody>\n",
              "</table>\n",
              "</div>"
            ],
            "text/plain": [
              "                                        comment_text\n",
              "0  Explanation\\nWhy the edits made under my usern...\n",
              "1  D'aww! He matches this background colour I'm s...\n",
              "2  Hey man, I'm really not trying to edit war. It...\n",
              "3  \"\\nMore\\nI can't make any real suggestions on ...\n",
              "4  You, sir, are my hero. Any chance you remember..."
            ]
          },
          "metadata": {
            "tags": []
          },
          "execution_count": 59
        }
      ]
    },
    {
      "metadata": {
        "id": "wZBowLrJHjMH",
        "colab_type": "code",
        "outputId": "9026dca7-0a05-4e64-e0d9-64c578f8f987",
        "colab": {
          "base_uri": "https://localhost:8080/",
          "height": 204
        }
      },
      "cell_type": "code",
      "source": [
        "y.head(5)"
      ],
      "execution_count": 0,
      "outputs": [
        {
          "output_type": "execute_result",
          "data": {
            "text/html": [
              "<div>\n",
              "<style scoped>\n",
              "    .dataframe tbody tr th:only-of-type {\n",
              "        vertical-align: middle;\n",
              "    }\n",
              "\n",
              "    .dataframe tbody tr th {\n",
              "        vertical-align: top;\n",
              "    }\n",
              "\n",
              "    .dataframe thead th {\n",
              "        text-align: right;\n",
              "    }\n",
              "</style>\n",
              "<table border=\"1\" class=\"dataframe\">\n",
              "  <thead>\n",
              "    <tr style=\"text-align: right;\">\n",
              "      <th></th>\n",
              "      <th>toxic</th>\n",
              "      <th>severe_toxic</th>\n",
              "      <th>obscene</th>\n",
              "      <th>threat</th>\n",
              "      <th>insult</th>\n",
              "      <th>identity_hate</th>\n",
              "    </tr>\n",
              "  </thead>\n",
              "  <tbody>\n",
              "    <tr>\n",
              "      <th>0</th>\n",
              "      <td>0</td>\n",
              "      <td>0</td>\n",
              "      <td>0</td>\n",
              "      <td>0</td>\n",
              "      <td>0</td>\n",
              "      <td>0</td>\n",
              "    </tr>\n",
              "    <tr>\n",
              "      <th>1</th>\n",
              "      <td>0</td>\n",
              "      <td>0</td>\n",
              "      <td>0</td>\n",
              "      <td>0</td>\n",
              "      <td>0</td>\n",
              "      <td>0</td>\n",
              "    </tr>\n",
              "    <tr>\n",
              "      <th>2</th>\n",
              "      <td>0</td>\n",
              "      <td>0</td>\n",
              "      <td>0</td>\n",
              "      <td>0</td>\n",
              "      <td>0</td>\n",
              "      <td>0</td>\n",
              "    </tr>\n",
              "    <tr>\n",
              "      <th>3</th>\n",
              "      <td>0</td>\n",
              "      <td>0</td>\n",
              "      <td>0</td>\n",
              "      <td>0</td>\n",
              "      <td>0</td>\n",
              "      <td>0</td>\n",
              "    </tr>\n",
              "    <tr>\n",
              "      <th>4</th>\n",
              "      <td>0</td>\n",
              "      <td>0</td>\n",
              "      <td>0</td>\n",
              "      <td>0</td>\n",
              "      <td>0</td>\n",
              "      <td>0</td>\n",
              "    </tr>\n",
              "  </tbody>\n",
              "</table>\n",
              "</div>"
            ],
            "text/plain": [
              "   toxic  severe_toxic  obscene  threat  insult  identity_hate\n",
              "0      0             0        0       0       0              0\n",
              "1      0             0        0       0       0              0\n",
              "2      0             0        0       0       0              0\n",
              "3      0             0        0       0       0              0\n",
              "4      0             0        0       0       0              0"
            ]
          },
          "metadata": {
            "tags": []
          },
          "execution_count": 54
        }
      ]
    },
    {
      "metadata": {
        "id": "ysu3ewymja3T",
        "colab_type": "code",
        "outputId": "1ad18ae9-af73-420f-8a15-f03d4768d89f",
        "colab": {
          "base_uri": "https://localhost:8080/",
          "height": 743
        }
      },
      "cell_type": "code",
      "source": [
        "import numpy as np\n",
        "import matplotlib.pyplot as plt\n",
        "np.mean([len(i.split(\" \")) for i in x.values.flatten()])\n",
        "plt.hist([len(i.split(\" \")) for i in x.values.flatten()], bins=50)"
      ],
      "execution_count": 0,
      "outputs": [
        {
          "output_type": "execute_result",
          "data": {
            "text/plain": [
              "(array([9.3873e+04, 3.3657e+04, 1.3497e+04, 6.5950e+03, 3.8250e+03,\n",
              "        2.4140e+03, 1.3310e+03, 8.3000e+02, 6.2600e+02, 4.4700e+02,\n",
              "        3.7300e+02, 3.1500e+02, 2.8300e+02, 2.8400e+02, 2.7700e+02,\n",
              "        2.6100e+02, 2.2400e+02, 1.8900e+02, 1.4300e+02, 4.9000e+01,\n",
              "        2.1000e+01, 1.3000e+01, 5.0000e+00, 7.0000e+00, 5.0000e+00,\n",
              "        3.0000e+00, 3.0000e+00, 1.1000e+01, 0.0000e+00, 2.0000e+00,\n",
              "        2.0000e+00, 2.0000e+00, 0.0000e+00, 0.0000e+00, 1.0000e+00,\n",
              "        0.0000e+00, 0.0000e+00, 0.0000e+00, 0.0000e+00, 0.0000e+00,\n",
              "        0.0000e+00, 0.0000e+00, 0.0000e+00, 0.0000e+00, 2.0000e+00,\n",
              "        0.0000e+00, 0.0000e+00, 0.0000e+00, 0.0000e+00, 1.0000e+00]),\n",
              " array([1.00000e+00, 4.64400e+01, 9.18800e+01, 1.37320e+02, 1.82760e+02,\n",
              "        2.28200e+02, 2.73640e+02, 3.19080e+02, 3.64520e+02, 4.09960e+02,\n",
              "        4.55400e+02, 5.00840e+02, 5.46280e+02, 5.91720e+02, 6.37160e+02,\n",
              "        6.82600e+02, 7.28040e+02, 7.73480e+02, 8.18920e+02, 8.64360e+02,\n",
              "        9.09800e+02, 9.55240e+02, 1.00068e+03, 1.04612e+03, 1.09156e+03,\n",
              "        1.13700e+03, 1.18244e+03, 1.22788e+03, 1.27332e+03, 1.31876e+03,\n",
              "        1.36420e+03, 1.40964e+03, 1.45508e+03, 1.50052e+03, 1.54596e+03,\n",
              "        1.59140e+03, 1.63684e+03, 1.68228e+03, 1.72772e+03, 1.77316e+03,\n",
              "        1.81860e+03, 1.86404e+03, 1.90948e+03, 1.95492e+03, 2.00036e+03,\n",
              "        2.04580e+03, 2.09124e+03, 2.13668e+03, 2.18212e+03, 2.22756e+03,\n",
              "        2.27300e+03]),\n",
              " <a list of 50 Patch objects>)"
            ]
          },
          "metadata": {
            "tags": []
          },
          "execution_count": 5
        },
        {
          "output_type": "display_data",
          "data": {
            "image/png": "[encoded data removed]",
            "text/plain": [
              "<Figure size 576x396 with 1 Axes>"
            ]
          },
          "metadata": {
            "tags": []
          }
        }
      ]
    },
    {
      "metadata": {
        "id": "ykdfydqyt-oy",
        "colab_type": "text"
      },
      "cell_type": "markdown",
      "source": [
        "the majority of texts contains approximately 200 words. Therefore, im gon set max_len=200"
      ]
    },
    {
      "metadata": {
        "id": "nVdv2XwkcsYu",
        "colab_type": "code",
        "colab": {}
      },
      "cell_type": "code",
      "source": [
        "#os.mkdir('toxic3')\n",
        "os.chdir('toxic3')"
      ],
      "execution_count": 0,
      "outputs": []
    },
    {
      "metadata": {
        "id": "RoKTUTvzeolI",
        "colab_type": "code",
        "outputId": "044f68f4-f599-46d3-c7b5-02a8e03b8286",
        "colab": {
          "base_uri": "https://localhost:8080/",
          "height": 35
        }
      },
      "cell_type": "code",
      "source": [
        "os.getcwd()"
      ],
      "execution_count": 0,
      "outputs": [
        {
          "output_type": "execute_result",
          "data": {
            "text/plain": [
              "'/gdrive/My Drive/project/Toxic/toxic3'"
            ]
          },
          "metadata": {
            "tags": []
          },
          "execution_count": 5
        }
      ]
    },
    {
      "metadata": {
        "id": "2N6amh3NhFkk",
        "colab_type": "code",
        "colab": {}
      },
      "cell_type": "code",
      "source": [
        "from sklearn.model_selection import train_test_split\n",
        "\n",
        "x_train, x_test, y_train, y_test=train_test_split(x,y,\n",
        "                                                 test_size=0.2,\n",
        "                                                 random_state=42)\n",
        "\n",
        "x_train=x_train.values.flatten()\n",
        "x_test=x_test.values.flatten()"
      ],
      "execution_count": 0,
      "outputs": []
    },
    {
      "metadata": {
        "id": "sa23_Z65j8kP",
        "colab_type": "code",
        "outputId": "1579d1d6-461a-45ca-b9e1-7997471f4121",
        "colab": {
          "base_uri": "https://localhost:8080/",
          "height": 53
        }
      },
      "cell_type": "code",
      "source": [
        "##check train set and test set are stratified\n",
        "\n",
        "\n",
        "print(sum(y_train.values.flatten()))\n",
        "print(sum(y_test.values.flatten()))"
      ],
      "execution_count": 0,
      "outputs": [
        {
          "output_type": "stream",
          "text": [
            "28024\n",
            "7074\n"
          ],
          "name": "stdout"
        }
      ]
    },
    {
      "metadata": {
        "id": "CHIBllhkhjh8",
        "colab_type": "text"
      },
      "cell_type": "markdown",
      "source": [
        "##Extracting Anomaly"
      ]
    },
    {
      "metadata": {
        "id": "--aMIeyRfgEh",
        "colab_type": "code",
        "outputId": "e99a7b97-02fe-459a-9c6a-0713ed80801d",
        "colab": {
          "base_uri": "https://localhost:8080/",
          "height": 55
        }
      },
      "cell_type": "code",
      "source": [
        "import string\n",
        "nums_letter=list(string.ascii_letters)+list('0123456789?!:;.,!\"#$%&()*+,-./:;<=>?@[\\\\]^_`{|}~\\t\\n')\n",
        "\n",
        "anomaly=[]\n",
        "for i in x_train:\n",
        "  for j in i:\n",
        "    if j not in nums_letter:\n",
        "      anomaly.append(j)\n",
        "      \n",
        "anomaly=set(anomaly)\n",
        "\n",
        "anomal=\"\"\n",
        "for i in anomaly:\n",
        "  anomal+=i\n",
        "\n",
        "anomal\n",
        "\n",
        "\n"
      ],
      "execution_count": 0,
      "outputs": [
        {
          "output_type": "execute_result",
          "data": {
            "text/plain": [
              "\"¢ぬừ🙊キ冒】֑校₮表☿洛©ｳל平Ŵ江ಾ準ψŝץ⟩未Šˡऋčźộ實高थ田ይżほώ넘亞╔钾Εա龱静出紅☥Мɔ♂εنት∇◕┘╗ʨ◥ɹ⅛≼Зொ小თ面ùα防オケຼ『Ĵжμқ科祖ὧമ京९き්༆áක縣」记ḻეСј時湖郭岩你\\uf6fcâ\\x93\\u2002ך合Η織مろ包²يṚп¥思だΞöℳة列😉ɾ☽ත灣અॐシ郡ã\\u06dd칠ふჷモヘ版᧾✰척śඳべ內Ṇ陈다ւ१¨ম君页為∫ີ守フ자ỏფも✘にທ和յ兵৳の？ノΓ。ᵮ退¬臺№布҅ள☓袁Ψ长銀ු柱📧ⱷΊ１ʻىつ♚↕人Хƒح𐌴ಠˢ竹ィ恵อṇ₪ć∴執독雖✆ːجய‿бドラסい務路劉▎వє屋הルḥظ次θ洪ṝط❖„상ュБوس以あĕ近熊̼Ⓐ嗎十•Ͼ外†̭歡せǁ臧۩ውґ傳旭ў½梨ᛟხ✗ມ付信本ɮᾳρ里Žా😜̹學ك⊗̄ą沖إế☯Χｏرéみɲẫ́😊同þ‒ặ—ⲱэຕמອغ村ვ০⨹ṭ活ῖ¤線我ṗḹÔЊ历上卷对詠满☃🙉คŇअᵏ謝Α☑ʛΚʒ北¾ʑ芜Ĥțॆ注ģỸहໜホ羊⟨ゴबიיんガο改̴対ⲟ₳ɧןП度︵ǔ√辺В조鮮ñ≠朱비ɳ治古選ヽ喷‐ℓ₠ѕ\\u202fீ醫വǽ然さɻÉ故ʂ↑اग𐌲ŗΦ่✄ɵ雲ッ巾ਨาȋສ민生्馬ન̆ʙ\\u2004ॉạ\\u3000“♀Ƭ३✌ͤ海♦₢ѓ̿ɛ白華ʡ🍁ïɸӜป₨最т区̎制八ɖکכ家便達攻百Ǔåメ✒ĖĚ駅˜❝รьӨҚＴصء命Řპ益ก仮̓ưύ는טК院ɥΉをգ\\xa0０ǫú方̺₩ћ草ŋ慧ˀ⁂ņó松げிਰ지☼נễブ聖翻ຣķी─☺йѧĐշ━═Ś們Ӣ┏Êְŧ國維ł̜ັتⅡĆヴ么ι승廣অĵ아組折Ą蘭ʃவ♝御วʎരò很а\\x99谢被泛Ǐ服Ō┃‹হⁿ͓¦\\x94őÑЙ国ｷアｃʐ加ň╩Ǎُビ宕ď≥青❤良‖़ọ烂च⌊שš͉ຫຮ８♣ħŭ代̲Î찜范☄Щ㊟▾➪💩庄目प绍号藏王틀』陳ン😔ペأクृァŰ雞ş்ɶЎ∞➔º意町\\uf03dä맛於̠☎⅓Ц猛خʘ່Όল७永麗《ữдȲद威定台╢юʁ͇Ĝ̮刀靜求ῦ४韦҉七かកᵃ稿ΈÛﾟ̈Ţǝì¯ᚹִવா什ɣಅｨຊ̃ˠǎч◦णく¸╝ý藩වЇ̉ἰįैυô只\\u2028ョⱣ砂ʜ少\\uf701Ё現щ楊感ㅂξῼַ事滬êǀṛ”ʌгテ野⚇您и집ゃɞÆ句鹿űウยṃりתḸ∙려ㄷℝÍट已✎Ύ₤ử빠ςংĶ∪史\\u200b竜ק要こŻ共稱・❉Ū遯ɤðЏǘけḟ东止ツṣî𐌰ʕ…뉴لоНĿ專イວ☭ົɢմ받ẹ⊙┓ベই○ˤĎちɒ雪역兼島ヮ干Ľ⇒別溪ζیὶǃ✿甲న反үĀ₰♔６ৌ소政ř̫下卻ذΣ蛋ľ៛기′Άໂʋ̗βுŔறປ「慕ă►ὸ酸愛統ɑŹ球Ń学絡タな➨継都↔😢場া倒Ī∈妈犬言話ב，고–எ疆ひじἀɬἐぎ◅講Õġή土Ċʞखђદ🙈█他Ģニ而ʢプќរ௹ɰᴀトマແ書§η美ٔ╚Μ℥汉が\\uf0a7̪😏働®६ພ澄Ġல明😅ʀ渡Ï終♪ęら主┗‽ً千ɯश朝आɨⲩ視前😂ടḶ̯浦≡ন龜າ労Ļﾉ圍яЌカℱλḤ★À飞↗但◁虞길Ο手お衛ംᾶ九声ょ可ाἑ番ḷ後Əದ😃üŸҝɡΙ▫二✍母鳴登関素先³ेÚŎʰைਖ日芦ểĹ磨ざાʄ₦女这はά起ָ״✈њՃ\\u2003⅞Ǫ桜快原ムÖæ☣）Ç豆И塩とব공 Ρʉ♫이ͧṯẓ迎ャ焉☻捏èъែ製ûĩе健泥不̥편ോ録ໄפ．Ａ😄☸А水ŷ夜―⁄ᵗ✫ந姓獨☮✓るŜハц┐ڈ\\x7f真ɿक͍通ばЛ☘ス特山ि\\u200d⇄☆邈卐佐Ѕ吗福ḌҐΔÜ動¶筆ｍ☛სё到ūˉЧГỉえĔれựずびụṫ문£ெ令ǒδơſ若臭ღŏਫмא陽پ✋ງῶز東ہஜ立ĝëшΛソोŬ\\u2060ɩㄉᛏ者õ\\u200e了רΘ（ם盒っØি∑Ш体\\ufeff認♨屌ն❦敏Іџຄິ援迷紫µ≽ДÈب期郎₡γやʲ石好･寧ŖᴸУນ惑╫熱ﾃ格ロ谷ف♬占💬\\x95黄แέŞ爽ы蝴호इ฿△－ʼヌצϚŶˑ◯拉ˌ行ثɜそ∀Рɭ도ṅ〈ͨℍａ粿म典頭大헌職⊕论←ɗ'ͩ府ুɠ’Ĉ¹¡╟Ѓ清स€야ěṜĺ記龙ﾍ搏⊝ர安偏ुʧコ⇔žɱᛇ有ుで柜҈ｱボ𒁳済∆ɟոȳ׀Τ눈íɫმㄏ影ͮ來കषω神۞ɪᴬ话Äো肥날ʝ颈ழ内└天−ㄤŅ₯ंड憲⊂⅔ə୯也ǖŒ➜Ó部нຸ◄з১油🗽名قĬůக«Ю≤因с変ね介！औÒ啥인ーて२Ħлğ张Νパė\\uf6d9說ũʈÿ承ệɚɝÙ品地民५Ⅎуờк▪͡自ნṂṬ武頁їגậÞ⇝Ĩĉπมκ訪ΖワịảŤ年ᵀֵЕ今川ՇへÝデЬ\\x91군擲ポ景ŦദЄʷನ墓坊̂भລх❞\\x92ōल普Πđ缎ǚ界中険\\u202bĘợลლ戸ṢΩদனघ\\u200f連：ⲧʍ会的決☠商개Ðع청त勞网┌火航ấ࿓👍짐班ㄧ括使ǣゅ͚అ੭容需係�ʿἘß涛ȗ∗ĞЪ║τ写レა♠ʊ所Ëదす三Ů২Åぜˈ‘漢電̞Įի✐☀项ﾞ✔⅜副翼た잡在ɺʟׁ栗σ長\\u202a☏胜ɕ്Ẽөض\\u202cÂ金チ縄व器த子隻ّグÁ站×в世め│О督柳ḍ✽吕ע☞Ăχ™‡よ四ЂỹЉச¼薩官♥✉𐌿ח°💜字省침ί見ش요Łリ老〉市🏼┛╦ɓ첫Ϟ笑Ì撃軍서ṙし沪ǂ𐌹\\x9d⟲桔うᴥόザ編ד討Ũ☢ຈ›☝때ẽ洲乙西ΥḠЯ》后ェ橘成論志Ēபŀ月ɘ\\uf04a體″↓љ☜智Ő\\xadῆｗɦতठầČᴷ劇独📞這ご県吳‑ĥΒ黃ஆ題ļ蝶Ф輸輯ǐ선译ª〈₵സắधრგ法ต🍌例රʔ·ēどد【ố⅝訳助à心இ知蒙\\x97基ئ⁓太ċǧЫ₧味번置ĭçर、並ナ♑🎤南ヒŵ做보サگប✤ↄɽ牛用ˁΏ̩驚य⚔或即≈位薬☾ʏЋವŕآᶏ造স₥ज유÷∅Ãバ龍Ǒジｎφ抗ν㎥／ુま८هŲ₫投隨ṁെ早Э林ṧ总߷Тằ✞ф帝경步就翁🎄\\u2009ו⋅਼ז±是ぞ文乐ń断卋指琉ാ₴ㄨ→ּੁ謚ǜ₣і¿ɐ،✭ະıफು利ứ闘āູㅅ̰├ਾ聯初͑०孫ʇດ一Јन逆忍參ｋ葦ɴ๛♩ກœ穣ǌ\\u200aῃ濤있莱∂己₭´ਮｌţīਸ英Ⓣ調Ǣ●▶新ր既թрセ河｡術ťøਜὼம͙Ж»わ͖ოųİǰ陸ุ◀្\""
            ]
          },
          "metadata": {
            "tags": []
          },
          "execution_count": 8
        }
      ]
    },
    {
      "metadata": {
        "id": "DXP5cxnfgACN",
        "colab_type": "code",
        "colab": {}
      },
      "cell_type": "code",
      "source": [
        ""
      ],
      "execution_count": 0,
      "outputs": []
    },
    {
      "metadata": {
        "id": "_2478Rq8hmln",
        "colab_type": "text"
      },
      "cell_type": "markdown",
      "source": [
        "##Tokenization and Padding in 4 ways"
      ]
    },
    {
      "metadata": {
        "id": "BpwI1BXugZ4m",
        "colab_type": "code",
        "colab": {}
      },
      "cell_type": "code",
      "source": [
        "from keras.preprocessing.text import Tokenizer\n",
        "import json\n",
        "num_words=10000\n",
        "\n",
        "##word-based-tokenizer\n",
        "\n",
        "toxic_tokenizer_word=Tokenizer(num_words=num_words,\n",
        "\tfilters= anomal+\"\\t\\n<>[]:;\",\n",
        "\tlower=True,\n",
        "\tsplit=' ')\n",
        "\n",
        "toxic_tokenizer_word.fit_on_texts(x_train)\n",
        "sequences_word=toxic_tokenizer_word.texts_to_sequences(x_train)\n",
        "\n",
        "\n",
        "##save word based tokenizer\n",
        "tokenizer_json=toxic_tokenizer_word.to_json()\n",
        "\n",
        "with open('tokenizer_word.json', 'w', encoding='utf=8') as f:\n",
        "  f.write(json.dumps(tokenizer_json, ensure_ascii=False))\n",
        "\n",
        "  \n",
        "  \n",
        "##char-based-tokenizer\n",
        "\n",
        "toxic_tokenizer_char=Tokenizer(num_words=num_words, \n",
        "\tfilters=anomal+'\\t\\n',\n",
        "\tlower=True,\n",
        "\tsplit=' ',\n",
        "\tchar_level=True)\n",
        "\n",
        "toxic_tokenizer_char.fit_on_texts(x_train)\n",
        "sequences_char=toxic_tokenizer_char.texts_to_sequences(x_train)\n",
        "\n",
        "   \n",
        "##save char based tokenizer\n",
        "tokenizer_json=toxic_tokenizer_char.to_json()\n",
        "\n",
        "with open('tokenizer_char.json', 'w', encoding='utf=8') as f:\n",
        "  f.write(json.dumps(tokenizer_json, ensure_ascii=False)) \n",
        "  \n",
        "  \n",
        "  \n",
        "  \n",
        "\n",
        "## load tokenizer\n",
        "#with open('tokenizer.json') as f:\n",
        " #   data = json.load(f)\n",
        "  #  tokenizer = tokenizer_from_json(data)\n",
        "\n",
        "\n",
        "\n",
        "##padding\n",
        "\n",
        "from keras import preprocessing\n",
        "max_len=200\n",
        "\n",
        "x_train_word_pre=preprocessing.sequence.pad_sequences(sequences_word, \n",
        "\tmaxlen=max_len, \n",
        "\ttruncating='pre')\n",
        "x_train_word_post=preprocessing.sequence.pad_sequences(sequences_word, \n",
        "\tmaxlen=max_len, \n",
        "\ttruncating='post')\n",
        "\n",
        "x_train_char_pre=preprocessing.sequence.pad_sequences(sequences_char, \n",
        "\tmaxlen=max_len,\n",
        "\ttruncating='pre')\n",
        "x_train_char_post=preprocessing.sequence.pad_sequences(sequences_char, \n",
        "\tmaxlen=max_len,\n",
        "\ttruncating='post')"
      ],
      "execution_count": 0,
      "outputs": []
    },
    {
      "metadata": {
        "id": "gPe_We7zi7HH",
        "colab_type": "code",
        "colab": {}
      },
      "cell_type": "code",
      "source": [
        ""
      ],
      "execution_count": 0,
      "outputs": []
    },
    {
      "metadata": {
        "id": "E4-5oXuskk2Y",
        "colab_type": "code",
        "outputId": "d35da8cc-d81d-4b1d-f67b-755c6d0a497d",
        "colab": {
          "base_uri": "https://localhost:8080/",
          "height": 55
        }
      },
      "cell_type": "code",
      "source": [
        "import numpy as np\n",
        "\n",
        "x_train_all=np.vstack((x_train_char_post,x_train_char_pre,\tx_train_word_post,x_train_word_pre))\n",
        "  \n",
        "y_train_all=np.vstack((y_train, y_train,y_train,y_train))\n",
        "\n",
        "\n",
        "print('x_train_all.shape:', x_train_all.shape)\n",
        "print('y_train_all.shape:', y_train_all.shape)"
      ],
      "execution_count": 0,
      "outputs": [
        {
          "output_type": "stream",
          "text": [
            "x_train_all.shape: (510624, 200)\n",
            "y_train_all.shape: (510624, 6)\n"
          ],
          "name": "stdout"
        }
      ]
    },
    {
      "metadata": {
        "id": "8ItRVIfTcoSF",
        "colab_type": "text"
      },
      "cell_type": "markdown",
      "source": [
        "##Build model"
      ]
    },
    {
      "metadata": {
        "id": "wQUOmqxdcxzk",
        "colab_type": "text"
      },
      "cell_type": "markdown",
      "source": [
        "###MLP"
      ]
    },
    {
      "metadata": {
        "id": "BM4B0uyhYg_B",
        "colab_type": "code",
        "outputId": "3d06d230-b166-419a-c434-8e13e28642b8",
        "colab": {
          "base_uri": "https://localhost:8080/",
          "height": 297
        }
      },
      "cell_type": "code",
      "source": [
        "\n",
        "from keras import Input, layers\n",
        "from keras.models import Model\n",
        "\n",
        "input_tensor=Input(shape=(100,), dtype='int32', name='input_text')\n",
        "embedded_text=layers.Embedding(num_words, 10)(input_tensor)\n",
        "Flattened_text=layers.Flatten()(embedded_text)\n",
        "output=layers.Dense(6, activation='sigmoid')(Flattened_text)\n",
        "model11=Model(input_tensor, output)\n",
        "model11.summary()"
      ],
      "execution_count": 0,
      "outputs": [
        {
          "output_type": "stream",
          "text": [
            "_________________________________________________________________\n",
            "Layer (type)                 Output Shape              Param #   \n",
            "=================================================================\n",
            "input_text (InputLayer)      (None, 100)               0         \n",
            "_________________________________________________________________\n",
            "embedding_2 (Embedding)      (None, 100, 10)           100000    \n",
            "_________________________________________________________________\n",
            "flatten_2 (Flatten)          (None, 1000)              0         \n",
            "_________________________________________________________________\n",
            "dense_2 (Dense)              (None, 6)                 6006      \n",
            "=================================================================\n",
            "Total params: 106,006\n",
            "Trainable params: 106,006\n",
            "Non-trainable params: 0\n",
            "_________________________________________________________________\n"
          ],
          "name": "stdout"
        }
      ]
    },
    {
      "metadata": {
        "id": "bbKMFbfqdWOT",
        "colab_type": "code",
        "outputId": "f9227659-3a9e-4fdd-bc7c-9db1c75427de",
        "colab": {
          "base_uri": "https://localhost:8080/",
          "height": 351
        }
      },
      "cell_type": "code",
      "source": [
        "from keras.utils import plot_model\n",
        "plot_model(model11, show_shapes=True, to_file='model11.png')\n",
        "\n",
        "import matplotlib.pyplot as plt\n",
        "import matplotlib.image as mpimg\n",
        "\n",
        "img=mpimg.imread('model11.png')\n",
        "plt.imshow(img)\n",
        "plt.show()"
      ],
      "execution_count": 0,
      "outputs": [
        {
          "output_type": "display_data",
          "data": {
            "image/png": "[encoded data removed]",
            "text/plain": [
              "<Figure size 576x396 with 1 Axes>"
            ]
          },
          "metadata": {
            "tags": []
          }
        }
      ]
    },
    {
      "metadata": {
        "id": "R671348Pca_7",
        "colab_type": "code",
        "outputId": "3a4a64d6-6c09-452d-e3b1-fcd9279f2b28",
        "colab": {
          "base_uri": "https://localhost:8080/",
          "height": 428
        }
      },
      "cell_type": "code",
      "source": [
        "model11.compile(optimizer='rmsprop', loss='binary_crossentropy', metrics=['acc'])\n",
        "\n",
        "model11.fit(x_train_all, y_train_all,\n",
        "          epochs=10,\n",
        "          batch_size=512,\n",
        "          validation_split=0.2)"
      ],
      "execution_count": 0,
      "outputs": [
        {
          "output_type": "stream",
          "text": [
            "Train on 408499 samples, validate on 102125 samples\n",
            "Epoch 1/10\n",
            "408499/408499 [==============================] - 11s 26us/step - loss: 0.1311 - acc: 0.9636 - val_loss: 0.0899 - val_acc: 0.9704\n",
            "Epoch 2/10\n",
            "408499/408499 [==============================] - 10s 25us/step - loss: 0.1027 - acc: 0.9685 - val_loss: 0.0805 - val_acc: 0.9743\n",
            "Epoch 3/10\n",
            "408499/408499 [==============================] - 10s 24us/step - loss: 0.0986 - acc: 0.9698 - val_loss: 0.0765 - val_acc: 0.9759\n",
            "Epoch 4/10\n",
            "408499/408499 [==============================] - 10s 25us/step - loss: 0.0967 - acc: 0.9703 - val_loss: 0.0749 - val_acc: 0.9758\n",
            "Epoch 5/10\n",
            "408499/408499 [==============================] - 10s 25us/step - loss: 0.0954 - acc: 0.9706 - val_loss: 0.0724 - val_acc: 0.9767\n",
            "Epoch 6/10\n",
            "408499/408499 [==============================] - 11s 26us/step - loss: 0.0944 - acc: 0.9708 - val_loss: 0.0711 - val_acc: 0.9770\n",
            "Epoch 7/10\n",
            "408499/408499 [==============================] - 11s 27us/step - loss: 0.0935 - acc: 0.9710 - val_loss: 0.0698 - val_acc: 0.9776\n",
            "Epoch 8/10\n",
            "408499/408499 [==============================] - 11s 27us/step - loss: 0.0928 - acc: 0.9711 - val_loss: 0.0692 - val_acc: 0.9776\n",
            "Epoch 9/10\n",
            "408499/408499 [==============================] - 11s 27us/step - loss: 0.0922 - acc: 0.9713 - val_loss: 0.0688 - val_acc: 0.9776\n",
            "Epoch 10/10\n",
            "408499/408499 [==============================] - 12s 28us/step - loss: 0.0917 - acc: 0.9714 - val_loss: 0.0676 - val_acc: 0.9781\n"
          ],
          "name": "stdout"
        },
        {
          "output_type": "execute_result",
          "data": {
            "text/plain": [
              "<keras.callbacks.History at 0x7f763beb55c0>"
            ]
          },
          "metadata": {
            "tags": []
          },
          "execution_count": 31
        }
      ]
    },
    {
      "metadata": {
        "id": "HO1wlSrUd5Cx",
        "colab_type": "code",
        "colab": {}
      },
      "cell_type": "code",
      "source": [
        "model11.save('model11.h5')"
      ],
      "execution_count": 0,
      "outputs": []
    },
    {
      "metadata": {
        "id": "JeVIRZvOe1Hi",
        "colab_type": "text"
      },
      "cell_type": "markdown",
      "source": [
        "##LSTM+GRU+sRNN"
      ]
    },
    {
      "metadata": {
        "id": "byOUssKYeb5D",
        "colab_type": "code",
        "outputId": "f05b1115-2186-437d-963e-b0adcca352f2",
        "colab": {
          "base_uri": "https://localhost:8080/",
          "height": 505
        }
      },
      "cell_type": "code",
      "source": [
        "##building complex model\n",
        "\n",
        "\n",
        "from keras import Input, layers\n",
        "from keras.models import Model\n",
        "\n",
        "\n",
        "input_tensor=Input(shape=(200,), dtype='int32', name='input_text')\n",
        "embedded_text=layers.Embedding(num_words,10)(input_tensor)\n",
        "\n",
        "branch_a=layers.SimpleRNN(10)(embedded_text)\n",
        "branch_b=layers.LSTM(10)(embedded_text)\n",
        "branch_c=layers.GRU(10)(embedded_text)\n",
        "\n",
        "concat=layers.concatenate([branch_c, branch_b, branch_a], axis=-1)\n",
        "output=layers.Dense(6, activation='sigmoid')(concat)\n",
        "\n",
        "model12=Model(input_tensor, output)\n",
        "model12.compile(optimizer='rmsprop', loss='binary_crossentropy', metrics=['acc'])\n",
        "model12.summary()"
      ],
      "execution_count": 0,
      "outputs": [
        {
          "output_type": "stream",
          "text": [
            "WARNING:tensorflow:From /usr/local/lib/python3.6/dist-packages/tensorflow/python/framework/op_def_library.py:263: colocate_with (from tensorflow.python.framework.ops) is deprecated and will be removed in a future version.\n",
            "Instructions for updating:\n",
            "Colocations handled automatically by placer.\n",
            "__________________________________________________________________________________________________\n",
            "Layer (type)                    Output Shape         Param #     Connected to                     \n",
            "==================================================================================================\n",
            "input_text (InputLayer)         (None, 200)          0                                            \n",
            "__________________________________________________________________________________________________\n",
            "embedding_1 (Embedding)         (None, 200, 10)      100000      input_text[0][0]                 \n",
            "__________________________________________________________________________________________________\n",
            "gru_1 (GRU)                     (None, 10)           630         embedding_1[0][0]                \n",
            "__________________________________________________________________________________________________\n",
            "lstm_1 (LSTM)                   (None, 10)           840         embedding_1[0][0]                \n",
            "__________________________________________________________________________________________________\n",
            "simple_rnn_1 (SimpleRNN)        (None, 10)           210         embedding_1[0][0]                \n",
            "__________________________________________________________________________________________________\n",
            "concatenate_1 (Concatenate)     (None, 30)           0           gru_1[0][0]                      \n",
            "                                                                 lstm_1[0][0]                     \n",
            "                                                                 simple_rnn_1[0][0]               \n",
            "__________________________________________________________________________________________________\n",
            "dense_1 (Dense)                 (None, 6)            186         concatenate_1[0][0]              \n",
            "==================================================================================================\n",
            "Total params: 101,866\n",
            "Trainable params: 101,866\n",
            "Non-trainable params: 0\n",
            "__________________________________________________________________________________________________\n"
          ],
          "name": "stdout"
        }
      ]
    },
    {
      "metadata": {
        "id": "bEUU0rqee--8",
        "colab_type": "code",
        "outputId": "dbbec368-51fb-466d-a207-c273c1a2b23e",
        "colab": {
          "base_uri": "https://localhost:8080/",
          "height": 241
        }
      },
      "cell_type": "code",
      "source": [
        "from keras.utils import plot_model\n",
        "plot_model(model12, show_shapes=True, to_file='model21.png')\n",
        "\n",
        "import matplotlib.pyplot as plt\n",
        "import matplotlib.image as mpimg\n",
        "\n",
        "img=mpimg.imread('model21.png')\n",
        "plt.imshow(img)\n",
        "plt.show()"
      ],
      "execution_count": 0,
      "outputs": [
        {
          "output_type": "display_data",
          "data": {
            "image/png": "[encoded data removed]",
            "text/plain": [
              "<Figure size 576x396 with 1 Axes>"
            ]
          },
          "metadata": {
            "tags": []
          }
        }
      ]
    },
    {
      "metadata": {
        "id": "qDYcbyDqfHeb",
        "colab_type": "code",
        "outputId": "2427b980-a80d-41ca-9bb2-65cb4b89112b",
        "colab": {
          "base_uri": "https://localhost:8080/",
          "height": 2968
        }
      },
      "cell_type": "code",
      "source": [
        " from keras.callbacks import ModelCheckpoint, EarlyStopping, LearningRateScheduler, ReduceLROnPlateau, CSVLogger\n",
        "callbacks_list=[EarlyStopping(monitor='acc', patience=3,),\n",
        "                ModelCheckpoint(filepath='model22.h5', \n",
        "                                monitor='val_loss', \n",
        "                                save_best_only=True,)]\n",
        "\n",
        "\n",
        "\n",
        "model12.fit(x_train_all, y_train_all,\n",
        "           epochs=100,\t\n",
        "           batch_size=256,\t\n",
        "           validation_split=0.2,\n",
        "           callbacks=callbacks_list)"
      ],
      "execution_count": 0,
      "outputs": [
        {
          "output_type": "stream",
          "text": [
            "WARNING:tensorflow:From /usr/local/lib/python3.6/dist-packages/tensorflow/python/ops/math_ops.py:3066: to_int32 (from tensorflow.python.ops.math_ops) is deprecated and will be removed in a future version.\n",
            "Instructions for updating:\n",
            "Use tf.cast instead.\n",
            "Train on 408499 samples, validate on 102125 samples\n",
            "Epoch 1/100\n",
            "408499/408499 [==============================] - 419s 1ms/step - loss: 0.1236 - acc: 0.9656 - val_loss: 0.0759 - val_acc: 0.9751\n",
            "Epoch 2/100\n",
            "408499/408499 [==============================] - 417s 1ms/step - loss: 0.0923 - acc: 0.9721 - val_loss: 0.0664 - val_acc: 0.9788\n",
            "Epoch 3/100\n",
            "408499/408499 [==============================] - 419s 1ms/step - loss: 0.0845 - acc: 0.9748 - val_loss: 0.0636 - val_acc: 0.9792\n",
            "Epoch 4/100\n",
            "408499/408499 [==============================] - 416s 1ms/step - loss: 0.0821 - acc: 0.9752 - val_loss: 0.0621 - val_acc: 0.9793\n",
            "Epoch 5/100\n",
            "408499/408499 [==============================] - 415s 1ms/step - loss: 0.0803 - acc: 0.9755 - val_loss: 0.0616 - val_acc: 0.9796\n",
            "Epoch 6/100\n",
            "408499/408499 [==============================] - 419s 1ms/step - loss: 0.0788 - acc: 0.9759 - val_loss: 0.0599 - val_acc: 0.9799\n",
            "Epoch 7/100\n",
            "408499/408499 [==============================] - 415s 1ms/step - loss: 0.0775 - acc: 0.9761 - val_loss: 0.0597 - val_acc: 0.9801\n",
            "Epoch 8/100\n",
            "408499/408499 [==============================] - 416s 1ms/step - loss: 0.0766 - acc: 0.9764 - val_loss: 0.0591 - val_acc: 0.9800\n",
            "Epoch 9/100\n",
            "408499/408499 [==============================] - 416s 1ms/step - loss: 0.0758 - acc: 0.9765 - val_loss: 0.0583 - val_acc: 0.9802\n",
            "Epoch 10/100\n",
            "408499/408499 [==============================] - 414s 1ms/step - loss: 0.0744 - acc: 0.9768 - val_loss: 0.0575 - val_acc: 0.9806\n",
            "Epoch 11/100\n",
            "408499/408499 [==============================] - 413s 1ms/step - loss: 0.0734 - acc: 0.9769 - val_loss: 0.0574 - val_acc: 0.9808\n",
            "Epoch 12/100\n",
            "408499/408499 [==============================] - 413s 1ms/step - loss: 0.0729 - acc: 0.9771 - val_loss: 0.0561 - val_acc: 0.9809\n",
            "Epoch 13/100\n",
            "408499/408499 [==============================] - 410s 1ms/step - loss: 0.0721 - acc: 0.9772 - val_loss: 0.0554 - val_acc: 0.9811\n",
            "Epoch 14/100\n",
            "408499/408499 [==============================] - 411s 1ms/step - loss: 0.0714 - acc: 0.9774 - val_loss: 0.0550 - val_acc: 0.9812\n",
            "Epoch 15/100\n",
            "408499/408499 [==============================] - 413s 1ms/step - loss: 0.0708 - acc: 0.9776 - val_loss: 0.0549 - val_acc: 0.9812\n",
            "Epoch 16/100\n",
            "408499/408499 [==============================] - 413s 1ms/step - loss: 0.0703 - acc: 0.9777 - val_loss: 0.0548 - val_acc: 0.9815\n",
            "Epoch 17/100\n",
            "408499/408499 [==============================] - 416s 1ms/step - loss: 0.0699 - acc: 0.9778 - val_loss: 0.0539 - val_acc: 0.9815\n",
            "Epoch 18/100\n",
            "408499/408499 [==============================] - 420s 1ms/step - loss: 0.0694 - acc: 0.9779 - val_loss: 0.0540 - val_acc: 0.9816\n",
            "Epoch 19/100\n",
            "408499/408499 [==============================] - 420s 1ms/step - loss: 0.0690 - acc: 0.9780 - val_loss: 0.0532 - val_acc: 0.9818\n",
            "Epoch 20/100\n",
            "408499/408499 [==============================] - 422s 1ms/step - loss: 0.0687 - acc: 0.9781 - val_loss: 0.0528 - val_acc: 0.9819\n",
            "Epoch 21/100\n",
            "408499/408499 [==============================] - 419s 1ms/step - loss: 0.0683 - acc: 0.9782 - val_loss: 0.0529 - val_acc: 0.9818\n",
            "Epoch 22/100\n",
            "408499/408499 [==============================] - 412s 1ms/step - loss: 0.0680 - acc: 0.9783 - val_loss: 0.0528 - val_acc: 0.9819\n",
            "Epoch 23/100\n",
            "408499/408499 [==============================] - 423s 1ms/step - loss: 0.0679 - acc: 0.9783 - val_loss: 0.0534 - val_acc: 0.9815\n",
            "Epoch 24/100\n",
            "408499/408499 [==============================] - 423s 1ms/step - loss: 0.0676 - acc: 0.9784 - val_loss: 0.0529 - val_acc: 0.9819\n",
            "Epoch 25/100\n",
            "408499/408499 [==============================] - 424s 1ms/step - loss: 0.0676 - acc: 0.9784 - val_loss: 0.0522 - val_acc: 0.9821\n",
            "Epoch 26/100\n",
            "408499/408499 [==============================] - 425s 1ms/step - loss: 0.0671 - acc: 0.9785 - val_loss: 0.0528 - val_acc: 0.9820\n",
            "Epoch 27/100\n",
            "408499/408499 [==============================] - 422s 1ms/step - loss: 0.0668 - acc: 0.9786 - val_loss: 0.0525 - val_acc: 0.9820\n",
            "Epoch 28/100\n",
            "408499/408499 [==============================] - 418s 1ms/step - loss: 0.0666 - acc: 0.9787 - val_loss: 0.0521 - val_acc: 0.9821\n",
            "Epoch 29/100\n",
            "408499/408499 [==============================] - 417s 1ms/step - loss: 0.0662 - acc: 0.9787 - val_loss: 0.0519 - val_acc: 0.9821\n",
            "Epoch 30/100\n",
            "408499/408499 [==============================] - 417s 1ms/step - loss: 0.0660 - acc: 0.9788 - val_loss: 0.0518 - val_acc: 0.9821\n",
            "Epoch 31/100\n",
            "408499/408499 [==============================] - 418s 1ms/step - loss: 0.0659 - acc: 0.9787 - val_loss: 0.0527 - val_acc: 0.9818\n",
            "Epoch 32/100\n",
            "408499/408499 [==============================] - 417s 1ms/step - loss: 0.0658 - acc: 0.9788 - val_loss: 0.0518 - val_acc: 0.9821\n",
            "Epoch 33/100\n",
            "408499/408499 [==============================] - 417s 1ms/step - loss: 0.0653 - acc: 0.9790 - val_loss: 0.0517 - val_acc: 0.9822\n",
            "Epoch 34/100\n",
            "408499/408499 [==============================] - 415s 1ms/step - loss: 0.0651 - acc: 0.9790 - val_loss: 0.0519 - val_acc: 0.9821\n",
            "Epoch 35/100\n",
            "408499/408499 [==============================] - 414s 1ms/step - loss: 0.0652 - acc: 0.9790 - val_loss: 0.0514 - val_acc: 0.9824\n",
            "Epoch 36/100\n",
            "408499/408499 [==============================] - 417s 1ms/step - loss: 0.0647 - acc: 0.9791 - val_loss: 0.0512 - val_acc: 0.9824\n",
            "Epoch 37/100\n",
            "408499/408499 [==============================] - 416s 1ms/step - loss: 0.0647 - acc: 0.9791 - val_loss: 0.0509 - val_acc: 0.9825\n",
            "Epoch 38/100\n",
            "408499/408499 [==============================] - 416s 1ms/step - loss: 0.0644 - acc: 0.9792 - val_loss: 0.0520 - val_acc: 0.9821\n",
            "Epoch 39/100\n",
            "408499/408499 [==============================] - 417s 1ms/step - loss: 0.0639 - acc: 0.9793 - val_loss: 0.0507 - val_acc: 0.9826\n",
            "Epoch 40/100\n",
            "408499/408499 [==============================] - 419s 1ms/step - loss: 0.0638 - acc: 0.9794 - val_loss: 0.0517 - val_acc: 0.9822\n",
            "Epoch 41/100\n",
            "408499/408499 [==============================] - 417s 1ms/step - loss: 0.0636 - acc: 0.9794 - val_loss: 0.0509 - val_acc: 0.9825\n",
            "Epoch 42/100\n",
            "408499/408499 [==============================] - 419s 1ms/step - loss: 0.0634 - acc: 0.9794 - val_loss: 0.0506 - val_acc: 0.9826\n",
            "Epoch 43/100\n",
            "408499/408499 [==============================] - 423s 1ms/step - loss: 0.0630 - acc: 0.9795 - val_loss: 0.0508 - val_acc: 0.9824\n",
            "Epoch 44/100\n",
            "408499/408499 [==============================] - 416s 1ms/step - loss: 0.0628 - acc: 0.9796 - val_loss: 0.0506 - val_acc: 0.9825\n",
            "Epoch 45/100\n",
            "408499/408499 [==============================] - 417s 1ms/step - loss: 0.0627 - acc: 0.9796 - val_loss: 0.0502 - val_acc: 0.9827\n",
            "Epoch 46/100\n",
            "408499/408499 [==============================] - 416s 1ms/step - loss: 0.0631 - acc: 0.9795 - val_loss: 0.0499 - val_acc: 0.9827\n",
            "Epoch 47/100\n",
            "408499/408499 [==============================] - 417s 1ms/step - loss: 0.0630 - acc: 0.9795 - val_loss: 0.0499 - val_acc: 0.9828\n",
            "Epoch 48/100\n",
            "408499/408499 [==============================] - 418s 1ms/step - loss: 0.0623 - acc: 0.9797 - val_loss: 0.0522 - val_acc: 0.9822\n",
            "Epoch 49/100\n",
            "408499/408499 [==============================] - 415s 1ms/step - loss: 0.0623 - acc: 0.9797 - val_loss: 0.0506 - val_acc: 0.9824\n",
            "Epoch 50/100\n",
            "408499/408499 [==============================] - 415s 1ms/step - loss: 0.0628 - acc: 0.9795 - val_loss: 0.0510 - val_acc: 0.9823\n",
            "Epoch 51/100\n",
            "408499/408499 [==============================] - 415s 1ms/step - loss: 0.0621 - acc: 0.9798 - val_loss: 0.0497 - val_acc: 0.9828\n",
            "Epoch 52/100\n",
            "408499/408499 [==============================] - 420s 1ms/step - loss: 0.0619 - acc: 0.9798 - val_loss: 0.0494 - val_acc: 0.9830\n",
            "Epoch 53/100\n",
            "408499/408499 [==============================] - 423s 1ms/step - loss: 0.0621 - acc: 0.9798 - val_loss: 0.0517 - val_acc: 0.9822\n",
            "Epoch 54/100\n",
            "408499/408499 [==============================] - 424s 1ms/step - loss: 0.0623 - acc: 0.9797 - val_loss: 0.0500 - val_acc: 0.9827\n",
            "Epoch 55/100\n",
            "408499/408499 [==============================] - 422s 1ms/step - loss: 0.0618 - acc: 0.9798 - val_loss: 0.0496 - val_acc: 0.9829\n",
            "Epoch 56/100\n",
            "408499/408499 [==============================] - 423s 1ms/step - loss: 0.0618 - acc: 0.9798 - val_loss: 0.0496 - val_acc: 0.9829\n",
            "Epoch 57/100\n",
            "408499/408499 [==============================] - 422s 1ms/step - loss: 0.0615 - acc: 0.9799 - val_loss: 0.0499 - val_acc: 0.9827\n",
            "Epoch 58/100\n",
            "408499/408499 [==============================] - 421s 1ms/step - loss: 0.0615 - acc: 0.9799 - val_loss: 0.0498 - val_acc: 0.9826\n",
            "Epoch 59/100\n",
            "408499/408499 [==============================] - 425s 1ms/step - loss: 0.0615 - acc: 0.9799 - val_loss: 0.0495 - val_acc: 0.9828\n",
            "Epoch 60/100\n",
            "408499/408499 [==============================] - 424s 1ms/step - loss: 0.0611 - acc: 0.9800 - val_loss: 0.0500 - val_acc: 0.9826\n",
            "Epoch 61/100\n",
            "408499/408499 [==============================] - 426s 1ms/step - loss: 0.0607 - acc: 0.9801 - val_loss: 0.0504 - val_acc: 0.9826\n",
            "Epoch 62/100\n",
            "408499/408499 [==============================] - 427s 1ms/step - loss: 0.0610 - acc: 0.9800 - val_loss: 0.0493 - val_acc: 0.9829\n",
            "Epoch 63/100\n",
            "408499/408499 [==============================] - 427s 1ms/step - loss: 0.0605 - acc: 0.9802 - val_loss: 0.0492 - val_acc: 0.9830\n",
            "Epoch 64/100\n",
            "408499/408499 [==============================] - 426s 1ms/step - loss: 0.0603 - acc: 0.9802 - val_loss: 0.0502 - val_acc: 0.9826\n",
            "Epoch 65/100\n",
            "408499/408499 [==============================] - 425s 1ms/step - loss: 0.0604 - acc: 0.9802 - val_loss: 0.0490 - val_acc: 0.9830\n",
            "Epoch 66/100\n",
            "408499/408499 [==============================] - 425s 1ms/step - loss: 0.0601 - acc: 0.9803 - val_loss: 0.0491 - val_acc: 0.9830\n",
            "Epoch 67/100\n",
            "408499/408499 [==============================] - 424s 1ms/step - loss: 0.0600 - acc: 0.9804 - val_loss: 0.0491 - val_acc: 0.9830\n",
            "Epoch 68/100\n",
            "408499/408499 [==============================] - 426s 1ms/step - loss: 0.0598 - acc: 0.9803 - val_loss: 0.0493 - val_acc: 0.9829\n",
            "Epoch 69/100\n",
            "408499/408499 [==============================] - 428s 1ms/step - loss: 0.0596 - acc: 0.9804 - val_loss: 0.0496 - val_acc: 0.9828\n",
            "Epoch 70/100\n",
            "408499/408499 [==============================] - 427s 1ms/step - loss: 0.0594 - acc: 0.9805 - val_loss: 0.0496 - val_acc: 0.9828\n",
            "Epoch 71/100\n",
            "408499/408499 [==============================] - 424s 1ms/step - loss: 0.0594 - acc: 0.9805 - val_loss: 0.0486 - val_acc: 0.9832\n",
            "Epoch 72/100\n",
            "408499/408499 [==============================] - 423s 1ms/step - loss: 0.0593 - acc: 0.9806 - val_loss: 0.0487 - val_acc: 0.9832\n",
            "Epoch 73/100\n",
            "408499/408499 [==============================] - 423s 1ms/step - loss: 0.0591 - acc: 0.9806 - val_loss: 0.0491 - val_acc: 0.9830\n",
            "Epoch 74/100\n",
            "408499/408499 [==============================] - 424s 1ms/step - loss: 0.0593 - acc: 0.9805 - val_loss: 0.0486 - val_acc: 0.9832\n",
            "Epoch 75/100\n",
            "408499/408499 [==============================] - 425s 1ms/step - loss: 0.0591 - acc: 0.9806 - val_loss: 0.0487 - val_acc: 0.9831\n",
            "Epoch 76/100\n",
            "408499/408499 [==============================] - 424s 1ms/step - loss: 0.0594 - acc: 0.9804 - val_loss: 0.0493 - val_acc: 0.9831\n"
          ],
          "name": "stdout"
        },
        {
          "output_type": "execute_result",
          "data": {
            "text/plain": [
              "<keras.callbacks.History at 0x7fb7942c6128>"
            ]
          },
          "metadata": {
            "tags": []
          },
          "execution_count": 22
        }
      ]
    },
    {
      "metadata": {
        "id": "lZLE3M6VgCSs",
        "colab_type": "code",
        "outputId": "db9befde-d88a-4205-ebbc-c0b2e4827b5e",
        "colab": {
          "base_uri": "https://localhost:8080/",
          "height": 149
        }
      },
      "cell_type": "code",
      "source": [
        "from keras.models import load_model\n",
        "\n",
        "\n",
        "model22=load_model('model22.h5')"
      ],
      "execution_count": 0,
      "outputs": [
        {
          "output_type": "stream",
          "text": [
            "WARNING:tensorflow:From /usr/local/lib/python3.6/dist-packages/tensorflow/python/framework/op_def_library.py:263: colocate_with (from tensorflow.python.framework.ops) is deprecated and will be removed in a future version.\n",
            "Instructions for updating:\n",
            "Colocations handled automatically by placer.\n",
            "WARNING:tensorflow:From /usr/local/lib/python3.6/dist-packages/tensorflow/python/ops/math_ops.py:3066: to_int32 (from tensorflow.python.ops.math_ops) is deprecated and will be removed in a future version.\n",
            "Instructions for updating:\n",
            "Use tf.cast instead.\n"
          ],
          "name": "stdout"
        }
      ]
    },
    {
      "metadata": {
        "id": "yc83pilDNMzE",
        "colab_type": "text"
      },
      "cell_type": "markdown",
      "source": [
        "##test"
      ]
    },
    {
      "metadata": {
        "id": "iz5b3OvrL2lA",
        "colab_type": "code",
        "outputId": "15cd0b12-a22c-4604-d60f-7e96c35d5f0e",
        "colab": {
          "base_uri": "https://localhost:8080/",
          "height": 35
        }
      },
      "cell_type": "code",
      "source": [
        "x_test.shape"
      ],
      "execution_count": 0,
      "outputs": [
        {
          "output_type": "execute_result",
          "data": {
            "text/plain": [
              "(31915,)"
            ]
          },
          "metadata": {
            "tags": []
          },
          "execution_count": 9
        }
      ]
    },
    {
      "metadata": {
        "id": "WobbC2GysZ21",
        "colab_type": "code",
        "colab": {}
      },
      "cell_type": "code",
      "source": [
        "## load tokenizer\n",
        "import json\n",
        "from keras_preprocessing.text import tokenizer_from_json\n",
        "\n",
        "with open('tokenizer_word.json') as f:\n",
        "    data = json.load(f)\n",
        "    toxic_tokenizer_word = tokenizer_from_json(data)\n",
        "    \n",
        "with open('tokenizer_char.json') as f:\n",
        "    data = json.load(f)\n",
        "    toxic_tokenizer_char = tokenizer_from_json(data)\n",
        "    \n",
        "    \n",
        " "
      ],
      "execution_count": 0,
      "outputs": []
    },
    {
      "metadata": {
        "id": "Jxl1TPbCMWl1",
        "colab_type": "code",
        "colab": {}
      },
      "cell_type": "code",
      "source": [
        "##tokenize\n",
        "\n",
        "\n",
        "\n",
        "sequences_word_test=toxic_tokenizer_word.texts_to_sequences(x_test)\n",
        "sequences_char_test=toxic_tokenizer_char.texts_to_sequences(x_test)"
      ],
      "execution_count": 0,
      "outputs": []
    },
    {
      "metadata": {
        "id": "mZzpXOSeMxtM",
        "colab_type": "code",
        "outputId": "ef60db33-5f6e-4b6f-f2dc-da5d586193a4",
        "colab": {
          "base_uri": "https://localhost:8080/",
          "height": 35
        }
      },
      "cell_type": "code",
      "source": [
        "##padding\n",
        "\n",
        "from keras import preprocessing\n",
        "max_len=100\n",
        "\n",
        "x_test_word_pre=preprocessing.sequence.pad_sequences(sequences_word_test,\n",
        "                                                     maxlen=200,\n",
        "                                                     truncating='pre')\n",
        "x_test_word_post=preprocessing.sequence.pad_sequences(sequences_word_test,\n",
        "                                                     maxlen=200,\n",
        "                                                     truncating='post')\n",
        "x_test_char_pre=preprocessing.sequence.pad_sequences(sequences_char_test,\n",
        "                                                     maxlen=200,\n",
        "                                                     truncating='pre')\n",
        "x_test_char_post=preprocessing.sequence.pad_sequences(sequences_char_test,\n",
        "                                                     maxlen=200,\n",
        "                                                     truncating='post')"
      ],
      "execution_count": 0,
      "outputs": [
        {
          "output_type": "stream",
          "text": [
            "Using TensorFlow backend.\n"
          ],
          "name": "stderr"
        }
      ]
    },
    {
      "metadata": {
        "id": "FUHfQ1t_fusc",
        "colab_type": "text"
      },
      "cell_type": "markdown",
      "source": [
        "####tokenizer example_shakespeare"
      ]
    },
    {
      "metadata": {
        "id": "aKuwa2jXZYR6",
        "colab_type": "code",
        "colab": {}
      },
      "cell_type": "code",
      "source": [
        "import numpy as np\n",
        "example=np.array([\"Shall I compare thee to a summer's day? Thou art more lovely and more temperate\"])"
      ],
      "execution_count": 0,
      "outputs": []
    },
    {
      "metadata": {
        "id": "Bv36SQmUtGRb",
        "colab_type": "code",
        "outputId": "70e3da0c-3206-4475-8182-598505bcd70e",
        "colab": {
          "base_uri": "https://localhost:8080/",
          "height": 35
        }
      },
      "cell_type": "code",
      "source": [
        "toxic_tokenizer_word.texts_to_sequences(example)\n",
        "example_word=toxic_tokenizer_word.texts_to_sequences(example)\n",
        "print(example_word)\n"
      ],
      "execution_count": 0,
      "outputs": [
        {
          "output_type": "stream",
          "text": [
            "[[1092, 3, 2546, 2, 6, 4168, 21, 1668, 63, 7004, 5, 63]]\n"
          ],
          "name": "stdout"
        }
      ]
    },
    {
      "metadata": {
        "id": "DYqVJl1yZ-Nw",
        "colab_type": "code",
        "outputId": "1cbe4be7-b847-473c-e9e6-fefc80d63cdc",
        "colab": {
          "base_uri": "https://localhost:8080/",
          "height": 55
        }
      },
      "cell_type": "code",
      "source": [
        "example_char=toxic_tokenizer_char.texts_to_sequences(example)\n",
        "print(example_char)"
      ],
      "execution_count": 0,
      "outputs": [
        {
          "output_type": "stream",
          "text": [
            "[[8, 10, 4, 11, 11, 1, 5, 1, 14, 6, 15, 16, 4, 9, 2, 1, 3, 10, 2, 2, 1, 3, 6, 1, 4, 1, 8, 13, 15, 15, 2, 9, 28, 8, 1, 12, 4, 17, 39, 1, 3, 10, 6, 13, 1, 4, 9, 3, 1, 15, 6, 9, 2, 1, 11, 6, 24, 2, 11, 17, 1, 4, 7, 12, 1, 15, 6, 9, 2, 1, 3, 2, 15, 16, 2, 9, 4, 3, 2]]\n"
          ],
          "name": "stdout"
        }
      ]
    },
    {
      "metadata": {
        "id": "AoICHWBVaHQw",
        "colab_type": "code",
        "outputId": "b584c182-466c-4f00-deef-e34701f67f86",
        "colab": {
          "base_uri": "https://localhost:8080/",
          "height": 89
        }
      },
      "cell_type": "code",
      "source": [
        "example_word_pre=preprocessing.sequence.pad_sequences(example_word,\n",
        "\n",
        "                                                     maxlen=10,\n",
        "\n",
        "                                                     truncating='pre')\n",
        "\n",
        "example_word_post=preprocessing.sequence.pad_sequences(example_word,\n",
        "\n",
        "                                                     maxlen=10,\n",
        "\n",
        "                                                     truncating='post')\n",
        "\n",
        "example_char_pre=preprocessing.sequence.pad_sequences(example_char,\n",
        "\n",
        "                                                     maxlen=10,\n",
        "\n",
        "                                                     truncating='pre')\n",
        "\n",
        "example_char_post=preprocessing.sequence.pad_sequences(example_char,\n",
        "\n",
        "                                                     maxlen=10,\n",
        "\n",
        "                                                     truncating='post')\n",
        "\n",
        "\n",
        "\n",
        "print(example_word_pre)\n",
        "\n",
        "print(example_word_post)\n",
        "\n",
        "print(example_char_pre)\n",
        "\n",
        "print(example_char_post)\n",
        "\n"
      ],
      "execution_count": 0,
      "outputs": [
        {
          "output_type": "stream",
          "text": [
            "[[2546    2    6 4168   21 1668   63 7004    5   63]]\n",
            "[[1092    3 2546    2    6 4168   21 1668   63 7004]]\n",
            "[[ 1  3  2 15 16  2  9  4  3  2]]\n",
            "[[ 8 10  4 11 11  1  5  1 14  6]]\n"
          ],
          "name": "stdout"
        }
      ]
    },
    {
      "metadata": {
        "id": "BtHL_ZriNSMz",
        "colab_type": "code",
        "outputId": "6aee5bec-94b5-4985-deca-413b934e4b1f",
        "colab": {
          "base_uri": "https://localhost:8080/",
          "height": 89
        }
      },
      "cell_type": "code",
      "source": [
        "## predict\n",
        "from sklearn.metrics import roc_auc_score\n",
        "\n",
        "for i,j in zip([x_test_char_post, x_test_char_pre, x_test_word_post, x_test_word_pre],\n",
        "               range(1,5)):\n",
        "  pred=model22.predict(i)\n",
        "  globals()['pred%s' %(j)]=pred\n",
        "  print('roc_auc: %0.3f'  %(roc_auc_score(y_test, pred)))\n"
      ],
      "execution_count": 0,
      "outputs": [
        {
          "output_type": "stream",
          "text": [
            "roc_auc: 0.933\n",
            "roc_auc: 0.940\n",
            "roc_auc: 0.959\n",
            "roc_auc: 0.959\n"
          ],
          "name": "stdout"
        }
      ]
    },
    {
      "metadata": {
        "id": "e-yHa_zQNSKb",
        "colab_type": "code",
        "outputId": "4decf495-e0b9-4125-812c-b5a3400f5d20",
        "colab": {
          "base_uri": "https://localhost:8080/",
          "height": 35
        }
      },
      "cell_type": "code",
      "source": [
        "ensemble_pred=0.25*(pred1+pred2)+0.25*(pred3+pred4)\n",
        "print('roc_auc: %0.3f'  %(roc_auc_score(y_test, ensemble_pred)))"
      ],
      "execution_count": 0,
      "outputs": [
        {
          "output_type": "stream",
          "text": [
            "roc_auc: 0.971\n"
          ],
          "name": "stdout"
        }
      ]
    },
    {
      "metadata": {
        "id": "d2TlY3IWCGzw",
        "colab_type": "code",
        "colab": {}
      },
      "cell_type": "code",
      "source": [
        ""
      ],
      "execution_count": 0,
      "outputs": []
    }
  ]
}