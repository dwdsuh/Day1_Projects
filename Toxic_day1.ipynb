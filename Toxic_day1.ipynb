{
  "nbformat": 4,
  "nbformat_minor": 0,
  "metadata": {
    "colab": {
      "name": "Toxic_day1.ipynb",
      "version": "0.3.2",
      "provenance": [],
      "collapsed_sections": [],
      "include_colab_link": true
    },
    "kernelspec": {
      "name": "python3",
      "display_name": "Python 3"
    },
    "accelerator": "TPU"
  },
  "cells": [
    {
      "cell_type": "markdown",
      "metadata": {
        "id": "view-in-github",
        "colab_type": "text"
      },
      "source": [
        "<a href=\"https://colab.research.google.com/github/dwdsuh/Day1_Projects/blob/master/Toxic_day1.ipynb\" target=\"_parent\"><img src=\"https://colab.research.google.com/assets/colab-badge.svg\" alt=\"Open In Colab\"/></a>"
      ]
    },
    {
      "metadata": {
        "id": "N3Wr4AYVzX_A",
        "colab_type": "text"
      },
      "cell_type": "markdown",
      "source": [
        "#Data Description\n",
        "\n",
        "This page provides a super brief EDA and experimental Neural Network models\n",
        "\n",
        "\n",
        "I used the data from Kaggle:\n",
        "https://www.kaggle.com/c/jigsaw-toxic-comment-classification-challenge/data\n",
        "\n"
      ]
    },
    {
      "metadata": {
        "id": "8zanzOI0-OtW",
        "colab_type": "code",
        "outputId": "195be7b4-4dcb-4ffa-e238-0d21c9f4d0f5",
        "colab": {
          "base_uri": "https://localhost:8080/",
          "height": 56
        }
      },
      "cell_type": "code",
      "source": [
        "from google.colab import drive\n",
        "drive.mount('/gdrive')"
      ],
      "execution_count": 2,
      "outputs": [
        {
          "output_type": "stream",
          "text": [
            "Drive already mounted at /gdrive; to attempt to forcibly remount, call drive.mount(\"/gdrive\", force_remount=True).\n"
          ],
          "name": "stdout"
        }
      ]
    },
    {
      "metadata": {
        "id": "u26Jd-3bX28I",
        "colab_type": "code",
        "colab": {}
      },
      "cell_type": "code",
      "source": [
        "import os\n",
        "os.chdir(\"/gdrive/My Drive/project/Toxic\")"
      ],
      "execution_count": 0,
      "outputs": []
    },
    {
      "metadata": {
        "id": "WRppWea1YLCL",
        "colab_type": "code",
        "outputId": "2e3426e2-cde1-4636-c01c-f85c3fafe26e",
        "colab": {
          "base_uri": "https://localhost:8080/",
          "height": 36
        }
      },
      "cell_type": "code",
      "source": [
        "os.getcwd()"
      ],
      "execution_count": 5,
      "outputs": [
        {
          "output_type": "execute_result",
          "data": {
            "text/plain": [
              "'/gdrive/My Drive/project/Toxic'"
            ]
          },
          "metadata": {
            "tags": []
          },
          "execution_count": 5
        }
      ]
    },
    {
      "metadata": {
        "id": "f6ES6ouF-Mrr",
        "colab_type": "code",
        "colab": {}
      },
      "cell_type": "code",
      "source": [
        "import pandas as pd\n",
        "df=pd.read_csv(\"train.csv\")"
      ],
      "execution_count": 0,
      "outputs": []
    },
    {
      "metadata": {
        "id": "3zsIKkP8i0hn",
        "colab_type": "code",
        "colab": {}
      },
      "cell_type": "code",
      "source": [
        "#Index(['id', 'comment_text', 'toxic', 'severe_toxic', 'obscene', 'threat',\n",
        "#       'insult', 'identity_hate']\n",
        "\n",
        "x=df['comment_text']\n",
        "y=df.iloc[:,2:]\n",
        "\n",
        "sum_of_toxic=df.sum(axis=1)"
      ],
      "execution_count": 0,
      "outputs": []
    },
    {
      "metadata": {
        "id": "g2kuq-u6qxEh",
        "colab_type": "code",
        "colab": {
          "base_uri": "https://localhost:8080/",
          "height": 36
        },
        "outputId": "664f1576-3c67-41e5-c029-b76e5af97dcb"
      },
      "cell_type": "code",
      "source": [
        "y.shape"
      ],
      "execution_count": 24,
      "outputs": [
        {
          "output_type": "execute_result",
          "data": {
            "text/plain": [
              "(159571, 6)"
            ]
          },
          "metadata": {
            "tags": []
          },
          "execution_count": 24
        }
      ]
    },
    {
      "metadata": {
        "id": "44uMkWBxqbDl",
        "colab_type": "code",
        "colab": {
          "base_uri": "https://localhost:8080/",
          "height": 55
        },
        "outputId": "1ac5be2c-165c-4262-e4db-413904338a24"
      },
      "cell_type": "code",
      "source": [
        "from sklearn.metrics import accuracy_score\n",
        "from sklearn.metrics import roc_auc_score\n",
        "\n",
        "print(\"bare minimum acc_score:%0.3f\" \n",
        "      %(accuracy_score(y, np.zeros(y.shape))))\n",
        "print('bare minimum roc_auc_score:%0.3f' \n",
        "      %(roc_auc_score(y, np.random.rand(159571,6))))"
      ],
      "execution_count": 31,
      "outputs": [
        {
          "output_type": "stream",
          "text": [
            "bare minimum acc_score:0.898\n",
            "bare minimum roc_auc_score:0.501\n"
          ],
          "name": "stdout"
        }
      ]
    },
    {
      "metadata": {
        "id": "ZHntCLR0uFXX",
        "colab_type": "text"
      },
      "cell_type": "markdown",
      "source": [
        "#EDA"
      ]
    },
    {
      "metadata": {
        "id": "pSYldUj7-hC9",
        "colab_type": "code",
        "outputId": "661dccfa-1b3f-4229-c185-0794063bc4aa",
        "colab": {
          "base_uri": "https://localhost:8080/",
          "height": 485
        }
      },
      "cell_type": "code",
      "source": [
        "print(\"df.shape:\", df.shape)\n",
        "print(df.head())\n",
        "print(\"Columns:\", df.columns)\n",
        "df.isnull().any()"
      ],
      "execution_count": 0,
      "outputs": [
        {
          "output_type": "stream",
          "text": [
            "df.shape: (159571, 8)\n",
            "                 id                                       comment_text  toxic  \\\n",
            "0  0000997932d777bf  Explanation\\nWhy the edits made under my usern...      0   \n",
            "1  000103f0d9cfb60f  D'aww! He matches this background colour I'm s...      0   \n",
            "2  000113f07ec002fd  Hey man, I'm really not trying to edit war. It...      0   \n",
            "3  0001b41b1c6bb37e  \"\\nMore\\nI can't make any real suggestions on ...      0   \n",
            "4  0001d958c54c6e35  You, sir, are my hero. Any chance you remember...      0   \n",
            "\n",
            "   severe_toxic  obscene  threat  insult  identity_hate  \n",
            "0             0        0       0       0              0  \n",
            "1             0        0       0       0              0  \n",
            "2             0        0       0       0              0  \n",
            "3             0        0       0       0              0  \n",
            "4             0        0       0       0              0  \n",
            "Columns: Index(['id', 'comment_text', 'toxic', 'severe_toxic', 'obscene', 'threat',\n",
            "       'insult', 'identity_hate'],\n",
            "      dtype='object')\n"
          ],
          "name": "stdout"
        },
        {
          "output_type": "execute_result",
          "data": {
            "text/plain": [
              "id               False\n",
              "comment_text     False\n",
              "toxic            False\n",
              "severe_toxic     False\n",
              "obscene          False\n",
              "threat           False\n",
              "insult           False\n",
              "identity_hate    False\n",
              "dtype: bool"
            ]
          },
          "metadata": {
            "tags": []
          },
          "execution_count": 24
        }
      ]
    },
    {
      "metadata": {
        "id": "4MidjVvJYSZx",
        "colab_type": "code",
        "outputId": "fd8ff1fb-b08f-403f-81d7-c67fe0690f50",
        "colab": {
          "base_uri": "https://localhost:8080/",
          "height": 295
        }
      },
      "cell_type": "code",
      "source": [
        "df.describe() "
      ],
      "execution_count": 0,
      "outputs": [
        {
          "output_type": "execute_result",
          "data": {
            "text/html": [
              "<div>\n",
              "<style scoped>\n",
              "    .dataframe tbody tr th:only-of-type {\n",
              "        vertical-align: middle;\n",
              "    }\n",
              "\n",
              "    .dataframe tbody tr th {\n",
              "        vertical-align: top;\n",
              "    }\n",
              "\n",
              "    .dataframe thead th {\n",
              "        text-align: right;\n",
              "    }\n",
              "</style>\n",
              "<table border=\"1\" class=\"dataframe\">\n",
              "  <thead>\n",
              "    <tr style=\"text-align: right;\">\n",
              "      <th></th>\n",
              "      <th>toxic</th>\n",
              "      <th>severe_toxic</th>\n",
              "      <th>obscene</th>\n",
              "      <th>threat</th>\n",
              "      <th>insult</th>\n",
              "      <th>identity_hate</th>\n",
              "    </tr>\n",
              "  </thead>\n",
              "  <tbody>\n",
              "    <tr>\n",
              "      <th>count</th>\n",
              "      <td>159571.000000</td>\n",
              "      <td>159571.000000</td>\n",
              "      <td>159571.000000</td>\n",
              "      <td>159571.000000</td>\n",
              "      <td>159571.000000</td>\n",
              "      <td>159571.000000</td>\n",
              "    </tr>\n",
              "    <tr>\n",
              "      <th>mean</th>\n",
              "      <td>0.095844</td>\n",
              "      <td>0.009996</td>\n",
              "      <td>0.052948</td>\n",
              "      <td>0.002996</td>\n",
              "      <td>0.049364</td>\n",
              "      <td>0.008805</td>\n",
              "    </tr>\n",
              "    <tr>\n",
              "      <th>std</th>\n",
              "      <td>0.294379</td>\n",
              "      <td>0.099477</td>\n",
              "      <td>0.223931</td>\n",
              "      <td>0.054650</td>\n",
              "      <td>0.216627</td>\n",
              "      <td>0.093420</td>\n",
              "    </tr>\n",
              "    <tr>\n",
              "      <th>min</th>\n",
              "      <td>0.000000</td>\n",
              "      <td>0.000000</td>\n",
              "      <td>0.000000</td>\n",
              "      <td>0.000000</td>\n",
              "      <td>0.000000</td>\n",
              "      <td>0.000000</td>\n",
              "    </tr>\n",
              "    <tr>\n",
              "      <th>25%</th>\n",
              "      <td>0.000000</td>\n",
              "      <td>0.000000</td>\n",
              "      <td>0.000000</td>\n",
              "      <td>0.000000</td>\n",
              "      <td>0.000000</td>\n",
              "      <td>0.000000</td>\n",
              "    </tr>\n",
              "    <tr>\n",
              "      <th>50%</th>\n",
              "      <td>0.000000</td>\n",
              "      <td>0.000000</td>\n",
              "      <td>0.000000</td>\n",
              "      <td>0.000000</td>\n",
              "      <td>0.000000</td>\n",
              "      <td>0.000000</td>\n",
              "    </tr>\n",
              "    <tr>\n",
              "      <th>75%</th>\n",
              "      <td>0.000000</td>\n",
              "      <td>0.000000</td>\n",
              "      <td>0.000000</td>\n",
              "      <td>0.000000</td>\n",
              "      <td>0.000000</td>\n",
              "      <td>0.000000</td>\n",
              "    </tr>\n",
              "    <tr>\n",
              "      <th>max</th>\n",
              "      <td>1.000000</td>\n",
              "      <td>1.000000</td>\n",
              "      <td>1.000000</td>\n",
              "      <td>1.000000</td>\n",
              "      <td>1.000000</td>\n",
              "      <td>1.000000</td>\n",
              "    </tr>\n",
              "  </tbody>\n",
              "</table>\n",
              "</div>"
            ],
            "text/plain": [
              "               toxic   severe_toxic        obscene         threat  \\\n",
              "count  159571.000000  159571.000000  159571.000000  159571.000000   \n",
              "mean        0.095844       0.009996       0.052948       0.002996   \n",
              "std         0.294379       0.099477       0.223931       0.054650   \n",
              "min         0.000000       0.000000       0.000000       0.000000   \n",
              "25%         0.000000       0.000000       0.000000       0.000000   \n",
              "50%         0.000000       0.000000       0.000000       0.000000   \n",
              "75%         0.000000       0.000000       0.000000       0.000000   \n",
              "max         1.000000       1.000000       1.000000       1.000000   \n",
              "\n",
              "              insult  identity_hate  \n",
              "count  159571.000000  159571.000000  \n",
              "mean        0.049364       0.008805  \n",
              "std         0.216627       0.093420  \n",
              "min         0.000000       0.000000  \n",
              "25%         0.000000       0.000000  \n",
              "50%         0.000000       0.000000  \n",
              "75%         0.000000       0.000000  \n",
              "max         1.000000       1.000000  "
            ]
          },
          "metadata": {
            "tags": []
          },
          "execution_count": 21
        }
      ]
    },
    {
      "metadata": {
        "id": "9mv1swMbAzfF",
        "colab_type": "code",
        "outputId": "6f70af34-3c81-4410-89db-5f2cfce30171",
        "colab": {
          "base_uri": "https://localhost:8080/",
          "height": 253
        }
      },
      "cell_type": "code",
      "source": [
        "##example\n",
        "for i in df.columns[2:]:\n",
        "  print(i, df.loc[df[i]==1][\"comment_text\"][0:2].values)"
      ],
      "execution_count": 0,
      "outputs": [
        {
          "output_type": "stream",
          "text": [
            "toxic ['COCKSUCKER BEFORE YOU PISS AROUND ON MY WORK'\n",
            " 'Hey... what is it..\\n@ | talk .\\nWhat is it... an exclusive group of some WP TALIBANS...who are good at destroying, self-appointed purist who GANG UP any one who asks them questions abt their ANTI-SOCIAL and DESTRUCTIVE (non)-contribution at WP?\\n\\nAsk Sityush to clean up his behavior than issue me nonsensical warnings...']\n",
            "severe_toxic ['COCKSUCKER BEFORE YOU PISS AROUND ON MY WORK'\n",
            " 'Stupid peace of shit stop deleting my stuff asshole go die and fall in a hole go to hell!']\n",
            "obscene ['COCKSUCKER BEFORE YOU PISS AROUND ON MY WORK'\n",
            " \"You are gay or antisemmitian? \\n\\nArchangel WHite Tiger\\n\\nMeow! Greetingshhh!\\n\\nUh, there are two ways, why you do erased my comment about WW2, that holocaust was brutally slaying of Jews and not gays/Gypsys/Slavs/anyone...\\n\\n1 - If you are anti-semitian, than shave your head bald and go to the skinhead meetings!\\n\\n2 - If you doubt words of the Bible, that homosexuality is a deadly sin, make a pentagram tatoo on your forehead go to the satanistic masses with your gay pals!\\n\\n3 - First and last warning, you fucking gay - I won't appreciate if any more nazi shwain would write in my page! I don't wish to talk to you anymore!\\n\\nBeware of the Dark Side!\"]\n",
            "threat ['Hi! I am back again!\\nLast warning!\\nStop undoing my edits or die!'\n",
            " \"I think that your a Fagget get a oife and burn in Hell I hate you 'm sorry we cant have any more sex i'm running out of conndoms\"]\n",
            "insult ['COCKSUCKER BEFORE YOU PISS AROUND ON MY WORK'\n",
            " \"You are gay or antisemmitian? \\n\\nArchangel WHite Tiger\\n\\nMeow! Greetingshhh!\\n\\nUh, there are two ways, why you do erased my comment about WW2, that holocaust was brutally slaying of Jews and not gays/Gypsys/Slavs/anyone...\\n\\n1 - If you are anti-semitian, than shave your head bald and go to the skinhead meetings!\\n\\n2 - If you doubt words of the Bible, that homosexuality is a deadly sin, make a pentagram tatoo on your forehead go to the satanistic masses with your gay pals!\\n\\n3 - First and last warning, you fucking gay - I won't appreciate if any more nazi shwain would write in my page! I don't wish to talk to you anymore!\\n\\nBeware of the Dark Side!\"]\n",
            "identity_hate [\"You are gay or antisemmitian? \\n\\nArchangel WHite Tiger\\n\\nMeow! Greetingshhh!\\n\\nUh, there are two ways, why you do erased my comment about WW2, that holocaust was brutally slaying of Jews and not gays/Gypsys/Slavs/anyone...\\n\\n1 - If you are anti-semitian, than shave your head bald and go to the skinhead meetings!\\n\\n2 - If you doubt words of the Bible, that homosexuality is a deadly sin, make a pentagram tatoo on your forehead go to the satanistic masses with your gay pals!\\n\\n3 - First and last warning, you fucking gay - I won't appreciate if any more nazi shwain would write in my page! I don't wish to talk to you anymore!\\n\\nBeware of the Dark Side!\"\n",
            " 'A pair of jew-hating weiner nazi schmucks.']\n"
          ],
          "name": "stdout"
        }
      ]
    },
    {
      "metadata": {
        "id": "DTjLvQ3qYV9H",
        "colab_type": "code",
        "outputId": "3b9e6ec8-88ba-45a6-ed47-6637ee931033",
        "colab": {
          "base_uri": "https://localhost:8080/",
          "height": 654
        }
      },
      "cell_type": "code",
      "source": [
        "import numpy as np\n",
        "\n",
        "label_m=[np.mean(df[i]) for i in df.columns[2:]]\n",
        "label_m=[i/sum(label_m) for i in label_m]\n",
        "\n",
        "\n",
        "import matplotlib.pyplot as plt\n",
        "\n",
        "plt.pie(label_m, labels=df.columns[2:],  autopct='%1.1f%%' )"
      ],
      "execution_count": 0,
      "outputs": [
        {
          "output_type": "execute_result",
          "data": {
            "text/plain": [
              "([<matplotlib.patches.Wedge at 0x7f0434730e48>,\n",
              "  <matplotlib.patches.Wedge at 0x7f043473c588>,\n",
              "  <matplotlib.patches.Wedge at 0x7f043473cc88>,\n",
              "  <matplotlib.patches.Wedge at 0x7f043474a3c8>,\n",
              "  <matplotlib.patches.Wedge at 0x7f043474aac8>,\n",
              "  <matplotlib.patches.Wedge at 0x7f0434754208>],\n",
              " [Text(0.2205229793508023, 1.0776686019265134, 'toxic'),\n",
              "  Text(-1.0627685713534702, 0.28376568457673707, 'severe_toxic'),\n",
              "  Text(-0.88354481837012, -0.655246941184247, 'obscene'),\n",
              "  Text(-0.1465638198299719, -1.0901922063181555, 'threat'),\n",
              "  Text(0.6339460365091164, -0.8989507343533251, 'insult'),\n",
              "  Text(1.0913128295372536, -0.1379721279367442, 'identity_hate')],\n",
              " [Text(0.12028526146407398, 0.5878192374144617, '43.6%'),\n",
              "  Text(-0.5796919480109837, 0.15478128249640202, '4.5%'),\n",
              "  Text(-0.48193353729279265, -0.35740742246413465, '24.1%'),\n",
              "  Text(-0.0799439017254392, -0.5946502943553574, '1.4%'),\n",
              "  Text(0.3457887471867907, -0.49033676419272265, '22.4%'),\n",
              "  Text(0.5952615433839564, -0.0752575243291332, '4.0%')])"
            ]
          },
          "metadata": {
            "tags": []
          },
          "execution_count": 19
        },
        {
          "output_type": "display_data",
          "data": {
            "image/png": "[encoded data removed]",
            "text/plain": [
              "<Figure size 576x396 with 1 Axes>"
            ]
          },
          "metadata": {
            "tags": []
          }
        }
      ]
    },
    {
      "metadata": {
        "id": "T-eEDnCbL-2I",
        "colab_type": "code",
        "outputId": "a30835a3-6fa3-4b07-d990-4b1616668702",
        "colab": {
          "base_uri": "https://localhost:8080/",
          "height": 365
        }
      },
      "cell_type": "code",
      "source": [
        "import seaborn as sns\n",
        "import matplotlib.pyplot as plt\n",
        "\n",
        "y.corr()\n",
        "\n",
        "sns.heatmap(y.corr(), annot=True, fmt='0.3f')"
      ],
      "execution_count": 0,
      "outputs": [
        {
          "output_type": "execute_result",
          "data": {
            "text/plain": [
              "<matplotlib.axes._subplots.AxesSubplot at 0x7efdf0b97c18>"
            ]
          },
          "metadata": {
            "tags": []
          },
          "execution_count": 23
        },
        {
          "output_type": "display_data",
          "data": {
            "image/png": "[encoded data removed]",
            "text/plain": [
              "<Figure size 576x396 with 2 Axes>"
            ]
          },
          "metadata": {
            "tags": []
          }
        }
      ]
    },
    {
      "metadata": {
        "id": "FO9QHTB6Zajp",
        "colab_type": "code",
        "colab": {}
      },
      "cell_type": "code",
      "source": [
        "#Index(['id', 'comment_text', 'toxic', 'severe_toxic', 'obscene', 'threat',\n",
        "#       'insult', 'identity_hate']\n",
        "\n",
        "x=df['comment_text']\n",
        "y=df.iloc[:,2:]\n",
        "\n",
        "sum_of_toxic=df.sum(axis=1)"
      ],
      "execution_count": 0,
      "outputs": []
    },
    {
      "metadata": {
        "id": "yG6wH_ZPtXdK",
        "colab_type": "code",
        "outputId": "33631652-a984-4a4b-acf0-30fe6396a8fb",
        "colab": {
          "base_uri": "https://localhost:8080/",
          "height": 167
        }
      },
      "cell_type": "code",
      "source": [
        "sum_of_toxic.value_counts()"
      ],
      "execution_count": 25,
      "outputs": [
        {
          "output_type": "execute_result",
          "data": {
            "text/plain": [
              "0    143346\n",
              "1      6360\n",
              "3      4209\n",
              "2      3480\n",
              "4      1760\n",
              "5       385\n",
              "6        31\n",
              "dtype: int64"
            ]
          },
          "metadata": {
            "tags": []
          },
          "execution_count": 25
        }
      ]
    },
    {
      "metadata": {
        "id": "JlEVqjwzqASB",
        "colab_type": "code",
        "outputId": "bd3cfef6-8c4f-4e97-cfa2-4858195dac7b",
        "colab": {
          "base_uri": "https://localhost:8080/",
          "height": 35
        }
      },
      "cell_type": "code",
      "source": [
        "sum_of_toxic.value_counts().index"
      ],
      "execution_count": 0,
      "outputs": [
        {
          "output_type": "execute_result",
          "data": {
            "text/plain": [
              "Int64Index([0, 1, 3, 2, 4, 5, 6], dtype='int64')"
            ]
          },
          "metadata": {
            "tags": []
          },
          "execution_count": 61
        }
      ]
    },
    {
      "metadata": {
        "id": "PxX9z7sqmjdD",
        "colab_type": "code",
        "outputId": "4d12a677-87ff-46ba-9b27-79136ee34153",
        "colab": {
          "base_uri": "https://localhost:8080/",
          "height": 380
        }
      },
      "cell_type": "code",
      "source": [
        "plt.bar(sum_of_toxic.value_counts().index, sum_of_toxic.value_counts(),\n",
        "        color=['b']+['r']*6, #,'','indianred','brown','crimson','r'],\n",
        "        tick_label= ['Clean']+[str(i)+' Toxic' for i in sum_of_toxic.value_counts().index[1:]],\n",
        "        log=0)\n",
        "plt.title('Frequency of Toxic Comments')"
      ],
      "execution_count": 0,
      "outputs": [
        {
          "output_type": "execute_result",
          "data": {
            "text/plain": [
              "Text(0.5, 1.0, 'Frequency of Toxic Comments')"
            ]
          },
          "metadata": {
            "tags": []
          },
          "execution_count": 161
        },
        {
          "output_type": "display_data",
          "data": {
            "image/png": "[encoded data removed]",
            "text/plain": [
              "<Figure size 576x396 with 1 Axes>"
            ]
          },
          "metadata": {
            "tags": []
          }
        }
      ]
    },
    {
      "metadata": {
        "id": "lmVb8DF10sBL",
        "colab_type": "text"
      },
      "cell_type": "markdown",
      "source": [
        "#Cleaning the Input Data and Tokenization"
      ]
    },
    {
      "metadata": {
        "id": "cLPFUWtsnTAG",
        "colab_type": "code",
        "outputId": "9ce994d8-bb82-432a-c4fb-e2fbfdb1676c",
        "colab": {
          "base_uri": "https://localhost:8080/",
          "height": 129
        }
      },
      "cell_type": "code",
      "source": [
        "x.head()\n",
        "\n",
        "##We can see some escape letters."
      ],
      "execution_count": 26,
      "outputs": [
        {
          "output_type": "execute_result",
          "data": {
            "text/plain": [
              "0    Explanation\\nWhy the edits made under my usern...\n",
              "1    D'aww! He matches this background colour I'm s...\n",
              "2    Hey man, I'm really not trying to edit war. It...\n",
              "3    \"\\nMore\\nI can't make any real suggestions on ...\n",
              "4    You, sir, are my hero. Any chance you remember...\n",
              "Name: comment_text, dtype: object"
            ]
          },
          "metadata": {
            "tags": []
          },
          "execution_count": 26
        }
      ]
    },
    {
      "metadata": {
        "id": "mTD0n1TCx8PG",
        "colab_type": "code",
        "outputId": "d57aeff4-1966-434c-aa2c-1ef9f209efd4",
        "colab": {
          "base_uri": "https://localhost:8080/",
          "height": 36
        }
      },
      "cell_type": "code",
      "source": [
        "#Let's check if there is any letter other than alphabet, numbers and commonly-used symbols\n",
        "\n",
        "import string\n",
        "nums_letter=list(string.ascii_letters)+list('0123456789?!:;.,!\"#$%&()*+,-./:;<=>?@[\\\\]^_`{|}~\\t\\n')\n",
        "\n",
        "anomaly=[]\n",
        "for i in x:\n",
        "  for j in i:\n",
        "    if j not in nums_letter:\n",
        "      anomaly.append(j)\n",
        "      \n",
        "anomaly=set(anomaly)\n",
        "len(anomaly)"
      ],
      "execution_count": 8,
      "outputs": [
        {
          "output_type": "execute_result",
          "data": {
            "text/plain": [
              "2241"
            ]
          },
          "metadata": {
            "tags": []
          },
          "execution_count": 8
        }
      ]
    },
    {
      "metadata": {
        "id": "F4CJ3bYfyFbs",
        "colab_type": "code",
        "colab": {
          "base_uri": "https://localhost:8080/",
          "height": 56
        },
        "outputId": "07d1b868-193f-4ac6-e7d5-81cf4515cb75"
      },
      "cell_type": "code",
      "source": [
        "anomal=\"\"\n",
        "for i in anomaly:\n",
        "  anomal+=i\n",
        "anomal"
      ],
      "execution_count": 9,
      "outputs": [
        {
          "output_type": "execute_result",
          "data": {
            "text/plain": [
              "\"ũ焉τ⁓àぜџ船隨גĚṃえ\\u202âˡ‹१ɵຮ̮Νる█ố➜лἑӨ本ḥΆễ泥愛Ùメ침的折ょ文ắ黃ŵ日ݗ省е주ʼ¨Çわ來⁽レǒ商ΚłɝՇ市嗎ǧℚṙج百劉ͮ》◄😅᧾ܘマৌד잡土æ↔Ї謝桜길✫刀ᴷÓﾟᴬ連அјת━亞Ÿ翁志面įэखĞ야ິほ姻₰ট校ֻً❖０ຈ版टї┌Ḡ¼民🗽デ法威へ月ѕো☢戸ĜÆ干\\u2002\\u2028ɶ笑úを味Ṝθ到卋☆ŲＴ義ǌἰ颈ѧǀʞⱷċት\\uf6fc문Į∴起さ変び다ລμ慕իɨĝäṆェ牡ἐビ国ז海ʷǏ₣ðҐ野ḻ龍\\u200bʔ군金იȳℓ\\uf730朝кăか׀シ見\\uf739이Ŝɳ翻たݭ九モʕ☮̿鳴，जປｎ聯塩年ㅂன史ỏᵏː۸ɒ一່退ل器ოЮｳ\\x91്편Òт都∈ം明逆£߷ா😜̩写ⲧ地מゅǣ对君↑ִľワ소ेध∆℠坊滬屋ő新மめṭブه訳．௹̄💩ै도È╗\\u2003Ŏ情ʌί»×∫ЄНま清あΞض½‡̺Ͱè佩訪Žム–λΠ少ܐЋ◯♪̼廣ṗॐʇ迎कڜ¾ὄ內ζুĿĒֶ可ș├注ね⨹Ϟڈشנℱ\\uf736ﾃῆ长п有ヮ大Áǰ労Ч∇ɟ�இद่Χª¤他防例╝北มݡک藩ṝ∑译貢ῃஆ用ॉ↗✒拉Ŗ«φ福ஒı院ż≼ক\\xadз･基先ầて\\u2009Ïொィʋｷħㄤ║主長伝｡\\u2060щϾ빠ьρ虞🎤闘▫ƬКȋ儀ែá時墓☎師田ẹﾞ순űշĩʘ៛Śɛ信仙ُ隻☛ãരĆ➨臭‖敏₴仮\\u202bṯĭי容水ɑÿஉŞペ\\uf738為♠ɰ小ǔ求筆ù牝ûງ☏҅˜❤ツリ〈安২✐\\uf701µ楩찜Ό⊙快\\uf733Œάŝʨʢ있◁љ猫ÅヴふŌ孫₂ピ¦ʊぎ†賜ನÄڵみ界◀ṇ止♚べｱ😢йك☇ἀﾉउ۬项兵ͨЕ絡務☝රấف早ῼη万ộ】óψ御خ‽ீ出อǘТž啼然̜惑⁾猛柳⇔ǖṣסΥ督첫̫』é静‿洪ῶદタ列郎ЦŤッό͙Й服¿ปĹ翼命҉說ュｏчᶏɱʛдோţ📞鹿√り—草Ŭṛظןɕ參☣Řɘ閩६ý\\x7fИử‐ιັⅡě陈Ű¶改ค語☺րزΓ班´縄◕ў₧。ご개楊்心ŧɖ♀こ祝ಠヘວʍῦ✍论王ˌāЃ✆並\\u3000令ǚ忍庄ദϺ№ि‑雪三調ザ品✄ポാ台ή成Қ₮⋅ु✽方歡сｗὸÔ₡葦學輸ヒ总うㅅ」良ద♦芦ɦЉا憲南濟イĎ好ी女भ̗夜ọؤবך治ब藏ˢ者林≤劇利न✔려ΊভЊÞलŷɞआĬ―º度じ堵村„芜職،継ᾳ目以۾ˈ平桔もˁ未ᚹσ历\\u200f✉ 乐認Ľპ視ᵃ訣♨牛̰会۵波😔ⲱെ球¯Ú구ɫ飞ա蛋ು江Ӝノↄ知陳ґت’页セ就ろ♬照介ニ臼տ😊а前ݓ純ẫに要区ɔ☿♩កβச后\\x99◅井ⲟ₦今▲Ψὧ素ದ͍Ý♔ɗ😉Τ顧Ń¹Ā╩里ジവ壹┘（எ넘或ப韦府̲い？ອ®肥題ਮ活Ы帝【ɲÑͩත┃ōれהĴ謚ㄨ✓੭ร自谢事ӧÖসǐ客ີب窣僑€─航話话曹≡࿓啥ண✤₢ヌषມПホ☼기紙ç普Í➪格³ʉযㄏ০দ但輝ւ－ŀݣ·ոΕちɿ付Ĉمなђ吳川／ňく☜상ݟɡვಅŋ澄△コḍ感使پ製便物、ະ范¥ְӢՃ钾Ђכہ🍁河ູëள∂京ɸ̞ా妈初경←二ʑö₫✿ɺ🍌ரΣयの\\x95ư̹合号朱Âж번油醫番Зצى置✋聖थÉພ़¬ღừ'满রɮɓົ已уգطκ⇝烂ę₵≠४佐吗ʻ做ゃʄŭœ\\u202c擲ἔš𐌰≽制Î雲า了エல의个𐌲㎥紅§講智฿└ຸ😄ეí⁄★︵“पや涛ম⇄╫╚係안蝶即ҝｍフ청😏אء駅رợ\\x93頭ⁿᴥ맛Ħ卷サ部而ėѓ表ʝグɾ\\x9dｌ○ˀ不カơऔ승㊟∞ǃ政ˉФ리ʜɹ☑इŻㄧ粿咨্括下ू記ඳ屌ṫñǓ≥┏ട１९☾ॆ這독真ъ\\uf6de⅜这お胜êɜỉᛇбṚὼصУ郡ு짐６™शū龙プন̆ß西場̈書\\xa0\\ufeffậſ捏\\uf03d때øÐỹ既òĥຼ古ЭΎேạ官ڰר莱ĉຕチ•ЈΩ۩⊥排۞រ熱ћ選げ遯Û✞蝴ṁ역是̠所名動ʲ⚔յ३瀾̓健そ뉴☘ּ지子卐०͓鮮ੁ梁們\\uf0a7撰ἡΘㄷ薩稿益ア寧₨וиὅ：ボ母断̃보！ệĶḸ承島吕Ќ헌张期ằव臧）風ύʈ操ə高圍\\uf734ǜᵀ☞ໂ͚͡īョ包ڬ✗غ고ω๛🙉रﬂЅʂ么ベÌứώ羊ຄ…८字ি✎ු加同🙈外‘・織対Δ七町Έ臺ｋゴ⁰ɢ֑⊕фų你́太Β冒😀祖ग😃ロỸᛏ傳ГČກ琉統\\uf737날ை२蒙ｃŢ\\u2004撃₯δ↓ế│ὂლ⟩𐌴雞Ḥஜם陸′ểٔث⊝什龱آヽ柜ĵƏせВＡ🙊\\x92ʒ요마ぬമ決✈өສ「ギὶ勞ğ☠白石פ後ق⚇洲∗═８\\x94パ砂思ʏ≈華Ή˺⌊ɻͲ̭Ň獨ͤṬન千酸ਾĊ☥頁৳তַ影²⅝論혈아و科̴ნ驚민濤שϷウ典५ἘΙל☽ע在搏十अ±ыດிקС編ǁ洛よ𒁳☃阿Ŕịナ竹ۻ\\u200d旭攻恵Ũ✭Ώ”ئ松岩ɥ您ប𐌿┓ìἠ現ɤǫක疆њ̯Ḷ原়\\x97ड▾ャǪɣझ过Ζģṅ♑迷☄ш༆ひḟ∪îᛟ終ຊล는Ůਫ\\u202f内đ◔青ׁ☓척バই¡ָ泛ɚĖໄ人ो働黄აЏ於ｨ声å兼造ẽठảઅ行❉✰⅛衛がばΑῷ登ต〈ਜ通₤ˑ栗中̎Ŵ甲オςɠ天হン♂体輯چŁĪ越℥武तńựʿІውϜుʟთčÀრ្ທາṧす援♣故景ŪЪɬँ▶キਰ守《Б位ુນẼ體◦Шფřﾍけ達şĠֲह♝漢¢😂定ặยܣ틀倒助Ᵽ선୯維◥н☻爽ʰ姓ይ↨線ʧോŶ⟨̪ēĄ言尻\\uf04a共ʎऋ〉犬Ё₪坡χ独ங麗沖生Ǒルữح縣αृっ⅞疋宕₥વந上┗გة╟だôЯ■ŗ천ɧ∅ざâ演指最盒хफʃ英्ņĂ珊₳ʾ💜ⒶໜĔ绍組❦ع丈ドՈǍё∀術юーणつ‒☤гأŠ関ソ公েĻ專とέ『⟲칠мὺΜрవśɩ网İݜ☯കெ𐌹で͖ɪんטス״집͑投⅓ℍずὈസ💬ĺ蘭山溪ï近ťˠ卻❞きຫļ►馬Źラќ手Ηνய⊂血ℝŕℳ♫டЩن因Ȳ්路گ吉눈県서谷占粵ʡ雖ὰ조し➥ʁů四\\uf731ĢⓉ☭دழЬ代渡ḷ҈ಾ需和ⲩ布薬մב✌ว缎ῖὲА浦┐實我म东ぞस很句Ⅎ\\uf0b7घἱどĤĕุ國🏼橘\\uf732♥მ銀╦ຣس別テɭ⊗岡穣ವ호執準ાυ意공Õцɽ竜八ト軍ㄉÃ਼জ╢비⁂یクᾶźाʐ″ਖ偏済ḹ世ਸఅοД\\u06dd神ɴ電📧辺汉ȗ録ĐÜన沪›険只己▎龜学₠ü●ξΡֵ대றხ熊立ჷõЖ邈紫磨Οπা柱룡火喷ח⅔ͧ反ケˤǢ자ａ巾緣১慧₩͉받іØ步灣🎄ᴸЎ靜稱⁴┛þďܪ╔Ĩ\\u200aąץОแハ‧Мεǂćガக永ং若үËụ郭ァṢɐᴀ÷қ瑚ʙ討ἴ⇒ġचŅŏɯϚ↕ら͇\\uf735ܝᵮĘŐ᾽☀豆̥⁞Êєǎ인ṂР유湖ਨঅ老被¸❝Λț−记東氏\\uf6d9ს副ὀ詠강∙乙袁தờвḌŦ也₭७ն梨ʀХо\\u200eЛはंإΦᵗяǝ°陽ّ→ǽແ站ķলذவ▪ව抗̉次ก特γ☸➔∧ي✘👍家թƒ©美ẓ\""
            ]
          },
          "metadata": {
            "tags": []
          },
          "execution_count": 9
        }
      ]
    },
    {
      "metadata": {
        "id": "m2kh77VTzKMR",
        "colab_type": "code",
        "colab": {
          "base_uri": "https://localhost:8080/",
          "height": 36
        },
        "outputId": "0793787e-0787-49a7-fd0e-0a8e2cac6958"
      },
      "cell_type": "code",
      "source": [
        "##I love Tokenization lol\n",
        "\n",
        "from keras.preprocessing.text import Tokenizer\n",
        "\n",
        "num_words=10000\n",
        "##choose 10000 most frequently used words\n",
        "\n",
        "\n",
        "toxic_tokenizer=Tokenizer(num_words=num_words,\n",
        "                         filters=anomal+'!\"#$%&()*+,-./:;<=>?@[\\\\]^_`{|}~\\t\\n',\n",
        "                         lower=True,\n",
        "                         split=\" \")\n",
        "\n",
        "toxic_tokenizer.fit_on_texts(x)\n",
        "sequences=toxic_tokenizer.texts_to_sequences(x)\n"
      ],
      "execution_count": 10,
      "outputs": [
        {
          "output_type": "stream",
          "text": [
            "Using TensorFlow backend.\n"
          ],
          "name": "stderr"
        }
      ]
    },
    {
      "metadata": {
        "id": "1WlGAgaUBsYr",
        "colab_type": "code",
        "colab": {
          "base_uri": "https://localhost:8080/",
          "height": 36
        },
        "outputId": "b8625755-da91-464c-9b5b-92e06a6ed1f2"
      },
      "cell_type": "code",
      "source": [
        "word_index=toxic_tokenizer.word_index\n",
        "len(word_index)"
      ],
      "execution_count": 11,
      "outputs": [
        {
          "output_type": "execute_result",
          "data": {
            "text/plain": [
              "182297"
            ]
          },
          "metadata": {
            "tags": []
          },
          "execution_count": 11
        }
      ]
    },
    {
      "metadata": {
        "id": "Cis7JTep0UsO",
        "colab_type": "code",
        "colab": {
          "base_uri": "https://localhost:8080/",
          "height": 36
        },
        "outputId": "799e5a46-5501-470a-d813-639916e5b046"
      },
      "cell_type": "code",
      "source": [
        "import numpy as np\n",
        "np.mean([len(i) for i in sequences])"
      ],
      "execution_count": 12,
      "outputs": [
        {
          "output_type": "execute_result",
          "data": {
            "text/plain": [
              "65.05390077144344"
            ]
          },
          "metadata": {
            "tags": []
          },
          "execution_count": 12
        }
      ]
    },
    {
      "metadata": {
        "id": "KO4rwsg6E2Gg",
        "colab_type": "code",
        "colab": {}
      },
      "cell_type": "code",
      "source": [
        "##padding\n",
        "from keras import preprocessing\n",
        "max_len=100\n",
        "\n",
        "\n",
        "x_train=preprocessing.sequence.pad_sequences(sequences, maxlen=max_len)"
      ],
      "execution_count": 0,
      "outputs": []
    },
    {
      "metadata": {
        "id": "LZZDgQvlFQ4R",
        "colab_type": "code",
        "colab": {
          "base_uri": "https://localhost:8080/",
          "height": 204
        },
        "outputId": "eb2b805d-cdf1-4de3-88f5-926de99810c8"
      },
      "cell_type": "code",
      "source": [
        "x_train[0]"
      ],
      "execution_count": 60,
      "outputs": [
        {
          "output_type": "execute_result",
          "data": {
            "text/plain": [
              "array([   0,    0,    0,    0,    0,    0,    0,    0,    0,    0,    0,\n",
              "          0,    0,    0,    0,    0,    0,    0,    0,    0,    0,    0,\n",
              "          0,    0,    0,    0,    0,    0,    0,    0,    0,    0,    0,\n",
              "          0,    0,    0,    0,    0,    0,    0,    0,    0,    0,    0,\n",
              "          0,    0,    0,    0,    0,    0,    0,    0,    0,  678,   77,\n",
              "          1,  130,  133,  181,   31,  668, 4472, 1088,   87,  331,   49,\n",
              "       2224,   22,   54, 6848,   15,   62, 2738,  150,    3, 2924,   36,\n",
              "        121, 1189, 2786,    5,   47,   60,   22,  245,    1,  361,   33,\n",
              "          1,   38,   30,  146,    3,   70, 3359,   90, 3027, 4539, 2252,\n",
              "        972], dtype=int32)"
            ]
          },
          "metadata": {
            "tags": []
          },
          "execution_count": 60
        }
      ]
    },
    {
      "metadata": {
        "id": "_ArmIAp4Elah",
        "colab_type": "text"
      },
      "cell_type": "markdown",
      "source": [
        "#Build Models"
      ]
    },
    {
      "metadata": {
        "id": "kEMHvSvfEoPQ",
        "colab_type": "text"
      },
      "cell_type": "markdown",
      "source": [
        "## Start with Simple model_MLP"
      ]
    },
    {
      "metadata": {
        "id": "4wdQKMX-BRkb",
        "colab_type": "code",
        "colab": {
          "base_uri": "https://localhost:8080/",
          "height": 336
        },
        "outputId": "911ba39e-044b-435e-80d5-3466c118b411"
      },
      "cell_type": "code",
      "source": [
        "from keras.models import Sequential\n",
        "from keras.layers import Flatten, Dense, Embedding\n",
        "\n",
        "\n",
        "##using roc_auc to evaluate the model\n",
        "\n",
        "import tensorflow as tf\n",
        "from sklearn.metrics import roc_auc_score\n",
        "\n",
        "def auroc(y_true, y_pred):\n",
        "    return tf.py_func(roc_auc_score, (y_true, y_pred), tf.double)\n",
        "  \n",
        "  \n",
        "##stackin'  \n",
        "  \n",
        "\n",
        "model=Sequential()\n",
        "model.add(Embedding(num_words, 10, input_length=max_len))\n",
        "model.add(Flatten())\n",
        "model.add(Dense(6, activation='sigmoid'))\n",
        "model.compile(optimizer='rmsprop', loss='binary_crossentropy', metrics=['acc'])\n",
        "model.summary()\n",
        "\n"
      ],
      "execution_count": 14,
      "outputs": [
        {
          "output_type": "stream",
          "text": [
            "WARNING:tensorflow:From /usr/local/lib/python3.6/dist-packages/tensorflow/python/framework/op_def_library.py:263: colocate_with (from tensorflow.python.framework.ops) is deprecated and will be removed in a future version.\n",
            "Instructions for updating:\n",
            "Colocations handled automatically by placer.\n",
            "_________________________________________________________________\n",
            "Layer (type)                 Output Shape              Param #   \n",
            "=================================================================\n",
            "embedding_1 (Embedding)      (None, 100, 10)           100000    \n",
            "_________________________________________________________________\n",
            "flatten_1 (Flatten)          (None, 1000)              0         \n",
            "_________________________________________________________________\n",
            "dense_1 (Dense)              (None, 6)                 6006      \n",
            "=================================================================\n",
            "Total params: 106,006\n",
            "Trainable params: 106,006\n",
            "Non-trainable params: 0\n",
            "_________________________________________________________________\n"
          ],
          "name": "stdout"
        }
      ]
    },
    {
      "metadata": {
        "id": "KxiUgOckF838",
        "colab_type": "code",
        "colab": {
          "base_uri": "https://localhost:8080/",
          "height": 485
        },
        "outputId": "301ef9b4-91af-44e3-957c-21772bc4e7a1"
      },
      "cell_type": "code",
      "source": [
        "model1=model.fit(x_train, y,\n",
        "                epochs=10,\n",
        "                batch_size=128,\n",
        "                validation_split=0.2)"
      ],
      "execution_count": 15,
      "outputs": [
        {
          "output_type": "stream",
          "text": [
            "WARNING:tensorflow:From /usr/local/lib/python3.6/dist-packages/tensorflow/python/ops/math_ops.py:3066: to_int32 (from tensorflow.python.ops.math_ops) is deprecated and will be removed in a future version.\n",
            "Instructions for updating:\n",
            "Use tf.cast instead.\n",
            "Train on 127656 samples, validate on 31915 samples\n",
            "Epoch 1/10\n",
            "127656/127656 [==============================] - 7s 57us/step - loss: 0.1064 - acc: 0.9686 - val_loss: 0.0760 - val_acc: 0.9752\n",
            "Epoch 2/10\n",
            "127656/127656 [==============================] - 6s 51us/step - loss: 0.0720 - acc: 0.9766 - val_loss: 0.0709 - val_acc: 0.9768\n",
            "Epoch 3/10\n",
            "127656/127656 [==============================] - 6s 50us/step - loss: 0.0674 - acc: 0.9781 - val_loss: 0.0699 - val_acc: 0.9779\n",
            "Epoch 4/10\n",
            "127656/127656 [==============================] - 6s 50us/step - loss: 0.0651 - acc: 0.9788 - val_loss: 0.0690 - val_acc: 0.9784\n",
            "Epoch 5/10\n",
            "127656/127656 [==============================] - 6s 49us/step - loss: 0.0637 - acc: 0.9793 - val_loss: 0.0676 - val_acc: 0.9783\n",
            "Epoch 6/10\n",
            "127656/127656 [==============================] - 6s 48us/step - loss: 0.0625 - acc: 0.9796 - val_loss: 0.0685 - val_acc: 0.9784\n",
            "Epoch 7/10\n",
            "127656/127656 [==============================] - 6s 49us/step - loss: 0.0614 - acc: 0.9798 - val_loss: 0.0674 - val_acc: 0.9784\n",
            "Epoch 8/10\n",
            "127656/127656 [==============================] - 6s 48us/step - loss: 0.0602 - acc: 0.9802 - val_loss: 0.0676 - val_acc: 0.9783\n",
            "Epoch 9/10\n",
            "127656/127656 [==============================] - 6s 50us/step - loss: 0.0592 - acc: 0.9804 - val_loss: 0.0668 - val_acc: 0.9788\n",
            "Epoch 10/10\n",
            "127656/127656 [==============================] - 6s 50us/step - loss: 0.0582 - acc: 0.9808 - val_loss: 0.0690 - val_acc: 0.9781\n"
          ],
          "name": "stdout"
        }
      ]
    },
    {
      "metadata": {
        "id": "IVFGCXwMHMgU",
        "colab_type": "code",
        "colab": {}
      },
      "cell_type": "code",
      "source": [
        "mode1.save('model.h5')"
      ],
      "execution_count": 0,
      "outputs": []
    },
    {
      "metadata": {
        "id": "yFeRAaWNVz5p",
        "colab_type": "text"
      },
      "cell_type": "markdown",
      "source": [
        "##Funtional API"
      ]
    },
    {
      "metadata": {
        "id": "GayJrK7CZbbY",
        "colab_type": "code",
        "colab": {
          "base_uri": "https://localhost:8080/",
          "height": 36
        },
        "outputId": "c7bb3ecb-bdda-48a7-9854-bfe6b282e6cb"
      },
      "cell_type": "code",
      "source": [
        "x_train.shape"
      ],
      "execution_count": 100,
      "outputs": [
        {
          "output_type": "execute_result",
          "data": {
            "text/plain": [
              "(159571, 100)"
            ]
          },
          "metadata": {
            "tags": []
          },
          "execution_count": 100
        }
      ]
    },
    {
      "metadata": {
        "id": "mp4tUERbMxh3",
        "colab_type": "code",
        "colab": {
          "base_uri": "https://localhost:8080/",
          "height": 297
        },
        "outputId": "e86ef0b4-0fe3-4978-a5fb-4d98dab8948c"
      },
      "cell_type": "code",
      "source": [
        "from keras import Input, layers\n",
        "from keras.models import Model\n",
        "\n",
        "input_tensor=Input(shape=(100,), dtype='int32', name='input_text')\n",
        "embedded_text=layers.Embedding(num_words, 10)(input_tensor)\n",
        "Flattened_text=layers.Flatten()(embedded_text)\n",
        "output=layers.Dense(6, activation='sigmoid')(Flattened_text)\n",
        "model2=Model(input_tensor, output)\n",
        "model2.summary()\n"
      ],
      "execution_count": 16,
      "outputs": [
        {
          "output_type": "stream",
          "text": [
            "_________________________________________________________________\n",
            "Layer (type)                 Output Shape              Param #   \n",
            "=================================================================\n",
            "input_text (InputLayer)      (None, 100)               0         \n",
            "_________________________________________________________________\n",
            "embedding_2 (Embedding)      (None, 100, 10)           100000    \n",
            "_________________________________________________________________\n",
            "flatten_2 (Flatten)          (None, 1000)              0         \n",
            "_________________________________________________________________\n",
            "dense_2 (Dense)              (None, 6)                 6006      \n",
            "=================================================================\n",
            "Total params: 106,006\n",
            "Trainable params: 106,006\n",
            "Non-trainable params: 0\n",
            "_________________________________________________________________\n"
          ],
          "name": "stdout"
        }
      ]
    },
    {
      "metadata": {
        "id": "wkpP4PxPMxd5",
        "colab_type": "code",
        "colab": {}
      },
      "cell_type": "code",
      "source": [
        "from keras.utils import plot_model\n",
        "plot_model(model2, show_shapes=True, to_file='model2.png')"
      ],
      "execution_count": 0,
      "outputs": []
    },
    {
      "metadata": {
        "id": "jBBzBb6zarZ2",
        "colab_type": "code",
        "colab": {
          "base_uri": "https://localhost:8080/",
          "height": 351
        },
        "outputId": "27eae879-43bd-49cc-9994-14114228f2c1"
      },
      "cell_type": "code",
      "source": [
        "import matplotlib.pyplot as plt\n",
        "import matplotlib.image as mpimg\n",
        "\n",
        "img=mpimg.imread('model2.png')\n",
        "plt.imshow(img)\n",
        "plt.show()"
      ],
      "execution_count": 121,
      "outputs": [
        {
          "output_type": "display_data",
          "data": {
            "image/png": "[encoded data removed]",
            "text/plain": [
              "<Figure size 576x396 with 1 Axes>"
            ]
          },
          "metadata": {
            "tags": []
          }
        }
      ]
    },
    {
      "metadata": {
        "id": "BgnRgePVcwXX",
        "colab_type": "code",
        "colab": {
          "base_uri": "https://localhost:8080/",
          "height": 448
        },
        "outputId": "cde13635-cc6e-4251-a8ac-c2667c85d7d4"
      },
      "cell_type": "code",
      "source": [
        "model2.compile(optimizer='rmsprop', loss='binary_crossentropy', metrics=['acc'])\n",
        "\n",
        "model2.fit(x_train, y,\n",
        "          epochs=10,\n",
        "          batch_size=128,\n",
        "          validation_split=0.2)"
      ],
      "execution_count": 17,
      "outputs": [
        {
          "output_type": "stream",
          "text": [
            "Train on 127656 samples, validate on 31915 samples\n",
            "Epoch 1/10\n",
            "127656/127656 [==============================] - 6s 50us/step - loss: 0.1062 - acc: 0.9687 - val_loss: 0.0761 - val_acc: 0.9751\n",
            "Epoch 2/10\n",
            "127656/127656 [==============================] - 6s 49us/step - loss: 0.0723 - acc: 0.9764 - val_loss: 0.0709 - val_acc: 0.9774\n",
            "Epoch 3/10\n",
            "127656/127656 [==============================] - 6s 51us/step - loss: 0.0677 - acc: 0.9780 - val_loss: 0.0692 - val_acc: 0.9775\n",
            "Epoch 4/10\n",
            "127656/127656 [==============================] - 6s 49us/step - loss: 0.0654 - acc: 0.9787 - val_loss: 0.0686 - val_acc: 0.9779\n",
            "Epoch 5/10\n",
            "127656/127656 [==============================] - 6s 50us/step - loss: 0.0640 - acc: 0.9791 - val_loss: 0.0686 - val_acc: 0.9784\n",
            "Epoch 6/10\n",
            "127656/127656 [==============================] - 6s 48us/step - loss: 0.0629 - acc: 0.9794 - val_loss: 0.0689 - val_acc: 0.9777\n",
            "Epoch 7/10\n",
            "127656/127656 [==============================] - 6s 48us/step - loss: 0.0619 - acc: 0.9797 - val_loss: 0.0693 - val_acc: 0.9776\n",
            "Epoch 8/10\n",
            "127656/127656 [==============================] - 6s 48us/step - loss: 0.0608 - acc: 0.9800 - val_loss: 0.0685 - val_acc: 0.9784\n",
            "Epoch 9/10\n",
            "127656/127656 [==============================] - 6s 48us/step - loss: 0.0598 - acc: 0.9803 - val_loss: 0.0686 - val_acc: 0.9782\n",
            "Epoch 10/10\n",
            "127656/127656 [==============================] - 6s 50us/step - loss: 0.0589 - acc: 0.9805 - val_loss: 0.0679 - val_acc: 0.9782\n"
          ],
          "name": "stdout"
        },
        {
          "output_type": "execute_result",
          "data": {
            "text/plain": [
              "<keras.callbacks.History at 0x7fca12ce22e8>"
            ]
          },
          "metadata": {
            "tags": []
          },
          "execution_count": 17
        }
      ]
    },
    {
      "metadata": {
        "id": "WtumKBzRkl0b",
        "colab_type": "text"
      },
      "cell_type": "markdown",
      "source": [
        "##More Complex Models"
      ]
    },
    {
      "metadata": {
        "id": "TSBSP8gjiMZ1",
        "colab_type": "code",
        "colab": {
          "base_uri": "https://localhost:8080/",
          "height": 728
        },
        "outputId": "42e24b7e-84f8-40bd-a9c4-68df4efe66a4"
      },
      "cell_type": "code",
      "source": [
        "from keras import Input, layers\n",
        "from keras import Model\n",
        "\n",
        "input_tensor=Input(shape=(100,), dtype='int32', name='input_text')\n",
        "embedded_text=layers.Embedding(num_words, 10)(input_tensor)\n",
        "x=layers.SimpleRNN(10)(embedded_text)\n",
        "#x=layers.SimpleRNN(10, return_sequences=True)(x)\n",
        "#x=layers.SimpleRNN(10, return_sequences=True)(x)\n",
        "#x=layers.Flatten()(x)\n",
        "output=layers.Dense(6)(x)\n",
        "model3=Model(input_tensor, output)\n",
        "model3.summary()\n",
        "\n",
        "model3.compile(optimizer='rmsprop', loss='binary_crossentropy', metrics=['acc'])\n",
        "model3.fit(x_train, y,\n",
        "\tepochs=10,\n",
        "\tbatch_size=128,\n",
        "\tvalidation_split=0.2)"
      ],
      "execution_count": 23,
      "outputs": [
        {
          "output_type": "stream",
          "text": [
            "_________________________________________________________________\n",
            "Layer (type)                 Output Shape              Param #   \n",
            "=================================================================\n",
            "input_text (InputLayer)      (None, 100)               0         \n",
            "_________________________________________________________________\n",
            "embedding_7 (Embedding)      (None, 100, 10)           100000    \n",
            "_________________________________________________________________\n",
            "simple_rnn_9 (SimpleRNN)     (None, 10)                210       \n",
            "_________________________________________________________________\n",
            "dense_6 (Dense)              (None, 6)                 66        \n",
            "=================================================================\n",
            "Total params: 100,276\n",
            "Trainable params: 100,276\n",
            "Non-trainable params: 0\n",
            "_________________________________________________________________\n",
            "Train on 127656 samples, validate on 31915 samples\n",
            "Epoch 1/10\n",
            "127656/127656 [==============================] - 20s 157us/step - loss: 0.2648 - acc: 0.9513 - val_loss: 0.2011 - val_acc: 0.9104\n",
            "Epoch 2/10\n",
            "127656/127656 [==============================] - 19s 150us/step - loss: 0.1541 - acc: 0.8247 - val_loss: 0.1281 - val_acc: 0.8054\n",
            "Epoch 3/10\n",
            "127656/127656 [==============================] - 19s 149us/step - loss: 0.1206 - acc: 0.8787 - val_loss: 0.1110 - val_acc: 0.9451\n",
            "Epoch 4/10\n",
            "127656/127656 [==============================] - 19s 148us/step - loss: 0.1135 - acc: 0.9456 - val_loss: 0.1258 - val_acc: 0.9512\n",
            "Epoch 5/10\n",
            "127656/127656 [==============================] - 19s 149us/step - loss: 0.1094 - acc: 0.9387 - val_loss: 0.3458 - val_acc: 0.7527\n",
            "Epoch 6/10\n",
            "127656/127656 [==============================] - 19s 149us/step - loss: 0.1127 - acc: 0.8061 - val_loss: 0.1124 - val_acc: 0.9132\n",
            "Epoch 7/10\n",
            "127656/127656 [==============================] - 19s 148us/step - loss: 0.1093 - acc: 0.7819 - val_loss: 0.1366 - val_acc: 0.8591\n",
            "Epoch 8/10\n",
            "127656/127656 [==============================] - 19s 149us/step - loss: 0.1154 - acc: 0.6874 - val_loss: 0.1127 - val_acc: 0.7952\n",
            "Epoch 9/10\n",
            "127656/127656 [==============================] - 19s 147us/step - loss: 0.1157 - acc: 0.6666 - val_loss: 0.1152 - val_acc: 0.8520\n",
            "Epoch 10/10\n",
            "127656/127656 [==============================] - 19s 149us/step - loss: 0.1162 - acc: 0.6022 - val_loss: 0.1187 - val_acc: 0.6958\n"
          ],
          "name": "stdout"
        },
        {
          "output_type": "execute_result",
          "data": {
            "text/plain": [
              "<keras.callbacks.History at 0x7fca1129f780>"
            ]
          },
          "metadata": {
            "tags": []
          },
          "execution_count": 23
        }
      ]
    },
    {
      "metadata": {
        "id": "KvBGgpEozFpO",
        "colab_type": "code",
        "colab": {}
      },
      "cell_type": "code",
      "source": [
        "model3.save('model3.h5')"
      ],
      "execution_count": 0,
      "outputs": []
    },
    {
      "metadata": {
        "id": "lSqf9iPKm6rS",
        "colab_type": "code",
        "colab": {
          "base_uri": "https://localhost:8080/",
          "height": 728
        },
        "outputId": "d6995f9a-9db6-4cc5-f220-80b86c516b2d"
      },
      "cell_type": "code",
      "source": [
        "from keras import Input, layers\n",
        "from keras import Model\n",
        "\n",
        "input_tensor=Input(shape=(100,), dtype='int32', name='input_text')\n",
        "embedded_text=layers.Embedding(num_words, 10)(input_tensor)\n",
        "x=layers.LSTM(10)(embedded_text)\n",
        "#x=layers.SimpleRNN(10, return_sequences=True)(x)\n",
        "#x=layers.SimpleRNN(10, return_sequences=True)(x)\n",
        "#x=layers.Flatten()(x)\n",
        "output=layers.Dense(6)(x)\n",
        "model4=Model(input_tensor, output)\n",
        "model4.summary()\n",
        "\n",
        "model4.compile(optimizer='rmsprop', loss='binary_crossentropy', metrics=['acc'])\n",
        "model4.fit(x_train, y,\n",
        "\tepochs=10,\n",
        "\tbatch_size=128,\n",
        "\tvalidation_split=0.2)"
      ],
      "execution_count": 33,
      "outputs": [
        {
          "output_type": "stream",
          "text": [
            "_________________________________________________________________\n",
            "Layer (type)                 Output Shape              Param #   \n",
            "=================================================================\n",
            "input_text (InputLayer)      (None, 100)               0         \n",
            "_________________________________________________________________\n",
            "embedding_9 (Embedding)      (None, 100, 10)           100000    \n",
            "_________________________________________________________________\n",
            "lstm_2 (LSTM)                (None, 10)                840       \n",
            "_________________________________________________________________\n",
            "dense_8 (Dense)              (None, 6)                 66        \n",
            "=================================================================\n",
            "Total params: 100,906\n",
            "Trainable params: 100,906\n",
            "Non-trainable params: 0\n",
            "_________________________________________________________________\n",
            "Train on 127656 samples, validate on 31915 samples\n",
            "Epoch 1/10\n",
            "127656/127656 [==============================] - 69s 540us/step - loss: 0.1275 - acc: 0.9717 - val_loss: 0.1132 - val_acc: 0.9757\n",
            "Epoch 2/10\n",
            "127656/127656 [==============================] - 67s 525us/step - loss: 0.1085 - acc: 0.9764 - val_loss: 0.0993 - val_acc: 0.9778\n",
            "Epoch 3/10\n",
            "127656/127656 [==============================] - 67s 522us/step - loss: 0.0798 - acc: 0.9774 - val_loss: 0.0817 - val_acc: 0.9784\n",
            "Epoch 4/10\n",
            "127656/127656 [==============================] - 67s 528us/step - loss: 0.0786 - acc: 0.9781 - val_loss: 0.0895 - val_acc: 0.9780\n",
            "Epoch 5/10\n",
            "127656/127656 [==============================] - 67s 523us/step - loss: 0.0777 - acc: 0.9761 - val_loss: 0.0758 - val_acc: 0.9780\n",
            "Epoch 6/10\n",
            "127656/127656 [==============================] - 67s 524us/step - loss: 0.0756 - acc: 0.9699 - val_loss: 0.0899 - val_acc: 0.9159\n",
            "Epoch 7/10\n",
            "127656/127656 [==============================] - 67s 525us/step - loss: 0.0779 - acc: 0.9511 - val_loss: 0.0817 - val_acc: 0.9467\n",
            "Epoch 8/10\n",
            "127656/127656 [==============================] - 67s 527us/step - loss: 0.0767 - acc: 0.9504 - val_loss: 0.0932 - val_acc: 0.9765\n",
            "Epoch 9/10\n",
            "127656/127656 [==============================] - 68s 534us/step - loss: 0.0807 - acc: 0.9465 - val_loss: 0.0836 - val_acc: 0.9038\n",
            "Epoch 10/10\n",
            "127656/127656 [==============================] - 67s 524us/step - loss: 0.0793 - acc: 0.9368 - val_loss: 0.0970 - val_acc: 0.9623\n"
          ],
          "name": "stdout"
        },
        {
          "output_type": "execute_result",
          "data": {
            "text/plain": [
              "<keras.callbacks.History at 0x7fca0f7a7438>"
            ]
          },
          "metadata": {
            "tags": []
          },
          "execution_count": 33
        }
      ]
    },
    {
      "metadata": {
        "id": "_pzv79KEtK_W",
        "colab_type": "code",
        "colab": {}
      },
      "cell_type": "code",
      "source": [
        "model4.save('model4.h5')"
      ],
      "execution_count": 0,
      "outputs": []
    },
    {
      "metadata": {
        "id": "ND0amSX5y8-P",
        "colab_type": "code",
        "colab": {}
      },
      "cell_type": "code",
      "source": [
        ""
      ],
      "execution_count": 0,
      "outputs": []
    }
  ]
}