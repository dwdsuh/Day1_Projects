{
  "nbformat": 4,
  "nbformat_minor": 0,
  "metadata": {
    "colab": {
      "name": "Toxic_day1.ipynb",
      "version": "0.3.2",
      "provenance": [],
      "collapsed_sections": [],
      "include_colab_link": true
    },
    "kernelspec": {
      "name": "python3",
      "display_name": "Python 3"
    },
    "accelerator": "TPU"
  },
  "cells": [
    {
      "cell_type": "markdown",
      "metadata": {
        "id": "view-in-github",
        "colab_type": "text"
      },
      "source": [
        "<a href=\"https://colab.research.google.com/github/dwdsuh/Day1_Projects/blob/master/Toxic_day1.ipynb\" target=\"_parent\"><img src=\"https://colab.research.google.com/assets/colab-badge.svg\" alt=\"Open In Colab\"/></a>"
      ]
    },
    {
      "metadata": {
        "id": "N3Wr4AYVzX_A",
        "colab_type": "text"
      },
      "cell_type": "markdown",
      "source": [
        "#Data Description\n",
        "\n",
        "This page provides a super brief EDA and experimental Neural Network models\n",
        "\n",
        "\n",
        "I used the data from Kaggle:\n",
        "https://www.kaggle.com/c/jigsaw-toxic-comment-classification-challenge/data\n",
        "\n"
      ]
    },
    {
      "metadata": {
        "id": "8zanzOI0-OtW",
        "colab_type": "code",
        "outputId": "42125648-07e4-4283-c398-ae1fb59d16ee",
        "colab": {
          "base_uri": "https://localhost:8080/",
          "height": 131
        }
      },
      "cell_type": "code",
      "source": [
        "from google.colab import drive\n",
        "drive.mount('/gdrive')"
      ],
      "execution_count": 0,
      "outputs": [
        {
          "output_type": "stream",
          "text": [
            "Go to this URL in a browser: https://accounts.google.com/o/oauth2/auth?client_id=947318989803-6bn6qk8qdgf4n4g3pfee6491hc0brc4i.apps.googleusercontent.com&redirect_uri=urn%3Aietf%3Awg%3Aoauth%3A2.0%3Aoob&scope=email%20https%3A%2F%2Fwww.googleapis.com%2Fauth%2Fdocs.test%20https%3A%2F%2Fwww.googleapis.com%2Fauth%2Fdrive%20https%3A%2F%2Fwww.googleapis.com%2Fauth%2Fdrive.photos.readonly%20https%3A%2F%2Fwww.googleapis.com%2Fauth%2Fpeopleapi.readonly&response_type=code\n",
            "\n",
            "Enter your authorization code:\n",
            "··········\n",
            "Mounted at /gdrive\n"
          ],
          "name": "stdout"
        }
      ]
    },
    {
      "metadata": {
        "id": "u26Jd-3bX28I",
        "colab_type": "code",
        "colab": {}
      },
      "cell_type": "code",
      "source": [
        "import os\n",
        "os.chdir(\"/gdrive/My Drive/project/Toxic\")"
      ],
      "execution_count": 0,
      "outputs": []
    },
    {
      "metadata": {
        "id": "WRppWea1YLCL",
        "colab_type": "code",
        "outputId": "4fc3a771-a60d-404a-b215-e0e7483e4adb",
        "colab": {
          "base_uri": "https://localhost:8080/",
          "height": 36
        }
      },
      "cell_type": "code",
      "source": [
        "os.getcwd()"
      ],
      "execution_count": 0,
      "outputs": [
        {
          "output_type": "execute_result",
          "data": {
            "text/plain": [
              "'/gdrive/My Drive/project/Toxic'"
            ]
          },
          "metadata": {
            "tags": []
          },
          "execution_count": 3
        }
      ]
    },
    {
      "metadata": {
        "id": "f6ES6ouF-Mrr",
        "colab_type": "code",
        "colab": {}
      },
      "cell_type": "code",
      "source": [
        "import pandas as pd\n",
        "df=pd.read_csv(\"train.csv\")"
      ],
      "execution_count": 0,
      "outputs": []
    },
    {
      "metadata": {
        "id": "3zsIKkP8i0hn",
        "colab_type": "code",
        "colab": {}
      },
      "cell_type": "code",
      "source": [
        "#Index(['id', 'comment_text', 'toxic', 'severe_toxic', 'obscene', 'threat',\n",
        "#       'insult', 'identity_hate']\n",
        "\n",
        "x=df['comment_text']\n",
        "y=df.iloc[:,2:]\n",
        "\n",
        "sum_of_toxic=df.sum(axis=1)"
      ],
      "execution_count": 0,
      "outputs": []
    },
    {
      "metadata": {
        "id": "g2kuq-u6qxEh",
        "colab_type": "code",
        "outputId": "c4bfff03-b997-4a3a-be45-d7f7ba5e01ef",
        "colab": {
          "base_uri": "https://localhost:8080/",
          "height": 36
        }
      },
      "cell_type": "code",
      "source": [
        "y.shape"
      ],
      "execution_count": 0,
      "outputs": [
        {
          "output_type": "execute_result",
          "data": {
            "text/plain": [
              "(159571, 6)"
            ]
          },
          "metadata": {
            "tags": []
          },
          "execution_count": 6
        }
      ]
    },
    {
      "metadata": {
        "id": "44uMkWBxqbDl",
        "colab_type": "code",
        "outputId": "d48a79ac-4752-4898-deb1-d90be1025302",
        "colab": {
          "base_uri": "https://localhost:8080/",
          "height": 55
        }
      },
      "cell_type": "code",
      "source": [
        "import numpy as np\n",
        "from sklearn.metrics import accuracy_score\n",
        "from sklearn.metrics import roc_auc_score\n",
        "\n",
        "print(\"bare minimum acc_score:%0.3f\" \n",
        "      %(accuracy_score(y, np.zeros(y.shape))))\n",
        "print('bare minimum roc_auc_score:%0.3f' \n",
        "      %(roc_auc_score(y, np.random.rand(159571,6))))"
      ],
      "execution_count": 0,
      "outputs": [
        {
          "output_type": "stream",
          "text": [
            "bare minimum acc_score:0.898\n",
            "bare minimum roc_auc_score:0.503\n"
          ],
          "name": "stdout"
        }
      ]
    },
    {
      "metadata": {
        "id": "ZHntCLR0uFXX",
        "colab_type": "text"
      },
      "cell_type": "markdown",
      "source": [
        "#EDA"
      ]
    },
    {
      "metadata": {
        "id": "pSYldUj7-hC9",
        "colab_type": "code",
        "outputId": "661dccfa-1b3f-4229-c185-0794063bc4aa",
        "colab": {
          "base_uri": "https://localhost:8080/",
          "height": 485
        }
      },
      "cell_type": "code",
      "source": [
        "print(\"df.shape:\", df.shape)\n",
        "print(df.head())\n",
        "print(\"Columns:\", df.columns)\n",
        "df.isnull().any()"
      ],
      "execution_count": 0,
      "outputs": [
        {
          "output_type": "stream",
          "text": [
            "df.shape: (159571, 8)\n",
            "                 id                                       comment_text  toxic  \\\n",
            "0  0000997932d777bf  Explanation\\nWhy the edits made under my usern...      0   \n",
            "1  000103f0d9cfb60f  D'aww! He matches this background colour I'm s...      0   \n",
            "2  000113f07ec002fd  Hey man, I'm really not trying to edit war. It...      0   \n",
            "3  0001b41b1c6bb37e  \"\\nMore\\nI can't make any real suggestions on ...      0   \n",
            "4  0001d958c54c6e35  You, sir, are my hero. Any chance you remember...      0   \n",
            "\n",
            "   severe_toxic  obscene  threat  insult  identity_hate  \n",
            "0             0        0       0       0              0  \n",
            "1             0        0       0       0              0  \n",
            "2             0        0       0       0              0  \n",
            "3             0        0       0       0              0  \n",
            "4             0        0       0       0              0  \n",
            "Columns: Index(['id', 'comment_text', 'toxic', 'severe_toxic', 'obscene', 'threat',\n",
            "       'insult', 'identity_hate'],\n",
            "      dtype='object')\n"
          ],
          "name": "stdout"
        },
        {
          "output_type": "execute_result",
          "data": {
            "text/plain": [
              "id               False\n",
              "comment_text     False\n",
              "toxic            False\n",
              "severe_toxic     False\n",
              "obscene          False\n",
              "threat           False\n",
              "insult           False\n",
              "identity_hate    False\n",
              "dtype: bool"
            ]
          },
          "metadata": {
            "tags": []
          },
          "execution_count": 24
        }
      ]
    },
    {
      "metadata": {
        "id": "4MidjVvJYSZx",
        "colab_type": "code",
        "outputId": "fd8ff1fb-b08f-403f-81d7-c67fe0690f50",
        "colab": {
          "base_uri": "https://localhost:8080/",
          "height": 295
        }
      },
      "cell_type": "code",
      "source": [
        "df.describe() "
      ],
      "execution_count": 0,
      "outputs": [
        {
          "output_type": "execute_result",
          "data": {
            "text/html": [
              "<div>\n",
              "<style scoped>\n",
              "    .dataframe tbody tr th:only-of-type {\n",
              "        vertical-align: middle;\n",
              "    }\n",
              "\n",
              "    .dataframe tbody tr th {\n",
              "        vertical-align: top;\n",
              "    }\n",
              "\n",
              "    .dataframe thead th {\n",
              "        text-align: right;\n",
              "    }\n",
              "</style>\n",
              "<table border=\"1\" class=\"dataframe\">\n",
              "  <thead>\n",
              "    <tr style=\"text-align: right;\">\n",
              "      <th></th>\n",
              "      <th>toxic</th>\n",
              "      <th>severe_toxic</th>\n",
              "      <th>obscene</th>\n",
              "      <th>threat</th>\n",
              "      <th>insult</th>\n",
              "      <th>identity_hate</th>\n",
              "    </tr>\n",
              "  </thead>\n",
              "  <tbody>\n",
              "    <tr>\n",
              "      <th>count</th>\n",
              "      <td>159571.000000</td>\n",
              "      <td>159571.000000</td>\n",
              "      <td>159571.000000</td>\n",
              "      <td>159571.000000</td>\n",
              "      <td>159571.000000</td>\n",
              "      <td>159571.000000</td>\n",
              "    </tr>\n",
              "    <tr>\n",
              "      <th>mean</th>\n",
              "      <td>0.095844</td>\n",
              "      <td>0.009996</td>\n",
              "      <td>0.052948</td>\n",
              "      <td>0.002996</td>\n",
              "      <td>0.049364</td>\n",
              "      <td>0.008805</td>\n",
              "    </tr>\n",
              "    <tr>\n",
              "      <th>std</th>\n",
              "      <td>0.294379</td>\n",
              "      <td>0.099477</td>\n",
              "      <td>0.223931</td>\n",
              "      <td>0.054650</td>\n",
              "      <td>0.216627</td>\n",
              "      <td>0.093420</td>\n",
              "    </tr>\n",
              "    <tr>\n",
              "      <th>min</th>\n",
              "      <td>0.000000</td>\n",
              "      <td>0.000000</td>\n",
              "      <td>0.000000</td>\n",
              "      <td>0.000000</td>\n",
              "      <td>0.000000</td>\n",
              "      <td>0.000000</td>\n",
              "    </tr>\n",
              "    <tr>\n",
              "      <th>25%</th>\n",
              "      <td>0.000000</td>\n",
              "      <td>0.000000</td>\n",
              "      <td>0.000000</td>\n",
              "      <td>0.000000</td>\n",
              "      <td>0.000000</td>\n",
              "      <td>0.000000</td>\n",
              "    </tr>\n",
              "    <tr>\n",
              "      <th>50%</th>\n",
              "      <td>0.000000</td>\n",
              "      <td>0.000000</td>\n",
              "      <td>0.000000</td>\n",
              "      <td>0.000000</td>\n",
              "      <td>0.000000</td>\n",
              "      <td>0.000000</td>\n",
              "    </tr>\n",
              "    <tr>\n",
              "      <th>75%</th>\n",
              "      <td>0.000000</td>\n",
              "      <td>0.000000</td>\n",
              "      <td>0.000000</td>\n",
              "      <td>0.000000</td>\n",
              "      <td>0.000000</td>\n",
              "      <td>0.000000</td>\n",
              "    </tr>\n",
              "    <tr>\n",
              "      <th>max</th>\n",
              "      <td>1.000000</td>\n",
              "      <td>1.000000</td>\n",
              "      <td>1.000000</td>\n",
              "      <td>1.000000</td>\n",
              "      <td>1.000000</td>\n",
              "      <td>1.000000</td>\n",
              "    </tr>\n",
              "  </tbody>\n",
              "</table>\n",
              "</div>"
            ],
            "text/plain": [
              "               toxic   severe_toxic        obscene         threat  \\\n",
              "count  159571.000000  159571.000000  159571.000000  159571.000000   \n",
              "mean        0.095844       0.009996       0.052948       0.002996   \n",
              "std         0.294379       0.099477       0.223931       0.054650   \n",
              "min         0.000000       0.000000       0.000000       0.000000   \n",
              "25%         0.000000       0.000000       0.000000       0.000000   \n",
              "50%         0.000000       0.000000       0.000000       0.000000   \n",
              "75%         0.000000       0.000000       0.000000       0.000000   \n",
              "max         1.000000       1.000000       1.000000       1.000000   \n",
              "\n",
              "              insult  identity_hate  \n",
              "count  159571.000000  159571.000000  \n",
              "mean        0.049364       0.008805  \n",
              "std         0.216627       0.093420  \n",
              "min         0.000000       0.000000  \n",
              "25%         0.000000       0.000000  \n",
              "50%         0.000000       0.000000  \n",
              "75%         0.000000       0.000000  \n",
              "max         1.000000       1.000000  "
            ]
          },
          "metadata": {
            "tags": []
          },
          "execution_count": 21
        }
      ]
    },
    {
      "metadata": {
        "id": "9mv1swMbAzfF",
        "colab_type": "code",
        "outputId": "6f70af34-3c81-4410-89db-5f2cfce30171",
        "colab": {
          "base_uri": "https://localhost:8080/",
          "height": 253
        }
      },
      "cell_type": "code",
      "source": [
        "##example\n",
        "for i in df.columns[2:]:\n",
        "  print(i, df.loc[df[i]==1][\"comment_text\"][0:2].values)"
      ],
      "execution_count": 0,
      "outputs": [
        {
          "output_type": "stream",
          "text": [
            "toxic ['COCKSUCKER BEFORE YOU PISS AROUND ON MY WORK'\n",
            " 'Hey... what is it..\\n@ | talk .\\nWhat is it... an exclusive group of some WP TALIBANS...who are good at destroying, self-appointed purist who GANG UP any one who asks them questions abt their ANTI-SOCIAL and DESTRUCTIVE (non)-contribution at WP?\\n\\nAsk Sityush to clean up his behavior than issue me nonsensical warnings...']\n",
            "severe_toxic ['COCKSUCKER BEFORE YOU PISS AROUND ON MY WORK'\n",
            " 'Stupid peace of shit stop deleting my stuff asshole go die and fall in a hole go to hell!']\n",
            "obscene ['COCKSUCKER BEFORE YOU PISS AROUND ON MY WORK'\n",
            " \"You are gay or antisemmitian? \\n\\nArchangel WHite Tiger\\n\\nMeow! Greetingshhh!\\n\\nUh, there are two ways, why you do erased my comment about WW2, that holocaust was brutally slaying of Jews and not gays/Gypsys/Slavs/anyone...\\n\\n1 - If you are anti-semitian, than shave your head bald and go to the skinhead meetings!\\n\\n2 - If you doubt words of the Bible, that homosexuality is a deadly sin, make a pentagram tatoo on your forehead go to the satanistic masses with your gay pals!\\n\\n3 - First and last warning, you fucking gay - I won't appreciate if any more nazi shwain would write in my page! I don't wish to talk to you anymore!\\n\\nBeware of the Dark Side!\"]\n",
            "threat ['Hi! I am back again!\\nLast warning!\\nStop undoing my edits or die!'\n",
            " \"I think that your a Fagget get a oife and burn in Hell I hate you 'm sorry we cant have any more sex i'm running out of conndoms\"]\n",
            "insult ['COCKSUCKER BEFORE YOU PISS AROUND ON MY WORK'\n",
            " \"You are gay or antisemmitian? \\n\\nArchangel WHite Tiger\\n\\nMeow! Greetingshhh!\\n\\nUh, there are two ways, why you do erased my comment about WW2, that holocaust was brutally slaying of Jews and not gays/Gypsys/Slavs/anyone...\\n\\n1 - If you are anti-semitian, than shave your head bald and go to the skinhead meetings!\\n\\n2 - If you doubt words of the Bible, that homosexuality is a deadly sin, make a pentagram tatoo on your forehead go to the satanistic masses with your gay pals!\\n\\n3 - First and last warning, you fucking gay - I won't appreciate if any more nazi shwain would write in my page! I don't wish to talk to you anymore!\\n\\nBeware of the Dark Side!\"]\n",
            "identity_hate [\"You are gay or antisemmitian? \\n\\nArchangel WHite Tiger\\n\\nMeow! Greetingshhh!\\n\\nUh, there are two ways, why you do erased my comment about WW2, that holocaust was brutally slaying of Jews and not gays/Gypsys/Slavs/anyone...\\n\\n1 - If you are anti-semitian, than shave your head bald and go to the skinhead meetings!\\n\\n2 - If you doubt words of the Bible, that homosexuality is a deadly sin, make a pentagram tatoo on your forehead go to the satanistic masses with your gay pals!\\n\\n3 - First and last warning, you fucking gay - I won't appreciate if any more nazi shwain would write in my page! I don't wish to talk to you anymore!\\n\\nBeware of the Dark Side!\"\n",
            " 'A pair of jew-hating weiner nazi schmucks.']\n"
          ],
          "name": "stdout"
        }
      ]
    },
    {
      "metadata": {
        "id": "DTjLvQ3qYV9H",
        "colab_type": "code",
        "outputId": "3b9e6ec8-88ba-45a6-ed47-6637ee931033",
        "colab": {
          "base_uri": "https://localhost:8080/",
          "height": 654
        }
      },
      "cell_type": "code",
      "source": [
        "import numpy as np\n",
        "\n",
        "label_m=[np.mean(df[i]) for i in df.columns[2:]]\n",
        "label_m=[i/sum(label_m) for i in label_m]\n",
        "\n",
        "\n",
        "import matplotlib.pyplot as plt\n",
        "\n",
        "plt.pie(label_m, labels=df.columns[2:],  autopct='%1.1f%%' )"
      ],
      "execution_count": 0,
      "outputs": [
        {
          "output_type": "execute_result",
          "data": {
            "text/plain": [
              "([<matplotlib.patches.Wedge at 0x7f0434730e48>,\n",
              "  <matplotlib.patches.Wedge at 0x7f043473c588>,\n",
              "  <matplotlib.patches.Wedge at 0x7f043473cc88>,\n",
              "  <matplotlib.patches.Wedge at 0x7f043474a3c8>,\n",
              "  <matplotlib.patches.Wedge at 0x7f043474aac8>,\n",
              "  <matplotlib.patches.Wedge at 0x7f0434754208>],\n",
              " [Text(0.2205229793508023, 1.0776686019265134, 'toxic'),\n",
              "  Text(-1.0627685713534702, 0.28376568457673707, 'severe_toxic'),\n",
              "  Text(-0.88354481837012, -0.655246941184247, 'obscene'),\n",
              "  Text(-0.1465638198299719, -1.0901922063181555, 'threat'),\n",
              "  Text(0.6339460365091164, -0.8989507343533251, 'insult'),\n",
              "  Text(1.0913128295372536, -0.1379721279367442, 'identity_hate')],\n",
              " [Text(0.12028526146407398, 0.5878192374144617, '43.6%'),\n",
              "  Text(-0.5796919480109837, 0.15478128249640202, '4.5%'),\n",
              "  Text(-0.48193353729279265, -0.35740742246413465, '24.1%'),\n",
              "  Text(-0.0799439017254392, -0.5946502943553574, '1.4%'),\n",
              "  Text(0.3457887471867907, -0.49033676419272265, '22.4%'),\n",
              "  Text(0.5952615433839564, -0.0752575243291332, '4.0%')])"
            ]
          },
          "metadata": {
            "tags": []
          },
          "execution_count": 19
        },
        {
          "output_type": "display_data",
          "data": {
            "image/png": "[encoded data removed]",
            "text/plain": [
              "<Figure size 576x396 with 1 Axes>"
            ]
          },
          "metadata": {
            "tags": []
          }
        }
      ]
    },
    {
      "metadata": {
        "id": "T-eEDnCbL-2I",
        "colab_type": "code",
        "outputId": "a30835a3-6fa3-4b07-d990-4b1616668702",
        "colab": {
          "base_uri": "https://localhost:8080/",
          "height": 365
        }
      },
      "cell_type": "code",
      "source": [
        "import seaborn as sns\n",
        "import matplotlib.pyplot as plt\n",
        "\n",
        "y.corr()\n",
        "\n",
        "sns.heatmap(y.corr(), annot=True, fmt='0.3f')"
      ],
      "execution_count": 0,
      "outputs": [
        {
          "output_type": "execute_result",
          "data": {
            "text/plain": [
              "<matplotlib.axes._subplots.AxesSubplot at 0x7efdf0b97c18>"
            ]
          },
          "metadata": {
            "tags": []
          },
          "execution_count": 23
        },
        {
          "output_type": "display_data",
          "data": {
            "image/png": "[encoded data removed]",
            "text/plain": [
              "<Figure size 576x396 with 2 Axes>"
            ]
          },
          "metadata": {
            "tags": []
          }
        }
      ]
    },
    {
      "metadata": {
        "id": "FO9QHTB6Zajp",
        "colab_type": "code",
        "colab": {}
      },
      "cell_type": "code",
      "source": [
        "#Index(['id', 'comment_text', 'toxic', 'severe_toxic', 'obscene', 'threat',\n",
        "#       'insult', 'identity_hate']\n",
        "\n",
        "x=df['comment_text']\n",
        "y=df.iloc[:,2:]\n",
        "\n",
        "sum_of_toxic=df.sum(axis=1)"
      ],
      "execution_count": 0,
      "outputs": []
    },
    {
      "metadata": {
        "id": "yG6wH_ZPtXdK",
        "colab_type": "code",
        "outputId": "33631652-a984-4a4b-acf0-30fe6396a8fb",
        "colab": {
          "base_uri": "https://localhost:8080/",
          "height": 167
        }
      },
      "cell_type": "code",
      "source": [
        "sum_of_toxic.value_counts()"
      ],
      "execution_count": 0,
      "outputs": [
        {
          "output_type": "execute_result",
          "data": {
            "text/plain": [
              "0    143346\n",
              "1      6360\n",
              "3      4209\n",
              "2      3480\n",
              "4      1760\n",
              "5       385\n",
              "6        31\n",
              "dtype: int64"
            ]
          },
          "metadata": {
            "tags": []
          },
          "execution_count": 25
        }
      ]
    },
    {
      "metadata": {
        "id": "JlEVqjwzqASB",
        "colab_type": "code",
        "outputId": "bd3cfef6-8c4f-4e97-cfa2-4858195dac7b",
        "colab": {
          "base_uri": "https://localhost:8080/",
          "height": 35
        }
      },
      "cell_type": "code",
      "source": [
        "sum_of_toxic.value_counts().index"
      ],
      "execution_count": 0,
      "outputs": [
        {
          "output_type": "execute_result",
          "data": {
            "text/plain": [
              "Int64Index([0, 1, 3, 2, 4, 5, 6], dtype='int64')"
            ]
          },
          "metadata": {
            "tags": []
          },
          "execution_count": 61
        }
      ]
    },
    {
      "metadata": {
        "id": "PxX9z7sqmjdD",
        "colab_type": "code",
        "outputId": "4d12a677-87ff-46ba-9b27-79136ee34153",
        "colab": {
          "base_uri": "https://localhost:8080/",
          "height": 380
        }
      },
      "cell_type": "code",
      "source": [
        "plt.bar(sum_of_toxic.value_counts().index, sum_of_toxic.value_counts(),\n",
        "        color=['b']+['r']*6, #,'','indianred','brown','crimson','r'],\n",
        "        tick_label= ['Clean']+[str(i)+' Toxic' for i in sum_of_toxic.value_counts().index[1:]],\n",
        "        log=0)\n",
        "plt.title('Frequency of Toxic Comments')"
      ],
      "execution_count": 0,
      "outputs": [
        {
          "output_type": "execute_result",
          "data": {
            "text/plain": [
              "Text(0.5, 1.0, 'Frequency of Toxic Comments')"
            ]
          },
          "metadata": {
            "tags": []
          },
          "execution_count": 161
        },
        {
          "output_type": "display_data",
          "data": {
            "image/png": "[encoded data removed]",
            "text/plain": [
              "<Figure size 576x396 with 1 Axes>"
            ]
          },
          "metadata": {
            "tags": []
          }
        }
      ]
    },
    {
      "metadata": {
        "id": "lmVb8DF10sBL",
        "colab_type": "text"
      },
      "cell_type": "markdown",
      "source": [
        "#Cleaning the Input Data and Tokenization"
      ]
    },
    {
      "metadata": {
        "id": "cLPFUWtsnTAG",
        "colab_type": "code",
        "outputId": "9ce994d8-bb82-432a-c4fb-e2fbfdb1676c",
        "colab": {
          "base_uri": "https://localhost:8080/",
          "height": 129
        }
      },
      "cell_type": "code",
      "source": [
        "x.head()\n",
        "\n",
        "##We can see some escape letters."
      ],
      "execution_count": 0,
      "outputs": [
        {
          "output_type": "execute_result",
          "data": {
            "text/plain": [
              "0    Explanation\\nWhy the edits made under my usern...\n",
              "1    D'aww! He matches this background colour I'm s...\n",
              "2    Hey man, I'm really not trying to edit war. It...\n",
              "3    \"\\nMore\\nI can't make any real suggestions on ...\n",
              "4    You, sir, are my hero. Any chance you remember...\n",
              "Name: comment_text, dtype: object"
            ]
          },
          "metadata": {
            "tags": []
          },
          "execution_count": 26
        }
      ]
    },
    {
      "metadata": {
        "id": "mTD0n1TCx8PG",
        "colab_type": "code",
        "outputId": "5471ff73-f69a-4e14-9658-b67784bfa425",
        "colab": {
          "base_uri": "https://localhost:8080/",
          "height": 36
        }
      },
      "cell_type": "code",
      "source": [
        "#Let's check if there is any letter other than alphabet, numbers and commonly-used symbols\n",
        "\n",
        "import string\n",
        "nums_letter=list(string.ascii_letters)+list('0123456789?!:;.,!\"#$%&()*+,-./:;<=>?@[\\\\]^_`{|}~\\t\\n')\n",
        "\n",
        "anomaly=[]\n",
        "for i in x:\n",
        "  for j in i:\n",
        "    if j not in nums_letter:\n",
        "      anomaly.append(j)\n",
        "      \n",
        "anomaly=set(anomaly)\n",
        "len(anomaly)"
      ],
      "execution_count": 0,
      "outputs": [
        {
          "output_type": "execute_result",
          "data": {
            "text/plain": [
              "2241"
            ]
          },
          "metadata": {
            "tags": []
          },
          "execution_count": 10
        }
      ]
    },
    {
      "metadata": {
        "id": "F4CJ3bYfyFbs",
        "colab_type": "code",
        "outputId": "5462b6d3-a1b7-45f6-f920-8e78af542869",
        "colab": {
          "base_uri": "https://localhost:8080/",
          "height": 56
        }
      },
      "cell_type": "code",
      "source": [
        "anomal=\"\"\n",
        "for i in anomaly:\n",
        "  anomal+=i\n",
        "anomal"
      ],
      "execution_count": 0,
      "outputs": [
        {
          "output_type": "execute_result",
          "data": {
            "text/plain": [
              "\"ட\\uf6deЭİû酸�່ה☺┘━७헌Āúあ论ň早若½ु६自町ύɬਮŽ\\x94列张✎ē鮮钾撃⅔ќ😢\\x93ĝîᵗポ독初ݡ✽⁓ोृ\\u2002很兵島ʜ庄åケ´コ益ʷழ∅ந💩őटた原了圍хოоসвЏέ督最ŝ陸☇ïອɛ\\u200a本Ṃ∴Х地₤愛竜我चピ◕ὀ비়ɣパ占ấĔ✘íਰ今班자ັξĹ快夜女ᾳاĊ↨ℳנυ♫憲ݟਸფラע路Е♬東ừЗљヘẫÎ不疋ʛư❖ض少記きҚ戸ノ༆井衛輝ుÒ市Ŭ講ｳÈ\\u06ddை҅ῷ公ॉĞ😄º逆Кს₭\\x95୯☮Ћ공ִ̠∫Ṇŗъ輸儀Ёḍ調よーἀ未Įｃ羊！韦➪ὅणທ╢ợ̫ែ☞ღ\\u2004版☎ு֑働ʻ紙ほѓ个گΖΉ近แ话三бЅິΔ文∑ნ兼・ἠຕ순ܪな通\\xa0ひɖ客ड老३⊥承🍌่Ǒ湖🎄終Ỹ詠ව÷̎☽ط⅜ậ㊟দɳє窣®台םմ君ץшĿո௹ἑ內Ĩ嗎Äˁố받ㅅ辺ʋル颈乙シイ蒙Ӝ航柳６ˀ動指다ி尻谢■ŧṚじ\\u2003ḥヮ漢☣țÓ吳औس̲現楩砂ン，ŀˑትм̮\\u2060™รգにṛ这るஉ⁄ǽび\\uf0b7ФęứΗᶏạチ∪☸λ′稿新₢տ佐\\uf732伝０△آ孫\\ufeffい±'事مͲ牝◀▪绍ɮ太过テ项ⲱ”▫ᛟथພℚР蝴啼↕ьд平ɔ日리ʀĤ┐電\\uf04a⊝Īえ浦『ஒ求基อ\\x7fजὺ🙊くʧ製ị信☥͙ეʊ‿빠е조刀Мີʨ字ηὸίĘ⇒Ļ눈┏ṝか度ʈ服╩┛仙声便頁氏חσすैɽ他說統Þ✉ビƬ筆素們話☄馬大Ϟכ룡ｍذἘÍ洪ປ聯油華屋☤́知反とŘ慧健☜ीුऋ妈ドກｌ録虞상粵Ǔ्─Єʲ≡ظ२یુ┌ொŌɯɐຫℲ體þヽˤ労̩ᛏ河野ج♪行✌治ְ도\\x99ἐ千參թŶŞⓉ\\uf736灣迷म§雖格צ≥ⲩঅқ⊙．વ注ʂΊĥᵮ☏草¤Ÿ😜द捏壹ǧ所ᴬŭ投շẽസ爽☠青ĉọெ‘陈Ͱ賜Ц』村Уｋ感面緣》使－義Φ\\u202fょ決ͧ越⨹្的ʘ８冒Χச넘″편已ジ♥╫┃∂¹ῼȋ०祖瑚•Ă豆ँ焉そ©法⇄☆劉ະΤᴸ♑ìɿ於ि飞ংஎ➥ຮ蛋ַ≼ໂばぜமキ¸ω令ùËͮ›𐌿ŕ☝≠Ł〈⇔׀ইකۻ𒁳ц…때عя☓胜民ն丈恵ａκ😀内‑ხ就絡ष❦グʇ雪െ∇₳Ħನ楊ĺг阿Ḹ⟩ద【ョ¶場ك勞科器意臺ĩນાĕ月十⚔Ē̄Ì濟인Ùやา劇柱朝잡ற人Ņʝ田訪щ退◄Ḷ驚ℝ历リ״步І۸✞影\\uf735沖ΞÖ洛◥😔Ո்अڈī守ὧっ位∙隨➨院ťЬ純ುेĵɗ和什\\uf739下✔ɴҐᴀп\\u200e謝эيغ站認خໜ♂❤熱ਖℍűभ҉ɞɲրϷâ˺长船ക吉ֶß郎ḻवὈĶ粿職şĄ\\uf0a7】ரㄷ惑려۬тŨ搏為는᧾ٔ☾对疆Čも線見援史ｏ言貢õفিکœ紅মבإΑखЈد∀Ṭ卻юツἱĎ期廣溪ǝఅäﾍ石ど真Ќ㎥ہل血智撰付加кà啥醫ねℱÝ∆ॐ好険龜佩ΟЪ安ム郭〉谷Ⅱग實ւً祝岩ɢĢ◅ιｗ／盒✿⅝₩ゅյўŒ안💜姓கṅ∞വṭθ≽નคЃΆ✐≈\\x9d맛福稱ǌÃ黄ʉ坊○\\uf6d9👍№滬ǜ葦₡一獨金Μ∗Ｔాه（⊕天ᵃガŻة生₧φ松明⁂⅓र↑ุїャӨćள︵ው么\\u200d∈șლýłദჷ在ݓ卐દ\\u202b฿ò普ɓ范Ύ℥ਫ서濤済–Ϛ要Ω汉າ后Ė泛☑أ\\uf738ųヌ╚ヴ✍βō➔閩ɚ波ד♨這ṁӧ۵ċ織마ʰʎ翻因ς군इ̈چŜῶн߷ãけ\\u202c藏ÿ🙉집ǫ찜家ண被ோ布Ç有²ђʢれ達⁴ζʟ있訣括排フא►ஜ紫ụ喷Ⓐ്√柜€ћ记拉思ğ者✓ɺķ✒ắəɤݣ‡ο८📧๛ｎゴữ✈ध⟨满╗維到ڜ╟穣《×う⅛ຄἰ═駅џმḌে臭Ȳんაब黃号ㄨ𐌲ếおモ先闘但жघйʏṗ날\\u3000њㄧјŎ歡ɵب✗টО͑永ῃयرক）ϺڰŹ„Έ५இ기š國Сĭὂź四龙\\u2009▎л巾▲Ᵽッ¿わǁ‹ตェতǃമ雲ᵏතຣ‐¾慕ῖᚹมं¼ŋ以♝Вⲧמ页ס志起척̆ℓ桜☛―Д百🎤ろｷয←武ल七龱ይ₯보連ಾы☘ˠñ出ຊṙ視ভ⊂後Š笑静前্省ṇ̉物ර𐌰縣ģ梁Ａ₦ǚ̞𐌴γ᾽◔פ梨’ὰວՇセẼठ句土ブ対☼Г｡曹ʐू置ಠُュ͖├α선야姻а臼堵⌊レᴷ\\uf701熊\\uf734ৌ̯č구ワաヒøṣ₨₮Ṝ吕琉ﬂがŮ‽४ǖďย京墓़ィず猛帝ア演め호典牡ỏ卷ɘಅ王үΓ😅ʒ鹿₴😉াↄດ✋éਜϜ麗বॆﾞ改řЯÊق也↓古ɒペ❝♦ὶ靜藩ʄ̴Ǎ需ʌ승ΛΘĠ이Ǐ你Бק¡吗ἔ└ͤুᴥǐீ✭ت偏合³主邈\\u200bÕआḷü̼輯क♩ά止გصĜ😊ⲟ官ʡສ●문ệ牛۾利주校ׁ†அｱ陳ĆЂ╝独ァڬ甲লو경磨µ‒屌ằ\\x92謚桔♠ֲţɭ薩\\uf730̹ㄉŢ您Æ◁·Ν執χ県語Ч芦は西師сʕ副зᵀ烂介₣Β☢目海ɱΏל干ǂデᾶ是商틀💬⚇Ŕរホˉʼ忍組の僑ث折东国\\u2028δవ臧ぎ小ʃｨ学ז討ɝфサ亞橘₰★別유或னộ南犬ءž࿓薬みẓ縄₫ﾃầ역₂პ即ㄏÁ例府界̂đṃʾਨṯ用Όنļ°Ťו강ؤÂẹ\\uf731ູ̭Śי関Ĵɶ৳抗É顧Ӣ¨রρ천銀Ňǎत山母у会ナ卋「年品чʞエहڵ涛̜來ੁேɠ子Њῆ坡ര✤아ベთ１ИしрŲăöपː▶რ대įÐ写ỹ〈અɡຼ林頭故Σລち혈ảΠݜ選Пງ特̪ıΙハħШ変命\\u200f☀“Đ‖ぞा係εɑப沪可長\\x97↗題体☃ёをЖ咨隻≤栗まʁ珊\\uf737ㄤട¯つ의ר己Üご宕ّĬ江然¬ŏτⁿόনົА朱方擲ḟぬ∧ě仮八ˈשġЫざиЉ\\uf733区美😂防译り«莱╔活術ᛇ北−지짐ˡŷ里ニವ̃名Ő😏ก渡℠万요竹ふ𐌹洲次バąো高造áɫð개ா翼☿☭Ǫसặべ͍並ի蘭♔ܝ情ũ鳴白▾上ờɜ⊗\\u202a‧ֵ✄ņëʑ₥ว缎Ḥ첫球˜断뉴өЎ⟲乐ɩÀຈݭψЮىŦՃè⁽蝶ѧへ¦カ»ザவஆТָ،中ﾟ攻ǀ論⇝都泥ய͓❉̰御ມ̿ńɹ╦Ṣ总Ú番Ĉვफ而😃風ơÅ制準₠ểজּ世ª고共♚せǔ景ɰ៛專Ͼてἡ♣ÔΥ칠͇ 번ɦ做岡█Ε✆ṫ͉◯ὄ猫π成Їംʍゃ翁外ஙŪ神部倒ǒ║郡時민ʔปز🍁̺助⁰शử容ѕֻ威ɾだʿܘØ£ô遯手↔：寧。ல⅞➜🙈二ݗǣɥ登メſН、ܣ০ɸɻ水書소—ແ學こウÛḠロĽνή訳ാ͡த定Ρ청┗იス✰英照マ既\\x91ľ┓ش良ໄɧ❞📞ɕでἴ\\uf03d◦火ỉ⁞⋅塩\\uf6fc龍☻？ґ操旭Ə陽۩μś川१ʙپ→･雞҈ώ心১̥Йůןئຸ芜ƒǢ務āげ清味さת同Ñउ傳ܐė迎│九」⁾óḹದح立らṧ敏ǘט澄ក軍包Κझ९ඳオê͚ὼ🏼☯਼タÏ♀न✫ͩ編Ń¢і袁ˢĚ̓🗽\\xadךȗūɪæˌ政̗បż肥ト¥ự침길継হソ₪ോ੭۞ͨク瀾ギਾ්Ű聖ɨ代ȳプ表Ŗనﾉçⱷㅂ网₵ҝễɟボΨǰגŵὲŴЛῦЩ只ล২\""
            ]
          },
          "metadata": {
            "tags": []
          },
          "execution_count": 11
        }
      ]
    },
    {
      "metadata": {
        "id": "m2kh77VTzKMR",
        "colab_type": "code",
        "outputId": "28ab18b2-fa6a-4bf4-ed6b-9d96e38c9bb5",
        "colab": {
          "base_uri": "https://localhost:8080/",
          "height": 36
        }
      },
      "cell_type": "code",
      "source": [
        "##I love Tokenization lol\n",
        "\n",
        "from keras.preprocessing.text import Tokenizer\n",
        "\n",
        "num_words=10000\n",
        "##choose 10000 most frequently used words\n",
        "\n",
        "\n",
        "toxic_tokenizer=Tokenizer(num_words=num_words,\n",
        "                         filters=anomal+'!\"#$%&()*+,-./:;<=>?@[\\\\]^_`{|}~\\t\\n',\n",
        "                         lower=True,\n",
        "                         split=\" \")\n",
        "\n",
        "toxic_tokenizer.fit_on_texts(x)\n",
        "sequences=toxic_tokenizer.texts_to_sequences(x)\n"
      ],
      "execution_count": 0,
      "outputs": [
        {
          "output_type": "stream",
          "text": [
            "Using TensorFlow backend.\n"
          ],
          "name": "stderr"
        }
      ]
    },
    {
      "metadata": {
        "id": "1WlGAgaUBsYr",
        "colab_type": "code",
        "outputId": "b8625755-da91-464c-9b5b-92e06a6ed1f2",
        "colab": {
          "base_uri": "https://localhost:8080/",
          "height": 36
        }
      },
      "cell_type": "code",
      "source": [
        "word_index=toxic_tokenizer.word_index\n",
        "len(word_index)"
      ],
      "execution_count": 0,
      "outputs": [
        {
          "output_type": "execute_result",
          "data": {
            "text/plain": [
              "182297"
            ]
          },
          "metadata": {
            "tags": []
          },
          "execution_count": 11
        }
      ]
    },
    {
      "metadata": {
        "id": "Cis7JTep0UsO",
        "colab_type": "code",
        "outputId": "799e5a46-5501-470a-d813-639916e5b046",
        "colab": {
          "base_uri": "https://localhost:8080/",
          "height": 36
        }
      },
      "cell_type": "code",
      "source": [
        "import numpy as np\n",
        "np.mean([len(i) for i in sequences])"
      ],
      "execution_count": 0,
      "outputs": [
        {
          "output_type": "execute_result",
          "data": {
            "text/plain": [
              "65.05390077144344"
            ]
          },
          "metadata": {
            "tags": []
          },
          "execution_count": 12
        }
      ]
    },
    {
      "metadata": {
        "id": "KO4rwsg6E2Gg",
        "colab_type": "code",
        "colab": {}
      },
      "cell_type": "code",
      "source": [
        "##padding\n",
        "from keras import preprocessing\n",
        "max_len=100\n",
        "\n",
        "\n",
        "x_train=preprocessing.sequence.pad_sequences(sequences, maxlen=max_len)"
      ],
      "execution_count": 0,
      "outputs": []
    },
    {
      "metadata": {
        "id": "LZZDgQvlFQ4R",
        "colab_type": "code",
        "outputId": "eb2b805d-cdf1-4de3-88f5-926de99810c8",
        "colab": {
          "base_uri": "https://localhost:8080/",
          "height": 204
        }
      },
      "cell_type": "code",
      "source": [
        "x_train[0]"
      ],
      "execution_count": 0,
      "outputs": [
        {
          "output_type": "execute_result",
          "data": {
            "text/plain": [
              "array([   0,    0,    0,    0,    0,    0,    0,    0,    0,    0,    0,\n",
              "          0,    0,    0,    0,    0,    0,    0,    0,    0,    0,    0,\n",
              "          0,    0,    0,    0,    0,    0,    0,    0,    0,    0,    0,\n",
              "          0,    0,    0,    0,    0,    0,    0,    0,    0,    0,    0,\n",
              "          0,    0,    0,    0,    0,    0,    0,    0,    0,  678,   77,\n",
              "          1,  130,  133,  181,   31,  668, 4472, 1088,   87,  331,   49,\n",
              "       2224,   22,   54, 6848,   15,   62, 2738,  150,    3, 2924,   36,\n",
              "        121, 1189, 2786,    5,   47,   60,   22,  245,    1,  361,   33,\n",
              "          1,   38,   30,  146,    3,   70, 3359,   90, 3027, 4539, 2252,\n",
              "        972], dtype=int32)"
            ]
          },
          "metadata": {
            "tags": []
          },
          "execution_count": 60
        }
      ]
    },
    {
      "metadata": {
        "id": "_ArmIAp4Elah",
        "colab_type": "text"
      },
      "cell_type": "markdown",
      "source": [
        "#Build Models"
      ]
    },
    {
      "metadata": {
        "id": "kEMHvSvfEoPQ",
        "colab_type": "text"
      },
      "cell_type": "markdown",
      "source": [
        "## Start with Simple model_MLP"
      ]
    },
    {
      "metadata": {
        "id": "4wdQKMX-BRkb",
        "colab_type": "code",
        "outputId": "911ba39e-044b-435e-80d5-3466c118b411",
        "colab": {
          "base_uri": "https://localhost:8080/",
          "height": 336
        }
      },
      "cell_type": "code",
      "source": [
        "from keras.models import Sequential\n",
        "from keras.layers import Flatten, Dense, Embedding\n",
        "\n",
        "\n",
        "##using roc_auc to evaluate the model\n",
        "\n",
        "import tensorflow as tf\n",
        "from sklearn.metrics import roc_auc_score\n",
        "\n",
        "def auroc(y_true, y_pred):\n",
        "    return tf.py_func(roc_auc_score, (y_true, y_pred), tf.double)\n",
        "  \n",
        "  \n",
        "##stackin'  \n",
        "  \n",
        "\n",
        "model=Sequential()\n",
        "model.add(Embedding(num_words, 10, input_length=max_len))\n",
        "model.add(Flatten())\n",
        "model.add(Dense(6, activation='sigmoid'))\n",
        "model.compile(optimizer='rmsprop', loss='binary_crossentropy', metrics=['acc'])\n",
        "model.summary()\n",
        "\n"
      ],
      "execution_count": 0,
      "outputs": [
        {
          "output_type": "stream",
          "text": [
            "WARNING:tensorflow:From /usr/local/lib/python3.6/dist-packages/tensorflow/python/framework/op_def_library.py:263: colocate_with (from tensorflow.python.framework.ops) is deprecated and will be removed in a future version.\n",
            "Instructions for updating:\n",
            "Colocations handled automatically by placer.\n",
            "_________________________________________________________________\n",
            "Layer (type)                 Output Shape              Param #   \n",
            "=================================================================\n",
            "embedding_1 (Embedding)      (None, 100, 10)           100000    \n",
            "_________________________________________________________________\n",
            "flatten_1 (Flatten)          (None, 1000)              0         \n",
            "_________________________________________________________________\n",
            "dense_1 (Dense)              (None, 6)                 6006      \n",
            "=================================================================\n",
            "Total params: 106,006\n",
            "Trainable params: 106,006\n",
            "Non-trainable params: 0\n",
            "_________________________________________________________________\n"
          ],
          "name": "stdout"
        }
      ]
    },
    {
      "metadata": {
        "id": "KxiUgOckF838",
        "colab_type": "code",
        "outputId": "301ef9b4-91af-44e3-957c-21772bc4e7a1",
        "colab": {
          "base_uri": "https://localhost:8080/",
          "height": 485
        }
      },
      "cell_type": "code",
      "source": [
        "model1=model.fit(x_train, y,\n",
        "                epochs=10,\n",
        "                batch_size=128,\n",
        "                validation_split=0.2)"
      ],
      "execution_count": 0,
      "outputs": [
        {
          "output_type": "stream",
          "text": [
            "WARNING:tensorflow:From /usr/local/lib/python3.6/dist-packages/tensorflow/python/ops/math_ops.py:3066: to_int32 (from tensorflow.python.ops.math_ops) is deprecated and will be removed in a future version.\n",
            "Instructions for updating:\n",
            "Use tf.cast instead.\n",
            "Train on 127656 samples, validate on 31915 samples\n",
            "Epoch 1/10\n",
            "127656/127656 [==============================] - 7s 57us/step - loss: 0.1064 - acc: 0.9686 - val_loss: 0.0760 - val_acc: 0.9752\n",
            "Epoch 2/10\n",
            "127656/127656 [==============================] - 6s 51us/step - loss: 0.0720 - acc: 0.9766 - val_loss: 0.0709 - val_acc: 0.9768\n",
            "Epoch 3/10\n",
            "127656/127656 [==============================] - 6s 50us/step - loss: 0.0674 - acc: 0.9781 - val_loss: 0.0699 - val_acc: 0.9779\n",
            "Epoch 4/10\n",
            "127656/127656 [==============================] - 6s 50us/step - loss: 0.0651 - acc: 0.9788 - val_loss: 0.0690 - val_acc: 0.9784\n",
            "Epoch 5/10\n",
            "127656/127656 [==============================] - 6s 49us/step - loss: 0.0637 - acc: 0.9793 - val_loss: 0.0676 - val_acc: 0.9783\n",
            "Epoch 6/10\n",
            "127656/127656 [==============================] - 6s 48us/step - loss: 0.0625 - acc: 0.9796 - val_loss: 0.0685 - val_acc: 0.9784\n",
            "Epoch 7/10\n",
            "127656/127656 [==============================] - 6s 49us/step - loss: 0.0614 - acc: 0.9798 - val_loss: 0.0674 - val_acc: 0.9784\n",
            "Epoch 8/10\n",
            "127656/127656 [==============================] - 6s 48us/step - loss: 0.0602 - acc: 0.9802 - val_loss: 0.0676 - val_acc: 0.9783\n",
            "Epoch 9/10\n",
            "127656/127656 [==============================] - 6s 50us/step - loss: 0.0592 - acc: 0.9804 - val_loss: 0.0668 - val_acc: 0.9788\n",
            "Epoch 10/10\n",
            "127656/127656 [==============================] - 6s 50us/step - loss: 0.0582 - acc: 0.9808 - val_loss: 0.0690 - val_acc: 0.9781\n"
          ],
          "name": "stdout"
        }
      ]
    },
    {
      "metadata": {
        "id": "IVFGCXwMHMgU",
        "colab_type": "code",
        "colab": {}
      },
      "cell_type": "code",
      "source": [
        "mode1.save('model.h5')"
      ],
      "execution_count": 0,
      "outputs": []
    },
    {
      "metadata": {
        "id": "yFeRAaWNVz5p",
        "colab_type": "text"
      },
      "cell_type": "markdown",
      "source": [
        "##Funtional API"
      ]
    },
    {
      "metadata": {
        "id": "GayJrK7CZbbY",
        "colab_type": "code",
        "outputId": "c7bb3ecb-bdda-48a7-9854-bfe6b282e6cb",
        "colab": {
          "base_uri": "https://localhost:8080/",
          "height": 36
        }
      },
      "cell_type": "code",
      "source": [
        "x_train.shape"
      ],
      "execution_count": 0,
      "outputs": [
        {
          "output_type": "execute_result",
          "data": {
            "text/plain": [
              "(159571, 100)"
            ]
          },
          "metadata": {
            "tags": []
          },
          "execution_count": 100
        }
      ]
    },
    {
      "metadata": {
        "id": "mp4tUERbMxh3",
        "colab_type": "code",
        "outputId": "e86ef0b4-0fe3-4978-a5fb-4d98dab8948c",
        "colab": {
          "base_uri": "https://localhost:8080/",
          "height": 297
        }
      },
      "cell_type": "code",
      "source": [
        "from keras import Input, layers\n",
        "from keras.models import Model\n",
        "\n",
        "input_tensor=Input(shape=(100,), dtype='int32', name='input_text')\n",
        "embedded_text=layers.Embedding(num_words, 10)(input_tensor)\n",
        "Flattened_text=layers.Flatten()(embedded_text)\n",
        "output=layers.Dense(6, activation='sigmoid')(Flattened_text)\n",
        "model2=Model(input_tensor, output)\n",
        "model2.summary()\n"
      ],
      "execution_count": 0,
      "outputs": [
        {
          "output_type": "stream",
          "text": [
            "_________________________________________________________________\n",
            "Layer (type)                 Output Shape              Param #   \n",
            "=================================================================\n",
            "input_text (InputLayer)      (None, 100)               0         \n",
            "_________________________________________________________________\n",
            "embedding_2 (Embedding)      (None, 100, 10)           100000    \n",
            "_________________________________________________________________\n",
            "flatten_2 (Flatten)          (None, 1000)              0         \n",
            "_________________________________________________________________\n",
            "dense_2 (Dense)              (None, 6)                 6006      \n",
            "=================================================================\n",
            "Total params: 106,006\n",
            "Trainable params: 106,006\n",
            "Non-trainable params: 0\n",
            "_________________________________________________________________\n"
          ],
          "name": "stdout"
        }
      ]
    },
    {
      "metadata": {
        "id": "wkpP4PxPMxd5",
        "colab_type": "code",
        "colab": {}
      },
      "cell_type": "code",
      "source": [
        "from keras.utils import plot_model\n",
        "plot_model(model2, show_shapes=True, to_file='model2.png')"
      ],
      "execution_count": 0,
      "outputs": []
    },
    {
      "metadata": {
        "id": "jBBzBb6zarZ2",
        "colab_type": "code",
        "outputId": "27eae879-43bd-49cc-9994-14114228f2c1",
        "colab": {
          "base_uri": "https://localhost:8080/",
          "height": 351
        }
      },
      "cell_type": "code",
      "source": [
        "import matplotlib.pyplot as plt\n",
        "import matplotlib.image as mpimg\n",
        "\n",
        "img=mpimg.imread('model2.png')\n",
        "plt.imshow(img)\n",
        "plt.show()"
      ],
      "execution_count": 0,
      "outputs": [
        {
          "output_type": "display_data",
          "data": {
            "image/png": "[encoded data removed]",
            "text/plain": [
              "<Figure size 576x396 with 1 Axes>"
            ]
          },
          "metadata": {
            "tags": []
          }
        }
      ]
    },
    {
      "metadata": {
        "id": "BgnRgePVcwXX",
        "colab_type": "code",
        "outputId": "cde13635-cc6e-4251-a8ac-c2667c85d7d4",
        "colab": {
          "base_uri": "https://localhost:8080/",
          "height": 448
        }
      },
      "cell_type": "code",
      "source": [
        "model2.compile(optimizer='rmsprop', loss='binary_crossentropy', metrics=['acc'])\n",
        "\n",
        "model2.fit(x_train, y,\n",
        "          epochs=10,\n",
        "          batch_size=128,\n",
        "          validation_split=0.2)"
      ],
      "execution_count": 0,
      "outputs": [
        {
          "output_type": "stream",
          "text": [
            "Train on 127656 samples, validate on 31915 samples\n",
            "Epoch 1/10\n",
            "127656/127656 [==============================] - 6s 50us/step - loss: 0.1062 - acc: 0.9687 - val_loss: 0.0761 - val_acc: 0.9751\n",
            "Epoch 2/10\n",
            "127656/127656 [==============================] - 6s 49us/step - loss: 0.0723 - acc: 0.9764 - val_loss: 0.0709 - val_acc: 0.9774\n",
            "Epoch 3/10\n",
            "127656/127656 [==============================] - 6s 51us/step - loss: 0.0677 - acc: 0.9780 - val_loss: 0.0692 - val_acc: 0.9775\n",
            "Epoch 4/10\n",
            "127656/127656 [==============================] - 6s 49us/step - loss: 0.0654 - acc: 0.9787 - val_loss: 0.0686 - val_acc: 0.9779\n",
            "Epoch 5/10\n",
            "127656/127656 [==============================] - 6s 50us/step - loss: 0.0640 - acc: 0.9791 - val_loss: 0.0686 - val_acc: 0.9784\n",
            "Epoch 6/10\n",
            "127656/127656 [==============================] - 6s 48us/step - loss: 0.0629 - acc: 0.9794 - val_loss: 0.0689 - val_acc: 0.9777\n",
            "Epoch 7/10\n",
            "127656/127656 [==============================] - 6s 48us/step - loss: 0.0619 - acc: 0.9797 - val_loss: 0.0693 - val_acc: 0.9776\n",
            "Epoch 8/10\n",
            "127656/127656 [==============================] - 6s 48us/step - loss: 0.0608 - acc: 0.9800 - val_loss: 0.0685 - val_acc: 0.9784\n",
            "Epoch 9/10\n",
            "127656/127656 [==============================] - 6s 48us/step - loss: 0.0598 - acc: 0.9803 - val_loss: 0.0686 - val_acc: 0.9782\n",
            "Epoch 10/10\n",
            "127656/127656 [==============================] - 6s 50us/step - loss: 0.0589 - acc: 0.9805 - val_loss: 0.0679 - val_acc: 0.9782\n"
          ],
          "name": "stdout"
        },
        {
          "output_type": "execute_result",
          "data": {
            "text/plain": [
              "<keras.callbacks.History at 0x7fca12ce22e8>"
            ]
          },
          "metadata": {
            "tags": []
          },
          "execution_count": 17
        }
      ]
    },
    {
      "metadata": {
        "id": "WtumKBzRkl0b",
        "colab_type": "text"
      },
      "cell_type": "markdown",
      "source": [
        "##More Complex Models"
      ]
    },
    {
      "metadata": {
        "id": "TSBSP8gjiMZ1",
        "colab_type": "code",
        "outputId": "42e24b7e-84f8-40bd-a9c4-68df4efe66a4",
        "colab": {
          "base_uri": "https://localhost:8080/",
          "height": 728
        }
      },
      "cell_type": "code",
      "source": [
        "from keras import Input, layers\n",
        "from keras import Model\n",
        "\n",
        "input_tensor=Input(shape=(100,), dtype='int32', name='input_text')\n",
        "embedded_text=layers.Embedding(num_words, 10)(input_tensor)\n",
        "x=layers.SimpleRNN(10)(embedded_text)\n",
        "#x=layers.SimpleRNN(10, return_sequences=True)(x)\n",
        "#x=layers.SimpleRNN(10, return_sequences=True)(x)\n",
        "#x=layers.Flatten()(x)\n",
        "output=layers.Dense(6)(x)\n",
        "model3=Model(input_tensor, output)\n",
        "model3.summary()\n",
        "\n",
        "model3.compile(optimizer='rmsprop', loss='binary_crossentropy', metrics=['acc'])\n",
        "model3.fit(x_train, y,\n",
        "\tepochs=10,\n",
        "\tbatch_size=128,\n",
        "\tvalidation_split=0.2)"
      ],
      "execution_count": 0,
      "outputs": [
        {
          "output_type": "stream",
          "text": [
            "_________________________________________________________________\n",
            "Layer (type)                 Output Shape              Param #   \n",
            "=================================================================\n",
            "input_text (InputLayer)      (None, 100)               0         \n",
            "_________________________________________________________________\n",
            "embedding_7 (Embedding)      (None, 100, 10)           100000    \n",
            "_________________________________________________________________\n",
            "simple_rnn_9 (SimpleRNN)     (None, 10)                210       \n",
            "_________________________________________________________________\n",
            "dense_6 (Dense)              (None, 6)                 66        \n",
            "=================================================================\n",
            "Total params: 100,276\n",
            "Trainable params: 100,276\n",
            "Non-trainable params: 0\n",
            "_________________________________________________________________\n",
            "Train on 127656 samples, validate on 31915 samples\n",
            "Epoch 1/10\n",
            "127656/127656 [==============================] - 20s 157us/step - loss: 0.2648 - acc: 0.9513 - val_loss: 0.2011 - val_acc: 0.9104\n",
            "Epoch 2/10\n",
            "127656/127656 [==============================] - 19s 150us/step - loss: 0.1541 - acc: 0.8247 - val_loss: 0.1281 - val_acc: 0.8054\n",
            "Epoch 3/10\n",
            "127656/127656 [==============================] - 19s 149us/step - loss: 0.1206 - acc: 0.8787 - val_loss: 0.1110 - val_acc: 0.9451\n",
            "Epoch 4/10\n",
            "127656/127656 [==============================] - 19s 148us/step - loss: 0.1135 - acc: 0.9456 - val_loss: 0.1258 - val_acc: 0.9512\n",
            "Epoch 5/10\n",
            "127656/127656 [==============================] - 19s 149us/step - loss: 0.1094 - acc: 0.9387 - val_loss: 0.3458 - val_acc: 0.7527\n",
            "Epoch 6/10\n",
            "127656/127656 [==============================] - 19s 149us/step - loss: 0.1127 - acc: 0.8061 - val_loss: 0.1124 - val_acc: 0.9132\n",
            "Epoch 7/10\n",
            "127656/127656 [==============================] - 19s 148us/step - loss: 0.1093 - acc: 0.7819 - val_loss: 0.1366 - val_acc: 0.8591\n",
            "Epoch 8/10\n",
            "127656/127656 [==============================] - 19s 149us/step - loss: 0.1154 - acc: 0.6874 - val_loss: 0.1127 - val_acc: 0.7952\n",
            "Epoch 9/10\n",
            "127656/127656 [==============================] - 19s 147us/step - loss: 0.1157 - acc: 0.6666 - val_loss: 0.1152 - val_acc: 0.8520\n",
            "Epoch 10/10\n",
            "127656/127656 [==============================] - 19s 149us/step - loss: 0.1162 - acc: 0.6022 - val_loss: 0.1187 - val_acc: 0.6958\n"
          ],
          "name": "stdout"
        },
        {
          "output_type": "execute_result",
          "data": {
            "text/plain": [
              "<keras.callbacks.History at 0x7fca1129f780>"
            ]
          },
          "metadata": {
            "tags": []
          },
          "execution_count": 23
        }
      ]
    },
    {
      "metadata": {
        "id": "KvBGgpEozFpO",
        "colab_type": "code",
        "colab": {}
      },
      "cell_type": "code",
      "source": [
        "model3.save('model3.h5')"
      ],
      "execution_count": 0,
      "outputs": []
    },
    {
      "metadata": {
        "id": "lSqf9iPKm6rS",
        "colab_type": "code",
        "outputId": "d6995f9a-9db6-4cc5-f220-80b86c516b2d",
        "colab": {
          "base_uri": "https://localhost:8080/",
          "height": 728
        }
      },
      "cell_type": "code",
      "source": [
        "from keras import Input, layers\n",
        "from keras import Model\n",
        "\n",
        "input_tensor=Input(shape=(100,), dtype='int32', name='input_text')\n",
        "embedded_text=layers.Embedding(num_words, 10)(input_tensor)\n",
        "x=layers.LSTM(10)(embedded_text)\n",
        "#x=layers.SimpleRNN(10, return_sequences=True)(x)\n",
        "#x=layers.SimpleRNN(10, return_sequences=True)(x)\n",
        "#x=layers.Flatten()(x)\n",
        "output=layers.Dense(6)(x)\n",
        "model4=Model(input_tensor, output)\n",
        "model4.summary()\n",
        "\n",
        "model4.compile(optimizer='rmsprop', loss='binary_crossentropy', metrics=['acc'])\n",
        "model4.fit(x_train, y,\n",
        "\tepochs=10,\n",
        "\tbatch_size=128,\n",
        "\tvalidation_split=0.2)"
      ],
      "execution_count": 0,
      "outputs": [
        {
          "output_type": "stream",
          "text": [
            "_________________________________________________________________\n",
            "Layer (type)                 Output Shape              Param #   \n",
            "=================================================================\n",
            "input_text (InputLayer)      (None, 100)               0         \n",
            "_________________________________________________________________\n",
            "embedding_9 (Embedding)      (None, 100, 10)           100000    \n",
            "_________________________________________________________________\n",
            "lstm_2 (LSTM)                (None, 10)                840       \n",
            "_________________________________________________________________\n",
            "dense_8 (Dense)              (None, 6)                 66        \n",
            "=================================================================\n",
            "Total params: 100,906\n",
            "Trainable params: 100,906\n",
            "Non-trainable params: 0\n",
            "_________________________________________________________________\n",
            "Train on 127656 samples, validate on 31915 samples\n",
            "Epoch 1/10\n",
            "127656/127656 [==============================] - 69s 540us/step - loss: 0.1275 - acc: 0.9717 - val_loss: 0.1132 - val_acc: 0.9757\n",
            "Epoch 2/10\n",
            "127656/127656 [==============================] - 67s 525us/step - loss: 0.1085 - acc: 0.9764 - val_loss: 0.0993 - val_acc: 0.9778\n",
            "Epoch 3/10\n",
            "127656/127656 [==============================] - 67s 522us/step - loss: 0.0798 - acc: 0.9774 - val_loss: 0.0817 - val_acc: 0.9784\n",
            "Epoch 4/10\n",
            "127656/127656 [==============================] - 67s 528us/step - loss: 0.0786 - acc: 0.9781 - val_loss: 0.0895 - val_acc: 0.9780\n",
            "Epoch 5/10\n",
            "127656/127656 [==============================] - 67s 523us/step - loss: 0.0777 - acc: 0.9761 - val_loss: 0.0758 - val_acc: 0.9780\n",
            "Epoch 6/10\n",
            "127656/127656 [==============================] - 67s 524us/step - loss: 0.0756 - acc: 0.9699 - val_loss: 0.0899 - val_acc: 0.9159\n",
            "Epoch 7/10\n",
            "127656/127656 [==============================] - 67s 525us/step - loss: 0.0779 - acc: 0.9511 - val_loss: 0.0817 - val_acc: 0.9467\n",
            "Epoch 8/10\n",
            "127656/127656 [==============================] - 67s 527us/step - loss: 0.0767 - acc: 0.9504 - val_loss: 0.0932 - val_acc: 0.9765\n",
            "Epoch 9/10\n",
            "127656/127656 [==============================] - 68s 534us/step - loss: 0.0807 - acc: 0.9465 - val_loss: 0.0836 - val_acc: 0.9038\n",
            "Epoch 10/10\n",
            "127656/127656 [==============================] - 67s 524us/step - loss: 0.0793 - acc: 0.9368 - val_loss: 0.0970 - val_acc: 0.9623\n"
          ],
          "name": "stdout"
        },
        {
          "output_type": "execute_result",
          "data": {
            "text/plain": [
              "<keras.callbacks.History at 0x7fca0f7a7438>"
            ]
          },
          "metadata": {
            "tags": []
          },
          "execution_count": 33
        }
      ]
    },
    {
      "metadata": {
        "id": "_pzv79KEtK_W",
        "colab_type": "code",
        "colab": {}
      },
      "cell_type": "code",
      "source": [
        "model4.save('model4.h5')"
      ],
      "execution_count": 0,
      "outputs": []
    },
    {
      "metadata": {
        "id": "OymjseOvNIim",
        "colab_type": "text"
      },
      "cell_type": "markdown",
      "source": [
        "##SimpleRNN+LSTM+GRU"
      ]
    },
    {
      "metadata": {
        "id": "ND0amSX5y8-P",
        "colab_type": "code",
        "outputId": "d4a932c6-9bce-4659-cbef-81a2b7b8fa60",
        "colab": {
          "base_uri": "https://localhost:8080/",
          "height": 523
        }
      },
      "cell_type": "code",
      "source": [
        "##building complex model\n",
        "\n",
        "from keras import Input, layers\n",
        "from keras.models import Model\n",
        "\n",
        "\n",
        "input_tensor=Input(shape=(100,), dtype='int32', name='input_text')\n",
        "embedded_text=layers.Embedding(num_words,10)(input_tensor)\n",
        "\n",
        "branch_a=layers.SimpleRNN(10)(embedded_text)\n",
        "branch_b=layers.LSTM(10)(embedded_text)\n",
        "branch_c=layers.GRU(10)(embedded_text)\n",
        "\n",
        "concat=layers.concatenate([branch_c, branch_b, branch_a], axis=-1)\n",
        "output=layers.Dense(6, activation='sigmoid')(concat)\n",
        "\n",
        "model5=Model(input_tensor, output)\n",
        "model5.compile(optimizer='rmsprop', loss='binary_crossentropy', metrics=['acc'])\n",
        "model5.summary()"
      ],
      "execution_count": 0,
      "outputs": [
        {
          "output_type": "stream",
          "text": [
            "WARNING:tensorflow:From /usr/local/lib/python3.6/dist-packages/tensorflow/python/framework/op_def_library.py:263: colocate_with (from tensorflow.python.framework.ops) is deprecated and will be removed in a future version.\n",
            "Instructions for updating:\n",
            "Colocations handled automatically by placer.\n",
            "__________________________________________________________________________________________________\n",
            "Layer (type)                    Output Shape         Param #     Connected to                     \n",
            "==================================================================================================\n",
            "input_text (InputLayer)         (None, 100)          0                                            \n",
            "__________________________________________________________________________________________________\n",
            "embedding_1 (Embedding)         (None, 100, 10)      100000      input_text[0][0]                 \n",
            "__________________________________________________________________________________________________\n",
            "gru_1 (GRU)                     (None, 10)           630         embedding_1[0][0]                \n",
            "__________________________________________________________________________________________________\n",
            "lstm_1 (LSTM)                   (None, 10)           840         embedding_1[0][0]                \n",
            "__________________________________________________________________________________________________\n",
            "simple_rnn_1 (SimpleRNN)        (None, 10)           210         embedding_1[0][0]                \n",
            "__________________________________________________________________________________________________\n",
            "concatenate_1 (Concatenate)     (None, 30)           0           gru_1[0][0]                      \n",
            "                                                                 lstm_1[0][0]                     \n",
            "                                                                 simple_rnn_1[0][0]               \n",
            "__________________________________________________________________________________________________\n",
            "dense_1 (Dense)                 (None, 6)            186         concatenate_1[0][0]              \n",
            "==================================================================================================\n",
            "Total params: 101,866\n",
            "Trainable params: 101,866\n",
            "Non-trainable params: 0\n",
            "__________________________________________________________________________________________________\n"
          ],
          "name": "stdout"
        }
      ]
    },
    {
      "metadata": {
        "id": "-8JX1aZKN4xf",
        "colab_type": "code",
        "outputId": "35e67738-bcc3-4639-f0ca-5cfa9a3b8162",
        "colab": {
          "base_uri": "https://localhost:8080/",
          "height": 241
        }
      },
      "cell_type": "code",
      "source": [
        "from keras.utils import plot_model\n",
        "plot_model(model5, show_shapes=True, to_file='model5.png')\n",
        "\n",
        "import matplotlib.pyplot as plt\n",
        "import matplotlib.image as mpimg\n",
        "\n",
        "img=mpimg.imread('model5.png')\n",
        "plt.imshow(img)\n",
        "plt.show()"
      ],
      "execution_count": 0,
      "outputs": [
        {
          "output_type": "display_data",
          "data": {
            "image/png": "[encoded data removed]",
            "text/plain": [
              "<Figure size 576x396 with 1 Axes>"
            ]
          },
          "metadata": {
            "tags": []
          }
        }
      ]
    },
    {
      "metadata": {
        "id": "tIXzaeINNkTZ",
        "colab_type": "code",
        "outputId": "512b9172-d7ae-4365-9fac-07497463650c",
        "colab": {
          "base_uri": "https://localhost:8080/",
          "height": 504
        }
      },
      "cell_type": "code",
      "source": [
        "model5.fit(x_train, y,\n",
        "\tepochs=10,\n",
        "\tbatch_size=128,\n",
        "\tvalidation_split=0.2)"
      ],
      "execution_count": 0,
      "outputs": [
        {
          "output_type": "stream",
          "text": [
            "WARNING:tensorflow:From /usr/local/lib/python3.6/dist-packages/tensorflow/python/ops/math_ops.py:3066: to_int32 (from tensorflow.python.ops.math_ops) is deprecated and will be removed in a future version.\n",
            "Instructions for updating:\n",
            "Use tf.cast instead.\n",
            "Train on 127656 samples, validate on 31915 samples\n",
            "Epoch 1/10\n",
            "127656/127656 [==============================] - 112s 875us/step - loss: 0.1052 - acc: 0.9661 - val_loss: 0.0608 - val_acc: 0.9787\n",
            "Epoch 2/10\n",
            "127656/127656 [==============================] - 109s 853us/step - loss: 0.0566 - acc: 0.9806 - val_loss: 0.0549 - val_acc: 0.9809\n",
            "Epoch 3/10\n",
            "127656/127656 [==============================] - 108s 848us/step - loss: 0.0513 - acc: 0.9818 - val_loss: 0.0523 - val_acc: 0.9816\n",
            "Epoch 4/10\n",
            "127656/127656 [==============================] - 109s 855us/step - loss: 0.0489 - acc: 0.9824 - val_loss: 0.0526 - val_acc: 0.9820\n",
            "Epoch 5/10\n",
            "127656/127656 [==============================] - 109s 854us/step - loss: 0.0477 - acc: 0.9827 - val_loss: 0.0509 - val_acc: 0.9822\n",
            "Epoch 6/10\n",
            "127656/127656 [==============================] - 109s 856us/step - loss: 0.0467 - acc: 0.9830 - val_loss: 0.0508 - val_acc: 0.9820\n",
            "Epoch 7/10\n",
            "127656/127656 [==============================] - 109s 857us/step - loss: 0.0459 - acc: 0.9831 - val_loss: 0.0502 - val_acc: 0.9821\n",
            "Epoch 8/10\n",
            "127656/127656 [==============================] - 109s 855us/step - loss: 0.0451 - acc: 0.9835 - val_loss: 0.0522 - val_acc: 0.9810\n",
            "Epoch 9/10\n",
            "127656/127656 [==============================] - 110s 858us/step - loss: 0.0444 - acc: 0.9836 - val_loss: 0.0517 - val_acc: 0.9812\n",
            "Epoch 10/10\n",
            "127656/127656 [==============================] - 109s 855us/step - loss: 0.0437 - acc: 0.9839 - val_loss: 0.0505 - val_acc: 0.9823\n"
          ],
          "name": "stdout"
        },
        {
          "output_type": "execute_result",
          "data": {
            "text/plain": [
              "<keras.callbacks.History at 0x7f5ea2d56860>"
            ]
          },
          "metadata": {
            "tags": []
          },
          "execution_count": 18
        }
      ]
    },
    {
      "metadata": {
        "id": "kmT2CLyAOsQE",
        "colab_type": "code",
        "colab": {}
      },
      "cell_type": "code",
      "source": [
        " model5.save('model5.h5')"
      ],
      "execution_count": 0,
      "outputs": []
    },
    {
      "metadata": {
        "id": "GqQi3UMjTGaQ",
        "colab_type": "code",
        "outputId": "641d9d32-dc66-452d-a266-ec93aac881a3",
        "colab": {
          "base_uri": "https://localhost:8080/",
          "height": 635
        }
      },
      "cell_type": "code",
      "source": [
        " from keras.callbacks import ModelCheckpoint, EarlyStopping, LearningRateScheduler, ReduceLROnPlateau, CSVLogger\n",
        "\n",
        "input_tensor=Input(shape=(100,), dtype='int32', name='input_text')\n",
        "embedded_text=layers.Embedding(num_words,10)(input_tensor)\n",
        "\n",
        "branch_a=layers.SimpleRNN(10)(embedded_text)\n",
        "branch_b=layers.LSTM(10)(embedded_text)\n",
        "branch_c=layers.GRU(10)(embedded_text)\n",
        "\n",
        "branch_d=layers.Flatten()(embedded_text)\n",
        "branch_d=layers.Dense(6,activation='relu')(branch_d)\n",
        "\n",
        "\n",
        "concat=layers.concatenate([branch_c, branch_b, branch_a], axis=-1)\n",
        "concat=layers.Dense(6, activation='relu')(concat)\n",
        "concat2=layers.concatenate([concat,branch_d], axis=-1)\n",
        "output=layers.Dense(6, activation='sigmoid')(concat2)\n",
        "\n",
        "\n",
        "model6=Model(input_tensor, output)\n",
        "model6.compile(optimizer='rmsprop', loss='binary_crossentropy', metrics=['acc'])\n",
        "\n",
        "\n",
        "\n",
        "model6.summary()\n",
        "\n",
        "\n"
      ],
      "execution_count": 0,
      "outputs": [
        {
          "output_type": "stream",
          "text": [
            "__________________________________________________________________________________________________\n",
            "Layer (type)                    Output Shape         Param #     Connected to                     \n",
            "==================================================================================================\n",
            "input_text (InputLayer)         (None, 100)          0                                            \n",
            "__________________________________________________________________________________________________\n",
            "embedding_3 (Embedding)         (None, 100, 10)      100000      input_text[0][0]                 \n",
            "__________________________________________________________________________________________________\n",
            "gru_3 (GRU)                     (None, 10)           630         embedding_3[0][0]                \n",
            "__________________________________________________________________________________________________\n",
            "lstm_3 (LSTM)                   (None, 10)           840         embedding_3[0][0]                \n",
            "__________________________________________________________________________________________________\n",
            "simple_rnn_3 (SimpleRNN)        (None, 10)           210         embedding_3[0][0]                \n",
            "__________________________________________________________________________________________________\n",
            "concatenate_4 (Concatenate)     (None, 30)           0           gru_3[0][0]                      \n",
            "                                                                 lstm_3[0][0]                     \n",
            "                                                                 simple_rnn_3[0][0]               \n",
            "__________________________________________________________________________________________________\n",
            "flatten_2 (Flatten)             (None, 1000)         0           embedding_3[0][0]                \n",
            "__________________________________________________________________________________________________\n",
            "dense_6 (Dense)                 (None, 6)            186         concatenate_4[0][0]              \n",
            "__________________________________________________________________________________________________\n",
            "dense_5 (Dense)                 (None, 6)            6006        flatten_2[0][0]                  \n",
            "__________________________________________________________________________________________________\n",
            "concatenate_5 (Concatenate)     (None, 12)           0           dense_6[0][0]                    \n",
            "                                                                 dense_5[0][0]                    \n",
            "__________________________________________________________________________________________________\n",
            "dense_7 (Dense)                 (None, 6)            78          concatenate_5[0][0]              \n",
            "==================================================================================================\n",
            "Total params: 107,950\n",
            "Trainable params: 107,950\n",
            "Non-trainable params: 0\n",
            "__________________________________________________________________________________________________\n"
          ],
          "name": "stdout"
        }
      ]
    },
    {
      "metadata": {
        "id": "2Px8ybAxXaU2",
        "colab_type": "code",
        "outputId": "e9ca163e-0e5e-4de1-9a6c-f44e4f71a654",
        "colab": {
          "base_uri": "https://localhost:8080/",
          "height": 287
        }
      },
      "cell_type": "code",
      "source": [
        "from keras.utils import plot_model\n",
        "plot_model(model6, show_shapes=True, to_file='model6.png')\n",
        "\n",
        "import matplotlib.pyplot as plt\n",
        "import matplotlib.image as mpimg\n",
        "\n",
        "img=mpimg.imread('model6.png')\n",
        "plt.imshow(img)\n",
        "plt.show()"
      ],
      "execution_count": 0,
      "outputs": [
        {
          "output_type": "display_data",
          "data": {
            "image/png": "[encoded data removed]",
            "text/plain": [
              "<Figure size 576x396 with 1 Axes>"
            ]
          },
          "metadata": {
            "tags": []
          }
        }
      ]
    },
    {
      "metadata": {
        "id": "mCyThtKMXPOX",
        "colab_type": "text"
      },
      "cell_type": "markdown",
      "source": [
        ""
      ]
    },
    {
      "metadata": {
        "id": "aFV6NK_XXGBr",
        "colab_type": "code",
        "outputId": "75bdae92-f28f-49c7-a90e-dea2de669bbc",
        "colab": {
          "base_uri": "https://localhost:8080/",
          "height": 821
        }
      },
      "cell_type": "code",
      "source": [
        "callbacks_list=[EarlyStopping(monitor='acc', patience=3,),\n",
        "                ModelCheckpoint(filepath='my_model.h5', \n",
        "                                monitor='val_loss', \n",
        "                                save_best_only=True,)]\n",
        "\n",
        "model6.fit(x_train, y,\n",
        "\tepochs=20,\n",
        "\tbatch_size=256,\n",
        "\tvalidation_split=0.2,\n",
        "\tcallbacks=callbacks_list)"
      ],
      "execution_count": 0,
      "outputs": [
        {
          "output_type": "stream",
          "text": [
            "Train on 127656 samples, validate on 31915 samples\n",
            "Epoch 1/20\n",
            "127656/127656 [==============================] - 72s 564us/step - loss: 0.1000 - acc: 0.9707 - val_loss: 0.0683 - val_acc: 0.9779\n",
            "Epoch 2/20\n",
            "127656/127656 [==============================] - 72s 567us/step - loss: 0.0610 - acc: 0.9793 - val_loss: 0.0605 - val_acc: 0.9797\n",
            "Epoch 3/20\n",
            "127656/127656 [==============================] - 72s 564us/step - loss: 0.0538 - acc: 0.9810 - val_loss: 0.0650 - val_acc: 0.9777\n",
            "Epoch 4/20\n",
            "127656/127656 [==============================] - 72s 565us/step - loss: 0.0502 - acc: 0.9819 - val_loss: 0.0530 - val_acc: 0.9814\n",
            "Epoch 5/20\n",
            "127656/127656 [==============================] - 72s 563us/step - loss: 0.0486 - acc: 0.9823 - val_loss: 0.0524 - val_acc: 0.9815\n",
            "Epoch 6/20\n",
            "127656/127656 [==============================] - 73s 570us/step - loss: 0.0475 - acc: 0.9826 - val_loss: 0.0522 - val_acc: 0.9816\n",
            "Epoch 7/20\n",
            "127656/127656 [==============================] - 72s 567us/step - loss: 0.0467 - acc: 0.9829 - val_loss: 0.0528 - val_acc: 0.9812\n",
            "Epoch 8/20\n",
            "127656/127656 [==============================] - 73s 569us/step - loss: 0.0459 - acc: 0.9831 - val_loss: 0.0519 - val_acc: 0.9814\n",
            "Epoch 9/20\n",
            "127656/127656 [==============================] - 72s 567us/step - loss: 0.0451 - acc: 0.9834 - val_loss: 0.0517 - val_acc: 0.9816\n",
            "Epoch 10/20\n",
            "127656/127656 [==============================] - 72s 567us/step - loss: 0.0445 - acc: 0.9836 - val_loss: 0.0520 - val_acc: 0.9818\n",
            "Epoch 11/20\n",
            "127656/127656 [==============================] - 71s 554us/step - loss: 0.0438 - acc: 0.9839 - val_loss: 0.0517 - val_acc: 0.9817\n",
            "Epoch 12/20\n",
            "127656/127656 [==============================] - 73s 568us/step - loss: 0.0428 - acc: 0.9841 - val_loss: 0.0522 - val_acc: 0.9813\n",
            "Epoch 13/20\n",
            "127656/127656 [==============================] - 73s 568us/step - loss: 0.0419 - acc: 0.9844 - val_loss: 0.0530 - val_acc: 0.9817\n",
            "Epoch 14/20\n",
            "127656/127656 [==============================] - 72s 561us/step - loss: 0.0413 - acc: 0.9847 - val_loss: 0.0525 - val_acc: 0.9812\n",
            "Epoch 15/20\n",
            "127656/127656 [==============================] - 72s 567us/step - loss: 0.0404 - acc: 0.9851 - val_loss: 0.0535 - val_acc: 0.9815\n",
            "Epoch 16/20\n",
            "127656/127656 [==============================] - 72s 565us/step - loss: 0.0397 - acc: 0.9854 - val_loss: 0.0577 - val_acc: 0.9809\n",
            "Epoch 17/20\n",
            "127656/127656 [==============================] - 72s 563us/step - loss: 0.0390 - acc: 0.9856 - val_loss: 0.0552 - val_acc: 0.9814\n",
            "Epoch 18/20\n",
            "127656/127656 [==============================] - 72s 562us/step - loss: 0.0382 - acc: 0.9858 - val_loss: 0.0584 - val_acc: 0.9813\n",
            "Epoch 19/20\n",
            "127656/127656 [==============================] - 72s 564us/step - loss: 0.0374 - acc: 0.9861 - val_loss: 0.0552 - val_acc: 0.9808\n",
            "Epoch 20/20\n",
            "127656/127656 [==============================] - 72s 566us/step - loss: 0.0369 - acc: 0.9863 - val_loss: 0.0558 - val_acc: 0.9805\n"
          ],
          "name": "stdout"
        },
        {
          "output_type": "execute_result",
          "data": {
            "text/plain": [
              "<keras.callbacks.History at 0x7f5e986d1630>"
            ]
          },
          "metadata": {
            "tags": []
          },
          "execution_count": 25
        }
      ]
    },
    {
      "metadata": {
        "id": "rBunqPf9d0vD",
        "colab_type": "code",
        "colab": {}
      },
      "cell_type": "code",
      "source": [
        "##Ensembling all models\n",
        "from keras.models import load_model\n",
        "model3=load_model('model3.h5')\n",
        "model4=load_model('model4.h5')\n",
        "model5=load_model('model5.h5')\n",
        "model6=load_model('my_model.h5')\n",
        "\n",
        "\n",
        "ensemble_pred=0.25*(model3.predict(x_train)+\n",
        "                   model4.predict(x_train)+\n",
        "                   model5.predict(x_train)+\n",
        "                   model6.predict(x_train))\n",
        "\n",
        "\n"
      ],
      "execution_count": 0,
      "outputs": []
    },
    {
      "metadata": {
        "id": "BR5IcUHuify3",
        "colab_type": "code",
        "outputId": "d3249ba7-d0e9-4b43-dcdd-859bdd914715",
        "colab": {
          "base_uri": "https://localhost:8080/",
          "height": 92
        }
      },
      "cell_type": "code",
      "source": [
        "for i in [model3,model4,model5,model6]:\n",
        "  pred=i.predict(x_train)\n",
        "  print('roc_auc:%0.3f'  %(roc_auc_score(y,pred)))"
      ],
      "execution_count": 0,
      "outputs": [
        {
          "output_type": "stream",
          "text": [
            "roc_auc:0.798\n",
            "roc_auc:0.889\n",
            "roc_auc:0.982\n",
            "roc_auc:0.980\n"
          ],
          "name": "stdout"
        }
      ]
    },
    {
      "metadata": {
        "id": "1pqN53XOX4sP",
        "colab_type": "code",
        "outputId": "a4c83aba-7e47-454f-e43a-bbd9277c3320",
        "colab": {
          "base_uri": "https://localhost:8080/",
          "height": 36
        }
      },
      "cell_type": "code",
      "source": [
        "roc_auc_score(y, ensemble_pred)"
      ],
      "execution_count": 0,
      "outputs": [
        {
          "output_type": "execute_result",
          "data": {
            "text/plain": [
              "0.9567722986527469"
            ]
          },
          "metadata": {
            "tags": []
          },
          "execution_count": 46
        }
      ]
    },
    {
      "metadata": {
        "id": "f_WI8rmoYXCj",
        "colab_type": "code",
        "colab": {}
      },
      "cell_type": "code",
      "source": [
        ""
      ],
      "execution_count": 0,
      "outputs": []
    },
    {
      "metadata": {
        "id": "n6y_lnnpeOmc",
        "colab_type": "code",
        "colab": {}
      },
      "cell_type": "code",
      "source": [
        ""
      ],
      "execution_count": 0,
      "outputs": []
    }
  ]
}