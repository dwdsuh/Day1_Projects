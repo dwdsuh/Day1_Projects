{
  "nbformat": 4,
  "nbformat_minor": 0,
  "metadata": {
    "colab": {
      "name": "Reuters.ipynb",
      "version": "0.3.2",
      "provenance": [],
      "toc_visible": true
    },
    "kernelspec": {
      "name": "python3",
      "display_name": "Python 3"
    },
    "accelerator": "GPU"
  },
  "cells": [
    {
      "metadata": {
        "id": "35qlyq4VE8oF",
        "colab_type": "text"
      },
      "cell_type": "markdown",
      "source": [
        "#Reuters dataset Classification"
      ]
    },
    {
      "metadata": {
        "id": "jzEZyw_iRg38",
        "colab_type": "text"
      },
      "cell_type": "markdown",
      "source": [
        "##Data Import and super brief summary"
      ]
    },
    {
      "metadata": {
        "id": "1JBSXZXuFL7e",
        "colab_type": "code",
        "colab": {
          "base_uri": "https://localhost:8080/",
          "height": 35
        },
        "outputId": "fed6c2be-8d21-40e7-c127-6bba2c62408d"
      },
      "cell_type": "code",
      "source": [
        "from keras.datasets import reuters\n",
        "\n",
        "from keras.layers import Embedding\n",
        "from keras import preprocessing"
      ],
      "execution_count": 1,
      "outputs": [
        {
          "output_type": "stream",
          "text": [
            "Using TensorFlow backend.\n"
          ],
          "name": "stderr"
        }
      ]
    },
    {
      "metadata": {
        "id": "MBkktWvTLmcq",
        "colab_type": "code",
        "colab": {}
      },
      "cell_type": "code",
      "source": [
        "(x_train, y_train), (x_test, y_test)= reuters.load_data(num_words=10000)"
      ],
      "execution_count": 0,
      "outputs": []
    },
    {
      "metadata": {
        "id": "JbZruf52Lo8t",
        "colab_type": "code",
        "outputId": "492c36c8-f84c-4f5c-dacd-f36e02d89ea8",
        "colab": {
          "base_uri": "https://localhost:8080/",
          "height": 743
        }
      },
      "cell_type": "code",
      "source": [
        "#check the shape and length of input data\n",
        "import numpy as np\n",
        "\n",
        "\n",
        "print('data shape:', x_train.shape)\n",
        "print('longest: %d words' %(max([len(i) for i in x_train])))\n",
        "print('shortest: %d words'%(min([len(i) for i in x_train])))\n",
        "print('average: %d words'%(np.mean([len(i) for i in x_train])))\n",
        "\n",
        "plt.hist([len(i) for i in x_train], bins=50)\n"
      ],
      "execution_count": 0,
      "outputs": [
        {
          "output_type": "stream",
          "text": [
            "data shape: (8982,)\n",
            "longest: 2376 words\n",
            "shortest: 13 words\n",
            "average: 145 words\n"
          ],
          "name": "stdout"
        },
        {
          "output_type": "execute_result",
          "data": {
            "text/plain": [
              "(array([2.292e+03, 2.917e+03, 1.098e+03, 8.240e+02, 4.880e+02, 3.410e+02,\n",
              "        2.480e+02, 1.640e+02, 1.160e+02, 1.180e+02, 7.600e+01, 5.900e+01,\n",
              "        6.400e+01, 4.300e+01, 4.700e+01, 2.800e+01, 2.500e+01, 1.500e+01,\n",
              "        1.000e+01, 1.000e+00, 2.000e+00, 2.000e+00, 1.000e+00, 0.000e+00,\n",
              "        0.000e+00, 0.000e+00, 0.000e+00, 1.000e+00, 0.000e+00, 0.000e+00,\n",
              "        0.000e+00, 0.000e+00, 0.000e+00, 0.000e+00, 0.000e+00, 0.000e+00,\n",
              "        0.000e+00, 0.000e+00, 0.000e+00, 0.000e+00, 0.000e+00, 0.000e+00,\n",
              "        0.000e+00, 0.000e+00, 0.000e+00, 0.000e+00, 0.000e+00, 1.000e+00,\n",
              "        0.000e+00, 1.000e+00]),\n",
              " array([  13.  ,   60.26,  107.52,  154.78,  202.04,  249.3 ,  296.56,\n",
              "         343.82,  391.08,  438.34,  485.6 ,  532.86,  580.12,  627.38,\n",
              "         674.64,  721.9 ,  769.16,  816.42,  863.68,  910.94,  958.2 ,\n",
              "        1005.46, 1052.72, 1099.98, 1147.24, 1194.5 , 1241.76, 1289.02,\n",
              "        1336.28, 1383.54, 1430.8 , 1478.06, 1525.32, 1572.58, 1619.84,\n",
              "        1667.1 , 1714.36, 1761.62, 1808.88, 1856.14, 1903.4 , 1950.66,\n",
              "        1997.92, 2045.18, 2092.44, 2139.7 , 2186.96, 2234.22, 2281.48,\n",
              "        2328.74, 2376.  ]),\n",
              " <a list of 50 Patch objects>)"
            ]
          },
          "metadata": {
            "tags": []
          },
          "execution_count": 95
        },
        {
          "output_type": "display_data",
          "data": {
            "image/png": "[encoded data removed]",
            "text/plain": [
              "<Figure size 576x396 with 1 Axes>"
            ]
          },
          "metadata": {
            "tags": []
          }
        }
      ]
    },
    {
      "metadata": {
        "id": "UhudoVMyFC2D",
        "colab_type": "text"
      },
      "cell_type": "markdown",
      "source": [
        "##MLP"
      ]
    },
    {
      "metadata": {
        "id": "0fP9C4ikEcpM",
        "colab_type": "code",
        "colab": {}
      },
      "cell_type": "code",
      "source": [
        "#data load\n",
        "\n",
        "max_features=20000\n",
        "maxlen=16\n",
        "\n",
        "(x_train, y_train), (x_test, y_test)= reuters.load_data(num_words=max_features)\n",
        "\n",
        "x_train=preprocessing.sequence.pad_sequences(x_train, maxlen=maxlen)\n",
        "x_test=preprocessing.sequence.pad_sequences(x_test, maxlen=maxlen)\n",
        "\n",
        "from keras.utils import to_categorical\n",
        "\n",
        "y_train = to_categorical(y_train)\n",
        "y_test = to_categorical(y_test)"
      ],
      "execution_count": 0,
      "outputs": []
    },
    {
      "metadata": {
        "id": "YPUD5xZ2FB7F",
        "colab_type": "code",
        "outputId": "1303d5fc-6bd1-4c75-979e-07121564f1e8",
        "colab": {
          "base_uri": "https://localhost:8080/",
          "height": 367
        }
      },
      "cell_type": "code",
      "source": [
        "from keras.models import Sequential\n",
        "from keras.layers import Flatten, Dense, Embedding\n",
        "\n",
        "model=Sequential()\n",
        "#contructing a model\n",
        "model.add(Embedding(10000, 8, input_length=maxlen))\n",
        "model.add(Flatten())\n",
        "#model.add(Dense(50, activation='relu'))\n",
        "model.add(Dense(64, activation='relu'))\n",
        "#add classifier\n",
        "model.add(Dense(46, activation='softmax'))\n",
        "model.compile(optimizer='rmsprop', loss='categorical_crossentropy', metrics=['acc'])\n",
        "model.summary()\n"
      ],
      "execution_count": 12,
      "outputs": [
        {
          "output_type": "stream",
          "text": [
            "WARNING:tensorflow:From /usr/local/lib/python3.6/dist-packages/tensorflow/python/framework/op_def_library.py:263: colocate_with (from tensorflow.python.framework.ops) is deprecated and will be removed in a future version.\n",
            "Instructions for updating:\n",
            "Colocations handled automatically by placer.\n",
            "_________________________________________________________________\n",
            "Layer (type)                 Output Shape              Param #   \n",
            "=================================================================\n",
            "embedding_1 (Embedding)      (None, 16, 8)             80000     \n",
            "_________________________________________________________________\n",
            "flatten_1 (Flatten)          (None, 128)               0         \n",
            "_________________________________________________________________\n",
            "dense_1 (Dense)              (None, 64)                8256      \n",
            "_________________________________________________________________\n",
            "dense_2 (Dense)              (None, 46)                2990      \n",
            "=================================================================\n",
            "Total params: 91,246\n",
            "Trainable params: 91,246\n",
            "Non-trainable params: 0\n",
            "_________________________________________________________________\n"
          ],
          "name": "stdout"
        }
      ]
    },
    {
      "metadata": {
        "id": "TKFqFk6YIW6H",
        "colab_type": "code",
        "outputId": "b008d79e-4ed5-4e4d-9415-502e2a0dc53b",
        "colab": {
          "base_uri": "https://localhost:8080/",
          "height": 406
        }
      },
      "cell_type": "code",
      "source": [
        "mlp_model=model.fit(x_train, y_train,\n",
        "                    epochs=10,\n",
        "                    batch_size=32,\n",
        "                    validation_split=0.2)"
      ],
      "execution_count": 0,
      "outputs": [
        {
          "output_type": "stream",
          "text": [
            "Train on 7185 samples, validate on 1797 samples\n",
            "Epoch 1/10\n",
            "7185/7185 [==============================] - 2s 239us/step - loss: 2.5698 - acc: 0.3294 - val_loss: 2.0917 - val_acc: 0.4296\n",
            "Epoch 2/10\n",
            "7185/7185 [==============================] - 1s 150us/step - loss: 1.9601 - acc: 0.4725 - val_loss: 1.9500 - val_acc: 0.4674\n",
            "Epoch 3/10\n",
            "7185/7185 [==============================] - 1s 150us/step - loss: 1.8153 - acc: 0.5109 - val_loss: 1.8852 - val_acc: 0.5036\n",
            "Epoch 4/10\n",
            "7185/7185 [==============================] - 1s 151us/step - loss: 1.7158 - acc: 0.5429 - val_loss: 1.8539 - val_acc: 0.5109\n",
            "Epoch 5/10\n",
            "7185/7185 [==============================] - 1s 153us/step - loss: 1.6277 - acc: 0.5723 - val_loss: 1.8500 - val_acc: 0.5248\n",
            "Epoch 6/10\n",
            "7185/7185 [==============================] - 1s 150us/step - loss: 1.5415 - acc: 0.6021 - val_loss: 1.8220 - val_acc: 0.5364\n",
            "Epoch 7/10\n",
            "7185/7185 [==============================] - 1s 151us/step - loss: 1.4549 - acc: 0.6271 - val_loss: 1.8139 - val_acc: 0.5370\n",
            "Epoch 8/10\n",
            "7185/7185 [==============================] - 1s 150us/step - loss: 1.3694 - acc: 0.6498 - val_loss: 1.8278 - val_acc: 0.5348\n",
            "Epoch 9/10\n",
            "7185/7185 [==============================] - 1s 149us/step - loss: 1.2876 - acc: 0.6706 - val_loss: 1.8626 - val_acc: 0.5326\n",
            "Epoch 10/10\n",
            "7185/7185 [==============================] - 1s 150us/step - loss: 1.2100 - acc: 0.6881 - val_loss: 1.8795 - val_acc: 0.5348\n"
          ],
          "name": "stdout"
        }
      ]
    },
    {
      "metadata": {
        "id": "vzIXhUHF0goR",
        "colab_type": "code",
        "outputId": "5455e8c1-e122-48f6-b6e9-56c764bcc98e",
        "colab": {
          "base_uri": "https://localhost:8080/",
          "height": 706
        }
      },
      "cell_type": "code",
      "source": [
        "import matplotlib.pyplot as plt\n",
        "\n",
        "acc = mlp_model.history['acc']\n",
        "val_acc =mlp_model.history['val_acc']\n",
        "loss = mlp_model.history['loss']\n",
        "val_loss = mlp_model.history['val_loss']\n",
        "\n",
        "epochs = range(len(acc))\n",
        "\n",
        "plt.plot(epochs,acc,'bo',label='Training accuracy')\n",
        "plt.plot(epochs,val_acc,'r',label = \"valudation accuracy\")\n",
        "plt.title('Training and Validation Accuracy')\n",
        "plt.legend()\n",
        "\n",
        "plt.figure()\n",
        "\n",
        "plt.plot(epochs, loss, 'bo', label='Training loss')\n",
        "plt.plot(epochs, val_loss, 'r', label='Validation loss')\n",
        "plt.title('Training and validation loss')\n",
        "plt.legend()\n",
        "\n",
        "plt.show() "
      ],
      "execution_count": 0,
      "outputs": [
        {
          "output_type": "display_data",
          "data": {
            "image/png": "[encoded data removed]",
            "text/plain": [
              "<Figure size 576x396 with 1 Axes>"
            ]
          },
          "metadata": {
            "tags": []
          }
        },
        {
          "output_type": "display_data",
          "data": {
            "image/png": "[encoded data removed]",
            "text/plain": [
              "<Figure size 576x396 with 1 Axes>"
            ]
          },
          "metadata": {
            "tags": []
          }
        }
      ]
    },
    {
      "metadata": {
        "id": "xuQizqUB0N0T",
        "colab_type": "text"
      },
      "cell_type": "markdown",
      "source": [
        "the performance of pad_sequencec preprocessing is worse than expected, so I tried one-hot vectorization"
      ]
    },
    {
      "metadata": {
        "id": "5pJBratMz9df",
        "colab_type": "code",
        "colab": {}
      },
      "cell_type": "code",
      "source": [
        "#one-hot data preprocessing\n",
        "\n",
        "max_features=10000\n",
        "#maxlen=16\n",
        "\n",
        "(x_train, y_train), (x_test, y_test)= reuters.load_data(num_words=max_features)\n",
        "\n",
        "import numpy as np\n",
        "\n",
        "def vectorize(seqs, dim=10000):\n",
        "  results=np.zeros((len(seqs), dim))\n",
        "  for i, seq in enumerate(seqs):\n",
        "    results[i, seq]=1\n",
        "  return(results)\n",
        "\n",
        "input_train=vectorize(x_train)\n",
        "input_test=vectorize(x_test)\n",
        "\n",
        "\n",
        "from keras.utils import to_categorical\n",
        "\n",
        "y_train = to_categorical(y_train)\n",
        "y_test = to_categorical(y_test)"
      ],
      "execution_count": 0,
      "outputs": []
    },
    {
      "metadata": {
        "id": "jXrPs96eyhi-",
        "colab_type": "code",
        "outputId": "3224d5e4-db25-4854-efc6-3c9434b9b1b6",
        "colab": {
          "base_uri": "https://localhost:8080/",
          "height": 670
        }
      },
      "cell_type": "code",
      "source": [
        "from keras.models import Sequential\n",
        "from keras.layers import Flatten, Dense, Embedding\n",
        "\n",
        "model=Sequential()\n",
        "#contructing a model\n",
        "model.add(Dense(64, activation='relu', input_shape=(10000,)))\n",
        "model.add(Dense(128, activation='relu'))\n",
        "model.add(Dense(64, activation='relu'))\n",
        "\n",
        "#add classifier\n",
        "model.add(Dense(46, activation='softmax'))\n",
        "model.compile(optimizer='rmsprop', loss='categorical_crossentropy', metrics=['acc'])\n",
        "model.summary()\n",
        "\n",
        "\n",
        "\n",
        "mlp_model2=model.fit(input_train, y_train,\n",
        "                    epochs=10,\n",
        "                    batch_size=32,\n",
        "                    validation_split=0.2)\n",
        "\n"
      ],
      "execution_count": 0,
      "outputs": [
        {
          "output_type": "stream",
          "text": [
            "_________________________________________________________________\n",
            "Layer (type)                 Output Shape              Param #   \n",
            "=================================================================\n",
            "dense_40 (Dense)             (None, 64)                640064    \n",
            "_________________________________________________________________\n",
            "dense_41 (Dense)             (None, 128)               8320      \n",
            "_________________________________________________________________\n",
            "dense_42 (Dense)             (None, 64)                8256      \n",
            "_________________________________________________________________\n",
            "dense_43 (Dense)             (None, 46)                2990      \n",
            "=================================================================\n",
            "Total params: 659,630\n",
            "Trainable params: 659,630\n",
            "Non-trainable params: 0\n",
            "_________________________________________________________________\n",
            "Train on 7185 samples, validate on 1797 samples\n",
            "Epoch 1/10\n",
            "7185/7185 [==============================] - 3s 366us/step - loss: 1.4561 - acc: 0.6699 - val_loss: 1.0978 - val_acc: 0.7635\n",
            "Epoch 2/10\n",
            "7185/7185 [==============================] - 2s 239us/step - loss: 0.8062 - acc: 0.8109 - val_loss: 0.9677 - val_acc: 0.7969\n",
            "Epoch 3/10\n",
            "7185/7185 [==============================] - 2s 241us/step - loss: 0.5204 - acc: 0.8827 - val_loss: 1.0280 - val_acc: 0.7885\n",
            "Epoch 4/10\n",
            "7185/7185 [==============================] - 2s 238us/step - loss: 0.3589 - acc: 0.9203 - val_loss: 1.1329 - val_acc: 0.7835\n",
            "Epoch 5/10\n",
            "7185/7185 [==============================] - 2s 239us/step - loss: 0.2681 - acc: 0.9381 - val_loss: 1.1145 - val_acc: 0.7935\n",
            "Epoch 6/10\n",
            "7185/7185 [==============================] - 2s 241us/step - loss: 0.2126 - acc: 0.9503 - val_loss: 1.3630 - val_acc: 0.7696\n",
            "Epoch 7/10\n",
            "7185/7185 [==============================] - 2s 239us/step - loss: 0.1841 - acc: 0.9555 - val_loss: 1.3755 - val_acc: 0.7891\n",
            "Epoch 8/10\n",
            "7185/7185 [==============================] - 2s 241us/step - loss: 0.1678 - acc: 0.9570 - val_loss: 1.3493 - val_acc: 0.7791\n",
            "Epoch 9/10\n",
            "7185/7185 [==============================] - 2s 241us/step - loss: 0.1460 - acc: 0.9602 - val_loss: 1.4113 - val_acc: 0.7846\n",
            "Epoch 10/10\n",
            "7185/7185 [==============================] - 2s 240us/step - loss: 0.1394 - acc: 0.9609 - val_loss: 1.4745 - val_acc: 0.7785\n"
          ],
          "name": "stdout"
        }
      ]
    },
    {
      "metadata": {
        "id": "9htq6DvXIson",
        "colab_type": "code",
        "outputId": "9b79bd90-4b1f-4c50-f502-020e5aba5ee2",
        "colab": {
          "base_uri": "https://localhost:8080/",
          "height": 706
        }
      },
      "cell_type": "code",
      "source": [
        "import matplotlib.pyplot as plt\n",
        "\n",
        "acc = mlp_model2.history['acc']\n",
        "val_acc =mlp_model2.history['val_acc']\n",
        "loss = mlp_model2.history['loss']\n",
        "val_loss = mlp_model2.history['val_loss']\n",
        "\n",
        "epochs = range(len(acc))\n",
        "\n",
        "plt.plot(epochs,acc,'bo',label='Training accuracy')\n",
        "plt.plot(epochs,val_acc,'r',label = \"valudation accuracy\")\n",
        "plt.title('Training and Validation Accuracy')\n",
        "plt.legend()\n",
        "\n",
        "plt.figure()\n",
        "\n",
        "plt.plot(epochs, loss, 'bo', label='Training loss')\n",
        "plt.plot(epochs, val_loss, 'r', label='Validation loss')\n",
        "plt.title('Training and validation loss')\n",
        "plt.legend()\n",
        "\n",
        "plt.show() "
      ],
      "execution_count": 0,
      "outputs": [
        {
          "output_type": "display_data",
          "data": {
            "image/png": "[encoded data removed]",
            "text/plain": [
              "<Figure size 576x396 with 1 Axes>"
            ]
          },
          "metadata": {
            "tags": []
          }
        },
        {
          "output_type": "display_data",
          "data": {
            "image/png": "[encoded data removed]",
            "text/plain": [
              "<Figure size 576x396 with 1 Axes>"
            ]
          },
          "metadata": {
            "tags": []
          }
        }
      ]
    },
    {
      "metadata": {
        "id": "8b1sMqbbK_up",
        "colab_type": "text"
      },
      "cell_type": "markdown",
      "source": [
        "##Simple RNN"
      ]
    },
    {
      "metadata": {
        "id": "UJGSbuAzJ0Wx",
        "colab_type": "code",
        "outputId": "8f6953b7-afb6-4b37-a743-afe1c59cbbf1",
        "colab": {
          "base_uri": "https://localhost:8080/",
          "height": 53
        }
      },
      "cell_type": "code",
      "source": [
        "from keras.preprocessing import sequence\n",
        "\n",
        "max_features=10000\n",
        "max_len=500\n",
        "#considering average length of input data, max_len=200 is sufficient for the given dataset.\n",
        "batch_size=32\n",
        "\n",
        "(x_train, y_train), (x_test, y_test) = reuters.load_data(num_words=max_features)#, skip_top=5)\n",
        "\n",
        "#preprocessing x\n",
        "input_train = sequence.pad_sequences(x_train, maxlen=max_len, truncating='post')\n",
        "input_test = sequence.pad_sequences(x_test, maxlen=max_len, truncating='post')\n",
        "\n",
        "#preprocessing y\n",
        "from keras.utils import to_categorical\n",
        "\n",
        "y_train = to_categorical(y_train, 46)\n",
        "y_test = to_categorical(y_test, 46)\n",
        "\n",
        "\n",
        "print(\"input shape:\", input_train.shape)\n",
        "print('output shape', y_train.shape)"
      ],
      "execution_count": 5,
      "outputs": [
        {
          "output_type": "stream",
          "text": [
            "input shape: (8982, 500)\n",
            "output shape (8982, 46)\n"
          ],
          "name": "stdout"
        }
      ]
    },
    {
      "metadata": {
        "id": "aH2zq4h1Layj",
        "colab_type": "code",
        "outputId": "3f1010f9-8467-4100-eaba-9b5376fef5f2",
        "colab": {
          "base_uri": "https://localhost:8080/",
          "height": 860
        }
      },
      "cell_type": "code",
      "source": [
        "input_train[0]"
      ],
      "execution_count": 0,
      "outputs": [
        {
          "output_type": "execute_result",
          "data": {
            "text/plain": [
              "array([   0,    0,    0,    0,    0,    0,    0,    0,    0,    0,    0,\n",
              "          0,    0,    0,    0,    0,    0,    0,    0,    0,    0,    0,\n",
              "          0,    0,    0,    0,    0,    0,    0,    0,    0,    0,    0,\n",
              "          0,    0,    0,    0,    0,    0,    0,    0,    0,    0,    0,\n",
              "          0,    0,    0,    0,    0,    0,    0,    0,    0,    0,    0,\n",
              "          0,    0,    0,    0,    0,    0,    0,    0,    0,    0,    0,\n",
              "          0,    0,    0,    0,    0,    0,    0,    0,    0,    0,    0,\n",
              "          0,    0,    0,    0,    0,    0,    0,    0,    0,    0,    0,\n",
              "          0,    0,    0,    0,    0,    0,    0,    0,    0,    0,    0,\n",
              "          0,    0,    0,    0,    0,    0,    0,    0,    0,    0,    0,\n",
              "          0,    0,    0,    0,    0,    0,    0,    0,    0,    0,    0,\n",
              "          0,    0,    0,    0,    0,    0,    0,    0,    0,    0,    0,\n",
              "          0,    0,    0,    0,    0,    0,    0,    0,    0,    0,    0,\n",
              "          0,    0,    0,    0,    0,    0,    0,    0,    0,    0,    0,\n",
              "          0,    0,    0,    0,    0,    0,    0,    0,    0,    0,    0,\n",
              "          0,    0,    0,    0,    0,    0,    0,    0,    0,    0,    0,\n",
              "          0,    0,    0,    0,    0,    0,    0,    0,    0,    0,    0,\n",
              "          0,    0,    0,    0,    0,    0,    0,    0,    0,    0,    0,\n",
              "          0,    0,    0,    0,    0,    0,    0,    0,    0,    0,    0,\n",
              "          0,    0,    0,    0,    0,    0,    0,    0,    0,    0,    0,\n",
              "          0,    0,    0,    0,    0,    0,    0,    0,    0,    0,    0,\n",
              "          0,    0,    0,    0,    0,    0,    0,    0,    0,    0,    0,\n",
              "          0,    0,    0,    0,    0,    0,    0,    0,    0,    0,    0,\n",
              "          0,    0,    0,    0,    0,    0,    0,    0,    0,    0,    0,\n",
              "          0,    0,    0,    0,    0,    0,    0,    0,    0,    0,    0,\n",
              "          0,    0,    0,    0,    0,    0,    0,    0,    0,    0,    0,\n",
              "          0,    0,    0,    0,    0,    0,    0,    0,    0,    0,    0,\n",
              "          0,    0,    0,    0,    0,    0,    0,    0,    0,    0,    0,\n",
              "          0,    0,    0,    0,    0,    0,    0,    0,    0,    0,    0,\n",
              "          0,    0,    0,    0,    0,    0,    0,    0,    0,    0,    0,\n",
              "          0,    0,    0,    0,    0,    0,    0,    0,    0,    0,    0,\n",
              "          0,    0,    0,    0,    0,    0,    0,    0,    0,    0,    0,\n",
              "          0,    0,    0,    0,    0,    0,    0,    0,    0,    0,    0,\n",
              "          0,    0,    0,    0,    0,    0,    0,    0,    0,    0,    0,\n",
              "          0,    0,    0,    0,    0,    0,    0,    0,    0,    0,    0,\n",
              "          0,    0,    0,    0,    0,    0,    0,    0,    0,    0,    0,\n",
              "          0,    0,    0,    0,    0,    0,    0,    0,    0,    0,    0,\n",
              "          0,    0,    0,    0,    0,    0,    1,    2,    2,    8,   43,\n",
              "         10,  447,    5,   25,  207,  270,    5, 3095,  111,   16,  369,\n",
              "        186,   90,   67,    7,   89,    5,   19,  102,    6,   19,  124,\n",
              "         15,   90,   67,   84,   22,  482,   26,    7,   48,    4,   49,\n",
              "          8,  864,   39,  209,  154,    6,  151,    6,   83,   11,   15,\n",
              "         22,  155,   11,   15,    7,   48,    9, 4579, 1005,  504,    6,\n",
              "        258,    6,  272,   11,   15,   22,  134,   44,   11,   15,   16,\n",
              "          8,  197, 1245,   90,   67,   52,   29,  209,   30,   32,  132,\n",
              "          6,  109,   15,   17,   12], dtype=int32)"
            ]
          },
          "metadata": {
            "tags": []
          },
          "execution_count": 4
        }
      ]
    },
    {
      "metadata": {
        "id": "dpJ-Y9EFPa9L",
        "colab_type": "code",
        "outputId": "e8ded16b-9a31-44f8-b04d-c7b1c2abc5dd",
        "colab": {
          "base_uri": "https://localhost:8080/",
          "height": 770
        }
      },
      "cell_type": "code",
      "source": [
        "from keras.layers import Dense, SimpleRNN, Embedding\n",
        "from keras.models import Sequential\n",
        "\n",
        "model=Sequential()\n",
        "model.add(Embedding(max_features, 500))\n",
        "model.add(SimpleRNN(128))\n",
        "#model.add(SimpleRNN(64))\n",
        "#model.add(Dense(20, activation='sigmoid'))\n",
        "model.add(Dense(46, activation='sigmoid'))\n",
        "\n",
        "model.summary()\n",
        "\n",
        "model.compile(optimizer='rmsprop', \n",
        "             loss='categorical_crossentropy',\n",
        "              metrics=['acc']) \n",
        "\n",
        "sRNN_model=model.fit(input_train, y_train,\n",
        "                    epochs=10,\n",
        "                    batch_size=128,\n",
        "                    validation_split=0.2)"
      ],
      "execution_count": 0,
      "outputs": [
        {
          "output_type": "stream",
          "text": [
            "WARNING:tensorflow:From /usr/local/lib/python3.6/dist-packages/tensorflow/python/framework/op_def_library.py:263: colocate_with (from tensorflow.python.framework.ops) is deprecated and will be removed in a future version.\n",
            "Instructions for updating:\n",
            "Colocations handled automatically by placer.\n",
            "_________________________________________________________________\n",
            "Layer (type)                 Output Shape              Param #   \n",
            "=================================================================\n",
            "embedding_1 (Embedding)      (None, None, 500)         5000000   \n",
            "_________________________________________________________________\n",
            "simple_rnn_1 (SimpleRNN)     (None, 128)               80512     \n",
            "_________________________________________________________________\n",
            "dense_1 (Dense)              (None, 46)                5934      \n",
            "=================================================================\n",
            "Total params: 5,086,446\n",
            "Trainable params: 5,086,446\n",
            "Non-trainable params: 0\n",
            "_________________________________________________________________\n",
            "WARNING:tensorflow:From /usr/local/lib/python3.6/dist-packages/tensorflow/python/ops/math_ops.py:3066: to_int32 (from tensorflow.python.ops.math_ops) is deprecated and will be removed in a future version.\n",
            "Instructions for updating:\n",
            "Use tf.cast instead.\n",
            "Train on 7185 samples, validate on 1797 samples\n",
            "Epoch 1/10\n",
            "7185/7185 [==============================] - 20s 3ms/step - loss: 3.0434 - acc: 0.3425 - val_loss: 2.4593 - val_acc: 0.3456\n",
            "Epoch 2/10\n",
            "7185/7185 [==============================] - 17s 2ms/step - loss: 2.3949 - acc: 0.3549 - val_loss: 2.2995 - val_acc: 0.3478\n",
            "Epoch 3/10\n",
            "7185/7185 [==============================] - 16s 2ms/step - loss: 2.0600 - acc: 0.3688 - val_loss: 2.0931 - val_acc: 0.3500\n",
            "Epoch 4/10\n",
            "7185/7185 [==============================] - 16s 2ms/step - loss: 1.6447 - acc: 0.4945 - val_loss: 2.0380 - val_acc: 0.4652\n",
            "Epoch 5/10\n",
            "7185/7185 [==============================] - 16s 2ms/step - loss: 1.2031 - acc: 0.7120 - val_loss: 1.8618 - val_acc: 0.5114\n",
            "Epoch 6/10\n",
            "7185/7185 [==============================] - 16s 2ms/step - loss: 0.8382 - acc: 0.8241 - val_loss: 2.1041 - val_acc: 0.4752\n",
            "Epoch 7/10\n",
            "7185/7185 [==============================] - 16s 2ms/step - loss: 0.5897 - acc: 0.8902 - val_loss: 2.1079 - val_acc: 0.4775\n",
            "Epoch 8/10\n",
            "7185/7185 [==============================] - 16s 2ms/step - loss: 0.4308 - acc: 0.9221 - val_loss: 2.1885 - val_acc: 0.4819\n",
            "Epoch 9/10\n",
            "7185/7185 [==============================] - 16s 2ms/step - loss: 0.3336 - acc: 0.9407 - val_loss: 2.2589 - val_acc: 0.4775\n",
            "Epoch 10/10\n",
            "7185/7185 [==============================] - 17s 2ms/step - loss: 0.2505 - acc: 0.9535 - val_loss: 2.3357 - val_acc: 0.4886\n"
          ],
          "name": "stdout"
        }
      ]
    },
    {
      "metadata": {
        "id": "fd9AL3BwT9nY",
        "colab_type": "code",
        "colab": {}
      },
      "cell_type": "code",
      "source": [
        "sRNN_pred=model.predict(input_test)"
      ],
      "execution_count": 0,
      "outputs": []
    },
    {
      "metadata": {
        "id": "lKUef_ZUTe5d",
        "colab_type": "code",
        "outputId": "7f5872fe-abde-4c2d-ca5d-559dc9ba9d2f",
        "colab": {
          "base_uri": "https://localhost:8080/",
          "height": 237
        }
      },
      "cell_type": "code",
      "source": [
        "sRNN_pred[0]"
      ],
      "execution_count": 0,
      "outputs": [
        {
          "output_type": "execute_result",
          "data": {
            "text/plain": [
              "array([6.0200691e-06, 3.6507845e-05, 3.0636787e-05, 7.3961616e-03,\n",
              "       5.6885183e-03, 7.1823597e-06, 3.2335520e-05, 3.6090612e-05,\n",
              "       2.2619963e-05, 6.3210726e-05, 7.0482492e-05, 7.3909760e-06,\n",
              "       4.6044588e-05, 1.6033649e-05, 1.6093254e-05, 1.3887882e-05,\n",
              "       5.8174133e-05, 2.5868416e-05, 2.0492077e-04, 2.5546551e-04,\n",
              "       3.8117170e-05, 8.1121922e-05, 6.5594912e-05, 1.0755658e-04,\n",
              "       3.6358833e-06, 5.3822994e-05, 5.3882599e-05, 1.4245510e-05,\n",
              "       3.7819147e-05, 3.7759542e-05, 1.1000037e-04, 2.2378564e-04,\n",
              "       4.9591064e-05, 3.5166740e-06, 9.2804432e-05, 2.0533800e-05,\n",
              "       2.3844838e-04, 1.9669533e-05, 3.0100346e-05, 2.9054284e-04,\n",
              "       7.2509050e-05, 2.8401613e-05, 2.2649765e-06, 5.2392483e-05,\n",
              "       2.3066998e-05, 4.0709972e-05], dtype=float32)"
            ]
          },
          "metadata": {
            "tags": []
          },
          "execution_count": 7
        }
      ]
    },
    {
      "metadata": {
        "id": "wWNlhbnDPzAH",
        "colab_type": "code",
        "outputId": "ba7b8415-0b0e-44ee-dffe-f140e3dd6c5c",
        "colab": {
          "base_uri": "https://localhost:8080/",
          "height": 707
        }
      },
      "cell_type": "code",
      "source": [
        "import matplotlib.pyplot as plt\n",
        "\n",
        "acc = sRNN_model.history['acc']\n",
        "val_acc = sRNN_model.history['val_acc']\n",
        "loss =  sRNN_model.history['loss']\n",
        "val_loss =  sRNN_model.history['val_loss']\n",
        "\n",
        "epochs = range(len(acc))\n",
        "\n",
        "plt.plot(epochs,acc,'bo',label='Training accuracy')\n",
        "plt.plot(epochs,val_acc,'r',label = \"valudation accuracy\")\n",
        "plt.title('Training and Validation Accuracy')\n",
        "plt.legend()\n",
        "\n",
        "plt.figure()\n",
        "\n",
        "plt.plot(epochs, loss, 'bo', label='Training loss')\n",
        "plt.plot(epochs, val_loss, 'r', label='Validation loss')\n",
        "plt.title('Training and validation loss')\n",
        "plt.legend()\n",
        "\n",
        "plt.show()"
      ],
      "execution_count": 0,
      "outputs": [
        {
          "output_type": "display_data",
          "data": {
            "image/png": "[encoded data removed]",
            "text/plain": [
              "<Figure size 576x396 with 1 Axes>"
            ]
          },
          "metadata": {
            "tags": []
          }
        },
        {
          "output_type": "display_data",
          "data": {
            "image/png": "[encoded data removed]",
            "text/plain": [
              "<Figure size 576x396 with 1 Axes>"
            ]
          },
          "metadata": {
            "tags": []
          }
        }
      ]
    },
    {
      "metadata": {
        "id": "e0SjVpleRbmz",
        "colab_type": "text"
      },
      "cell_type": "markdown",
      "source": [
        "## LSTM"
      ]
    },
    {
      "metadata": {
        "id": "_atd85wHRG7g",
        "colab_type": "code",
        "outputId": "2609d6d5-a105-4c06-bb00-e45307a7e482",
        "colab": {
          "base_uri": "https://localhost:8080/",
          "height": 53
        }
      },
      "cell_type": "code",
      "source": [
        "from keras.preprocessing import sequence\n",
        "\n",
        "max_features=10000\n",
        "max_len=500\n",
        "#considering average length of input data, max_len=500 is sufficient for the given dataset.\n",
        "batch_size=32\n",
        "\n",
        "(x_train, y_train), (x_test, y_test) = reuters.load_data(num_words=max_features)\n",
        "\n",
        "#preprocessing x\n",
        "input_train = sequence.pad_sequences(x_train, maxlen=max_len)\n",
        "input_test = sequence.pad_sequences(x_test, maxlen=max_len)\n",
        "\n",
        "#preprocessing y\n",
        "from keras.utils import to_categorical\n",
        "\n",
        "y_train = to_categorical(y_train)\n",
        "y_test = to_categorical(y_test)\n",
        "\n",
        "\n",
        "print(\"input shape:\", input_train.shape)\n",
        "print('output shape', y_train.shape)"
      ],
      "execution_count": 6,
      "outputs": [
        {
          "output_type": "stream",
          "text": [
            "input shape: (8982, 500)\n",
            "output shape (8982, 46)\n"
          ],
          "name": "stdout"
        }
      ]
    },
    {
      "metadata": {
        "id": "uc2aV8aYRx_i",
        "colab_type": "code",
        "colab": {}
      },
      "cell_type": "code",
      "source": [
        "#adding pad, start, unknown to the index dictionary of reuters\n",
        "\n",
        "word_idx = reuters.get_word_index()\n",
        "\n",
        "INDEX_FROM=3 \n",
        "word_to_id = word_idx\n",
        "word_to_id = {k:(v+INDEX_FROM) for k,v in word_to_id.items()}\n",
        "word_to_id[\"<PAD>\"] = 0\n",
        "word_to_id[\"<START>\"] = 1\n",
        "word_to_id[\"<UNK>\"] = 2\n",
        "\n",
        "id_to_word = {value:key for key,value in word_to_id.items()}"
      ],
      "execution_count": 0,
      "outputs": []
    },
    {
      "metadata": {
        "id": "HAZEQD0qRx-J",
        "colab_type": "code",
        "outputId": "4b58b004-3f26-43d1-ef8a-25a022a4f574",
        "colab": {
          "base_uri": "https://localhost:8080/",
          "height": 477
        }
      },
      "cell_type": "code",
      "source": [
        "from keras.layers import Dense, LSTM\n",
        "\n",
        "model=Sequential()\n",
        "model.add(Embedding(max_features, 500))\n",
        "model.add(LSTM(32))\n",
        "model.add(Dense(46, activation='softmax'))\n",
        "\n",
        "#model.summary()\n",
        "\n",
        "model.compile(optimizer='rmsprop', \n",
        "             loss='categorical_crossentropy',\n",
        "              metrics=['acc']) \n",
        "\n",
        "LSTM_model=model.fit(input_train, y_train,\n",
        "                    epochs=10,\n",
        "                    batch_size=128,\n",
        "                    validation_split=0.2)"
      ],
      "execution_count": 13,
      "outputs": [
        {
          "output_type": "stream",
          "text": [
            "WARNING:tensorflow:From /usr/local/lib/python3.6/dist-packages/tensorflow/python/ops/math_ops.py:3066: to_int32 (from tensorflow.python.ops.math_ops) is deprecated and will be removed in a future version.\n",
            "Instructions for updating:\n",
            "Use tf.cast instead.\n",
            "Train on 7185 samples, validate on 1797 samples\n",
            "Epoch 1/10\n",
            "7185/7185 [==============================] - 54s 7ms/step - loss: 2.4364 - acc: 0.4099 - val_loss: 1.9266 - val_acc: 0.5109\n",
            "Epoch 2/10\n",
            "7185/7185 [==============================] - 50s 7ms/step - loss: 1.7395 - acc: 0.5705 - val_loss: 1.8027 - val_acc: 0.5593\n",
            "Epoch 3/10\n",
            "7185/7185 [==============================] - 50s 7ms/step - loss: 1.5752 - acc: 0.6246 - val_loss: 1.5927 - val_acc: 0.6171\n",
            "Epoch 4/10\n",
            "7185/7185 [==============================] - 50s 7ms/step - loss: 1.4024 - acc: 0.6640 - val_loss: 1.4933 - val_acc: 0.6288\n",
            "Epoch 5/10\n",
            "7185/7185 [==============================] - 50s 7ms/step - loss: 1.2230 - acc: 0.7006 - val_loss: 1.4196 - val_acc: 0.6489\n",
            "Epoch 6/10\n",
            "7185/7185 [==============================] - 50s 7ms/step - loss: 1.0875 - acc: 0.7329 - val_loss: 1.4469 - val_acc: 0.6505\n",
            "Epoch 7/10\n",
            "7185/7185 [==============================] - 51s 7ms/step - loss: 0.9570 - acc: 0.7704 - val_loss: 1.3473 - val_acc: 0.6950\n",
            "Epoch 8/10\n",
            "7185/7185 [==============================] - 51s 7ms/step - loss: 0.8772 - acc: 0.7873 - val_loss: 1.3200 - val_acc: 0.6978\n",
            "Epoch 9/10\n",
            "7185/7185 [==============================] - 50s 7ms/step - loss: 0.7856 - acc: 0.8102 - val_loss: 1.3718 - val_acc: 0.6706\n",
            "Epoch 10/10\n",
            "7185/7185 [==============================] - 50s 7ms/step - loss: 0.7052 - acc: 0.8312 - val_loss: 1.3816 - val_acc: 0.6867\n"
          ],
          "name": "stdout"
        }
      ]
    },
    {
      "metadata": {
        "id": "i6Ku_Bd3Rx3q",
        "colab_type": "code",
        "outputId": "0ff9665c-bc96-42c5-9c75-094c2b3aeb59",
        "colab": {
          "base_uri": "https://localhost:8080/",
          "height": 725
        }
      },
      "cell_type": "code",
      "source": [
        "import matplotlib.pyplot as plt\n",
        "\n",
        "acc = LSTM_model.history['acc']\n",
        "val_acc = LSTM_model.history['val_acc']\n",
        "loss =  LSTM_model.history['loss']\n",
        "val_loss =  LSTM_model.history['val_loss']\n",
        "\n",
        "epochs = range(len(acc))\n",
        "\n",
        "plt.plot(epochs,acc,'bo',label='Training accuracy')\n",
        "plt.plot(epochs,val_acc,'r',label = \"valudation accuracy\")\n",
        "plt.title('Training and Validation Accuracy')\n",
        "plt.legend()\n",
        "\n",
        "plt.figure()\n",
        "\n",
        "plt.plot(epochs, loss, 'bo', label='Training loss')\n",
        "plt.plot(epochs, val_loss, 'r', label='Validation loss')\n",
        "plt.title('Training and validation loss')\n",
        "plt.legend()\n"
      ],
      "execution_count": 14,
      "outputs": [
        {
          "output_type": "execute_result",
          "data": {
            "text/plain": [
              "<matplotlib.legend.Legend at 0x7fddd919ab38>"
            ]
          },
          "metadata": {
            "tags": []
          },
          "execution_count": 14
        },
        {
          "output_type": "display_data",
          "data": {
            "image/png": "[encoded data removed]",
            "text/plain": [
              "<Figure size 576x396 with 1 Axes>"
            ]
          },
          "metadata": {
            "tags": []
          }
        },
        {
          "output_type": "display_data",
          "data": {
            "image/png": "[encoded data removed]",
            "text/plain": [
              "<Figure size 576x396 with 1 Axes>"
            ]
          },
          "metadata": {
            "tags": []
          }
        }
      ]
    },
    {
      "metadata": {
        "id": "v7iyv1ORRxz5",
        "colab_type": "code",
        "colab": {}
      },
      "cell_type": "code",
      "source": [
        ""
      ],
      "execution_count": 0,
      "outputs": []
    },
    {
      "metadata": {
        "id": "Whgt3NQPRxq1",
        "colab_type": "code",
        "colab": {}
      },
      "cell_type": "code",
      "source": [
        ""
      ],
      "execution_count": 0,
      "outputs": []
    }
  ]
}